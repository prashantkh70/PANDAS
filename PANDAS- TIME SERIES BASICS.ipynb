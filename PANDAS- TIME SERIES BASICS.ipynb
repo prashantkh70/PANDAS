{
 "cells": [
  {
   "cell_type": "markdown",
   "metadata": {},
   "source": [
    "### Importing time series data from csv_files"
   ]
  },
  {
   "cell_type": "code",
   "execution_count": 1,
   "metadata": {},
   "outputs": [],
   "source": [
    "import pandas as pd"
   ]
  },
  {
   "cell_type": "code",
   "execution_count": 3,
   "metadata": {},
   "outputs": [],
   "source": [
    "temp= pd.read_csv(\"temp.csv\")"
   ]
  },
  {
   "cell_type": "code",
   "execution_count": 5,
   "metadata": {},
   "outputs": [
    {
     "data": {
      "text/html": [
       "<div>\n",
       "<style scoped>\n",
       "    .dataframe tbody tr th:only-of-type {\n",
       "        vertical-align: middle;\n",
       "    }\n",
       "\n",
       "    .dataframe tbody tr th {\n",
       "        vertical-align: top;\n",
       "    }\n",
       "\n",
       "    .dataframe thead th {\n",
       "        text-align: right;\n",
       "    }\n",
       "</style>\n",
       "<table border=\"1\" class=\"dataframe\">\n",
       "  <thead>\n",
       "    <tr style=\"text-align: right;\">\n",
       "      <th></th>\n",
       "      <th>datetime</th>\n",
       "      <th>LA</th>\n",
       "      <th>NY</th>\n",
       "    </tr>\n",
       "  </thead>\n",
       "  <tbody>\n",
       "    <tr>\n",
       "      <td>0</td>\n",
       "      <td>2013-01-01 00:00:00</td>\n",
       "      <td>11.7</td>\n",
       "      <td>-1.1</td>\n",
       "    </tr>\n",
       "    <tr>\n",
       "      <td>1</td>\n",
       "      <td>2013-01-01 01:00:00</td>\n",
       "      <td>10.7</td>\n",
       "      <td>-1.7</td>\n",
       "    </tr>\n",
       "    <tr>\n",
       "      <td>2</td>\n",
       "      <td>2013-01-01 02:00:00</td>\n",
       "      <td>9.9</td>\n",
       "      <td>-2.0</td>\n",
       "    </tr>\n",
       "    <tr>\n",
       "      <td>3</td>\n",
       "      <td>2013-01-01 03:00:00</td>\n",
       "      <td>9.3</td>\n",
       "      <td>-2.1</td>\n",
       "    </tr>\n",
       "    <tr>\n",
       "      <td>4</td>\n",
       "      <td>2013-01-01 04:00:00</td>\n",
       "      <td>8.8</td>\n",
       "      <td>-2.3</td>\n",
       "    </tr>\n",
       "  </tbody>\n",
       "</table>\n",
       "</div>"
      ],
      "text/plain": [
       "              datetime    LA   NY\n",
       "0  2013-01-01 00:00:00  11.7 -1.1\n",
       "1  2013-01-01 01:00:00  10.7 -1.7\n",
       "2  2013-01-01 02:00:00   9.9 -2.0\n",
       "3  2013-01-01 03:00:00   9.3 -2.1\n",
       "4  2013-01-01 04:00:00   8.8 -2.3"
      ]
     },
     "execution_count": 5,
     "metadata": {},
     "output_type": "execute_result"
    }
   ],
   "source": [
    "temp.head()"
   ]
  },
  {
   "cell_type": "code",
   "execution_count": 6,
   "metadata": {},
   "outputs": [
    {
     "name": "stdout",
     "output_type": "stream",
     "text": [
      "<class 'pandas.core.frame.DataFrame'>\n",
      "RangeIndex: 35064 entries, 0 to 35063\n",
      "Data columns (total 3 columns):\n",
      "datetime    35064 non-null object\n",
      "LA          35062 non-null float64\n",
      "NY          35064 non-null float64\n",
      "dtypes: float64(2), object(1)\n",
      "memory usage: 821.9+ KB\n"
     ]
    }
   ],
   "source": [
    "temp.info()   # here we have datetime as a object datatime i.e strings. So we need to convert at first while importing."
   ]
  },
  {
   "cell_type": "code",
   "execution_count": 10,
   "metadata": {},
   "outputs": [],
   "source": [
    "temp= pd.read_csv(\"temp.csv\",parse_dates=['datetime'])"
   ]
  },
  {
   "cell_type": "code",
   "execution_count": 11,
   "metadata": {},
   "outputs": [
    {
     "name": "stdout",
     "output_type": "stream",
     "text": [
      "<class 'pandas.core.frame.DataFrame'>\n",
      "RangeIndex: 35064 entries, 0 to 35063\n",
      "Data columns (total 3 columns):\n",
      "datetime    35064 non-null datetime64[ns]\n",
      "LA          35062 non-null float64\n",
      "NY          35064 non-null float64\n",
      "dtypes: datetime64[ns](1), float64(2)\n",
      "memory usage: 821.9 KB\n"
     ]
    }
   ],
   "source": [
    "temp.info()   # we have changed the date and time into datetime type which is necessary for further analysis."
   ]
  },
  {
   "cell_type": "code",
   "execution_count": 12,
   "metadata": {},
   "outputs": [
    {
     "data": {
      "text/plain": [
       "Timestamp('2013-01-01 00:00:00')"
      ]
     },
     "execution_count": 12,
     "metadata": {},
     "output_type": "execute_result"
    }
   ],
   "source": [
    "temp.iloc[0,0]   #Timestamp - is single point in time "
   ]
  },
  {
   "cell_type": "code",
   "execution_count": 13,
   "metadata": {},
   "outputs": [
    {
     "data": {
      "text/plain": [
       "pandas._libs.tslibs.timestamps.Timestamp"
      ]
     },
     "execution_count": 13,
     "metadata": {},
     "output_type": "execute_result"
    }
   ],
   "source": [
    "type(temp.iloc[0,0])  # timestamp is specific pandas's datatype which store the date and time information.\n",
    "                        # generally datatime should be index of the dataframe."
   ]
  },
  {
   "cell_type": "code",
   "execution_count": 15,
   "metadata": {},
   "outputs": [],
   "source": [
    "temp= pd.read_csv(\"temp.csv\",parse_dates=['datetime'],index_col=\"datetime\")"
   ]
  },
  {
   "cell_type": "code",
   "execution_count": 17,
   "metadata": {},
   "outputs": [
    {
     "data": {
      "text/html": [
       "<div>\n",
       "<style scoped>\n",
       "    .dataframe tbody tr th:only-of-type {\n",
       "        vertical-align: middle;\n",
       "    }\n",
       "\n",
       "    .dataframe tbody tr th {\n",
       "        vertical-align: top;\n",
       "    }\n",
       "\n",
       "    .dataframe thead th {\n",
       "        text-align: right;\n",
       "    }\n",
       "</style>\n",
       "<table border=\"1\" class=\"dataframe\">\n",
       "  <thead>\n",
       "    <tr style=\"text-align: right;\">\n",
       "      <th></th>\n",
       "      <th>LA</th>\n",
       "      <th>NY</th>\n",
       "    </tr>\n",
       "    <tr>\n",
       "      <th>datetime</th>\n",
       "      <th></th>\n",
       "      <th></th>\n",
       "    </tr>\n",
       "  </thead>\n",
       "  <tbody>\n",
       "    <tr>\n",
       "      <td>2013-01-01 00:00:00</td>\n",
       "      <td>11.7</td>\n",
       "      <td>-1.1</td>\n",
       "    </tr>\n",
       "    <tr>\n",
       "      <td>2013-01-01 01:00:00</td>\n",
       "      <td>10.7</td>\n",
       "      <td>-1.7</td>\n",
       "    </tr>\n",
       "    <tr>\n",
       "      <td>2013-01-01 02:00:00</td>\n",
       "      <td>9.9</td>\n",
       "      <td>-2.0</td>\n",
       "    </tr>\n",
       "    <tr>\n",
       "      <td>2013-01-01 03:00:00</td>\n",
       "      <td>9.3</td>\n",
       "      <td>-2.1</td>\n",
       "    </tr>\n",
       "    <tr>\n",
       "      <td>2013-01-01 04:00:00</td>\n",
       "      <td>8.8</td>\n",
       "      <td>-2.3</td>\n",
       "    </tr>\n",
       "  </tbody>\n",
       "</table>\n",
       "</div>"
      ],
      "text/plain": [
       "                       LA   NY\n",
       "datetime                      \n",
       "2013-01-01 00:00:00  11.7 -1.1\n",
       "2013-01-01 01:00:00  10.7 -1.7\n",
       "2013-01-01 02:00:00   9.9 -2.0\n",
       "2013-01-01 03:00:00   9.3 -2.1\n",
       "2013-01-01 04:00:00   8.8 -2.3"
      ]
     },
     "execution_count": 17,
     "metadata": {},
     "output_type": "execute_result"
    }
   ],
   "source": [
    "temp.head()"
   ]
  },
  {
   "cell_type": "code",
   "execution_count": 19,
   "metadata": {},
   "outputs": [
    {
     "name": "stdout",
     "output_type": "stream",
     "text": [
      "<class 'pandas.core.frame.DataFrame'>\n",
      "DatetimeIndex: 35064 entries, 2013-01-01 00:00:00 to 2016-12-31 23:00:00\n",
      "Data columns (total 2 columns):\n",
      "LA    35062 non-null float64\n",
      "NY    35064 non-null float64\n",
      "dtypes: float64(2)\n",
      "memory usage: 821.8 KB\n"
     ]
    }
   ],
   "source": [
    "temp.info()"
   ]
  },
  {
   "cell_type": "code",
   "execution_count": 20,
   "metadata": {},
   "outputs": [
    {
     "data": {
      "text/plain": [
       "DatetimeIndex(['2013-01-01 00:00:00', '2013-01-01 01:00:00',\n",
       "               '2013-01-01 02:00:00', '2013-01-01 03:00:00',\n",
       "               '2013-01-01 04:00:00', '2013-01-01 05:00:00',\n",
       "               '2013-01-01 06:00:00', '2013-01-01 07:00:00',\n",
       "               '2013-01-01 08:00:00', '2013-01-01 09:00:00',\n",
       "               ...\n",
       "               '2016-12-31 14:00:00', '2016-12-31 15:00:00',\n",
       "               '2016-12-31 16:00:00', '2016-12-31 17:00:00',\n",
       "               '2016-12-31 18:00:00', '2016-12-31 19:00:00',\n",
       "               '2016-12-31 20:00:00', '2016-12-31 21:00:00',\n",
       "               '2016-12-31 22:00:00', '2016-12-31 23:00:00'],\n",
       "              dtype='datetime64[ns]', name='datetime', length=35064, freq=None)"
      ]
     },
     "execution_count": 20,
     "metadata": {},
     "output_type": "execute_result"
    }
   ],
   "source": [
    "temp.index"
   ]
  },
  {
   "cell_type": "code",
   "execution_count": 21,
   "metadata": {},
   "outputs": [
    {
     "data": {
      "text/plain": [
       "Timestamp('2013-01-01 00:00:00')"
      ]
     },
     "execution_count": 21,
     "metadata": {},
     "output_type": "execute_result"
    }
   ],
   "source": [
    "temp.index[0]   # selecting very first element"
   ]
  },
  {
   "cell_type": "markdown",
   "metadata": {},
   "source": [
    "### Converting strings into datatime objects with pd.to_datetime()"
   ]
  },
  {
   "cell_type": "code",
   "execution_count": 22,
   "metadata": {},
   "outputs": [],
   "source": [
    "temp=pd.read_csv(\"temp.csv\")"
   ]
  },
  {
   "cell_type": "code",
   "execution_count": 23,
   "metadata": {},
   "outputs": [
    {
     "data": {
      "text/html": [
       "<div>\n",
       "<style scoped>\n",
       "    .dataframe tbody tr th:only-of-type {\n",
       "        vertical-align: middle;\n",
       "    }\n",
       "\n",
       "    .dataframe tbody tr th {\n",
       "        vertical-align: top;\n",
       "    }\n",
       "\n",
       "    .dataframe thead th {\n",
       "        text-align: right;\n",
       "    }\n",
       "</style>\n",
       "<table border=\"1\" class=\"dataframe\">\n",
       "  <thead>\n",
       "    <tr style=\"text-align: right;\">\n",
       "      <th></th>\n",
       "      <th>datetime</th>\n",
       "      <th>LA</th>\n",
       "      <th>NY</th>\n",
       "    </tr>\n",
       "  </thead>\n",
       "  <tbody>\n",
       "    <tr>\n",
       "      <td>0</td>\n",
       "      <td>2013-01-01 00:00:00</td>\n",
       "      <td>11.7</td>\n",
       "      <td>-1.1</td>\n",
       "    </tr>\n",
       "    <tr>\n",
       "      <td>1</td>\n",
       "      <td>2013-01-01 01:00:00</td>\n",
       "      <td>10.7</td>\n",
       "      <td>-1.7</td>\n",
       "    </tr>\n",
       "    <tr>\n",
       "      <td>2</td>\n",
       "      <td>2013-01-01 02:00:00</td>\n",
       "      <td>9.9</td>\n",
       "      <td>-2.0</td>\n",
       "    </tr>\n",
       "    <tr>\n",
       "      <td>3</td>\n",
       "      <td>2013-01-01 03:00:00</td>\n",
       "      <td>9.3</td>\n",
       "      <td>-2.1</td>\n",
       "    </tr>\n",
       "    <tr>\n",
       "      <td>4</td>\n",
       "      <td>2013-01-01 04:00:00</td>\n",
       "      <td>8.8</td>\n",
       "      <td>-2.3</td>\n",
       "    </tr>\n",
       "  </tbody>\n",
       "</table>\n",
       "</div>"
      ],
      "text/plain": [
       "              datetime    LA   NY\n",
       "0  2013-01-01 00:00:00  11.7 -1.1\n",
       "1  2013-01-01 01:00:00  10.7 -1.7\n",
       "2  2013-01-01 02:00:00   9.9 -2.0\n",
       "3  2013-01-01 03:00:00   9.3 -2.1\n",
       "4  2013-01-01 04:00:00   8.8 -2.3"
      ]
     },
     "execution_count": 23,
     "metadata": {},
     "output_type": "execute_result"
    }
   ],
   "source": [
    "temp.head()"
   ]
  },
  {
   "cell_type": "code",
   "execution_count": 24,
   "metadata": {},
   "outputs": [
    {
     "name": "stdout",
     "output_type": "stream",
     "text": [
      "<class 'pandas.core.frame.DataFrame'>\n",
      "RangeIndex: 35064 entries, 0 to 35063\n",
      "Data columns (total 3 columns):\n",
      "datetime    35064 non-null object\n",
      "LA          35062 non-null float64\n",
      "NY          35064 non-null float64\n",
      "dtypes: float64(2), object(1)\n",
      "memory usage: 821.9+ KB\n"
     ]
    }
   ],
   "source": [
    "temp.info()"
   ]
  },
  {
   "cell_type": "code",
   "execution_count": 25,
   "metadata": {},
   "outputs": [
    {
     "data": {
      "text/plain": [
       "0        2013-01-01 00:00:00\n",
       "1        2013-01-01 01:00:00\n",
       "2        2013-01-01 02:00:00\n",
       "3        2013-01-01 03:00:00\n",
       "4        2013-01-01 04:00:00\n",
       "                ...         \n",
       "35059    2016-12-31 19:00:00\n",
       "35060    2016-12-31 20:00:00\n",
       "35061    2016-12-31 21:00:00\n",
       "35062    2016-12-31 22:00:00\n",
       "35063    2016-12-31 23:00:00\n",
       "Name: datetime, Length: 35064, dtype: object"
      ]
     },
     "execution_count": 25,
     "metadata": {},
     "output_type": "execute_result"
    }
   ],
   "source": [
    "temp.datetime"
   ]
  },
  {
   "cell_type": "code",
   "execution_count": 26,
   "metadata": {},
   "outputs": [
    {
     "data": {
      "text/plain": [
       "0       2013-01-01 00:00:00\n",
       "1       2013-01-01 01:00:00\n",
       "2       2013-01-01 02:00:00\n",
       "3       2013-01-01 03:00:00\n",
       "4       2013-01-01 04:00:00\n",
       "                ...        \n",
       "35059   2016-12-31 19:00:00\n",
       "35060   2016-12-31 20:00:00\n",
       "35061   2016-12-31 21:00:00\n",
       "35062   2016-12-31 22:00:00\n",
       "35063   2016-12-31 23:00:00\n",
       "Name: datetime, Length: 35064, dtype: datetime64[ns]"
      ]
     },
     "execution_count": 26,
     "metadata": {},
     "output_type": "execute_result"
    }
   ],
   "source": [
    "pd.to_datetime(temp.datetime)  # directly converting strings into datetime datatype by using pd.to_datetime()  #OR"
   ]
  },
  {
   "cell_type": "code",
   "execution_count": 28,
   "metadata": {},
   "outputs": [
    {
     "data": {
      "text/html": [
       "<div>\n",
       "<style scoped>\n",
       "    .dataframe tbody tr th:only-of-type {\n",
       "        vertical-align: middle;\n",
       "    }\n",
       "\n",
       "    .dataframe tbody tr th {\n",
       "        vertical-align: top;\n",
       "    }\n",
       "\n",
       "    .dataframe thead th {\n",
       "        text-align: right;\n",
       "    }\n",
       "</style>\n",
       "<table border=\"1\" class=\"dataframe\">\n",
       "  <thead>\n",
       "    <tr style=\"text-align: right;\">\n",
       "      <th></th>\n",
       "      <th>datetime</th>\n",
       "      <th>LA</th>\n",
       "      <th>NY</th>\n",
       "    </tr>\n",
       "    <tr>\n",
       "      <th>datetime</th>\n",
       "      <th></th>\n",
       "      <th></th>\n",
       "      <th></th>\n",
       "    </tr>\n",
       "  </thead>\n",
       "  <tbody>\n",
       "    <tr>\n",
       "      <td>2013-01-01 00:00:00</td>\n",
       "      <td>2013-01-01 00:00:00</td>\n",
       "      <td>11.7</td>\n",
       "      <td>-1.1</td>\n",
       "    </tr>\n",
       "    <tr>\n",
       "      <td>2013-01-01 01:00:00</td>\n",
       "      <td>2013-01-01 01:00:00</td>\n",
       "      <td>10.7</td>\n",
       "      <td>-1.7</td>\n",
       "    </tr>\n",
       "    <tr>\n",
       "      <td>2013-01-01 02:00:00</td>\n",
       "      <td>2013-01-01 02:00:00</td>\n",
       "      <td>9.9</td>\n",
       "      <td>-2.0</td>\n",
       "    </tr>\n",
       "    <tr>\n",
       "      <td>2013-01-01 03:00:00</td>\n",
       "      <td>2013-01-01 03:00:00</td>\n",
       "      <td>9.3</td>\n",
       "      <td>-2.1</td>\n",
       "    </tr>\n",
       "    <tr>\n",
       "      <td>2013-01-01 04:00:00</td>\n",
       "      <td>2013-01-01 04:00:00</td>\n",
       "      <td>8.8</td>\n",
       "      <td>-2.3</td>\n",
       "    </tr>\n",
       "    <tr>\n",
       "      <td>...</td>\n",
       "      <td>...</td>\n",
       "      <td>...</td>\n",
       "      <td>...</td>\n",
       "    </tr>\n",
       "    <tr>\n",
       "      <td>2016-12-31 19:00:00</td>\n",
       "      <td>2016-12-31 19:00:00</td>\n",
       "      <td>13.5</td>\n",
       "      <td>4.6</td>\n",
       "    </tr>\n",
       "    <tr>\n",
       "      <td>2016-12-31 20:00:00</td>\n",
       "      <td>2016-12-31 20:00:00</td>\n",
       "      <td>13.2</td>\n",
       "      <td>5.7</td>\n",
       "    </tr>\n",
       "    <tr>\n",
       "      <td>2016-12-31 21:00:00</td>\n",
       "      <td>2016-12-31 21:00:00</td>\n",
       "      <td>12.8</td>\n",
       "      <td>5.8</td>\n",
       "    </tr>\n",
       "    <tr>\n",
       "      <td>2016-12-31 22:00:00</td>\n",
       "      <td>2016-12-31 22:00:00</td>\n",
       "      <td>12.3</td>\n",
       "      <td>5.7</td>\n",
       "    </tr>\n",
       "    <tr>\n",
       "      <td>2016-12-31 23:00:00</td>\n",
       "      <td>2016-12-31 23:00:00</td>\n",
       "      <td>11.9</td>\n",
       "      <td>5.5</td>\n",
       "    </tr>\n",
       "  </tbody>\n",
       "</table>\n",
       "<p>35064 rows × 3 columns</p>\n",
       "</div>"
      ],
      "text/plain": [
       "                                datetime    LA   NY\n",
       "datetime                                           \n",
       "2013-01-01 00:00:00  2013-01-01 00:00:00  11.7 -1.1\n",
       "2013-01-01 01:00:00  2013-01-01 01:00:00  10.7 -1.7\n",
       "2013-01-01 02:00:00  2013-01-01 02:00:00   9.9 -2.0\n",
       "2013-01-01 03:00:00  2013-01-01 03:00:00   9.3 -2.1\n",
       "2013-01-01 04:00:00  2013-01-01 04:00:00   8.8 -2.3\n",
       "...                                  ...   ...  ...\n",
       "2016-12-31 19:00:00  2016-12-31 19:00:00  13.5  4.6\n",
       "2016-12-31 20:00:00  2016-12-31 20:00:00  13.2  5.7\n",
       "2016-12-31 21:00:00  2016-12-31 21:00:00  12.8  5.8\n",
       "2016-12-31 22:00:00  2016-12-31 22:00:00  12.3  5.7\n",
       "2016-12-31 23:00:00  2016-12-31 23:00:00  11.9  5.5\n",
       "\n",
       "[35064 rows x 3 columns]"
      ]
     },
     "execution_count": 28,
     "metadata": {},
     "output_type": "execute_result"
    }
   ],
   "source": [
    "temp.set_index(pd.to_datetime(temp.datetime))"
   ]
  },
  {
   "cell_type": "code",
   "execution_count": 29,
   "metadata": {},
   "outputs": [
    {
     "data": {
      "text/html": [
       "<div>\n",
       "<style scoped>\n",
       "    .dataframe tbody tr th:only-of-type {\n",
       "        vertical-align: middle;\n",
       "    }\n",
       "\n",
       "    .dataframe tbody tr th {\n",
       "        vertical-align: top;\n",
       "    }\n",
       "\n",
       "    .dataframe thead th {\n",
       "        text-align: right;\n",
       "    }\n",
       "</style>\n",
       "<table border=\"1\" class=\"dataframe\">\n",
       "  <thead>\n",
       "    <tr style=\"text-align: right;\">\n",
       "      <th></th>\n",
       "      <th>LA</th>\n",
       "      <th>NY</th>\n",
       "    </tr>\n",
       "    <tr>\n",
       "      <th>datetime</th>\n",
       "      <th></th>\n",
       "      <th></th>\n",
       "    </tr>\n",
       "  </thead>\n",
       "  <tbody>\n",
       "    <tr>\n",
       "      <td>2013-01-01 00:00:00</td>\n",
       "      <td>11.7</td>\n",
       "      <td>-1.1</td>\n",
       "    </tr>\n",
       "    <tr>\n",
       "      <td>2013-01-01 01:00:00</td>\n",
       "      <td>10.7</td>\n",
       "      <td>-1.7</td>\n",
       "    </tr>\n",
       "    <tr>\n",
       "      <td>2013-01-01 02:00:00</td>\n",
       "      <td>9.9</td>\n",
       "      <td>-2.0</td>\n",
       "    </tr>\n",
       "    <tr>\n",
       "      <td>2013-01-01 03:00:00</td>\n",
       "      <td>9.3</td>\n",
       "      <td>-2.1</td>\n",
       "    </tr>\n",
       "    <tr>\n",
       "      <td>2013-01-01 04:00:00</td>\n",
       "      <td>8.8</td>\n",
       "      <td>-2.3</td>\n",
       "    </tr>\n",
       "    <tr>\n",
       "      <td>...</td>\n",
       "      <td>...</td>\n",
       "      <td>...</td>\n",
       "    </tr>\n",
       "    <tr>\n",
       "      <td>2016-12-31 19:00:00</td>\n",
       "      <td>13.5</td>\n",
       "      <td>4.6</td>\n",
       "    </tr>\n",
       "    <tr>\n",
       "      <td>2016-12-31 20:00:00</td>\n",
       "      <td>13.2</td>\n",
       "      <td>5.7</td>\n",
       "    </tr>\n",
       "    <tr>\n",
       "      <td>2016-12-31 21:00:00</td>\n",
       "      <td>12.8</td>\n",
       "      <td>5.8</td>\n",
       "    </tr>\n",
       "    <tr>\n",
       "      <td>2016-12-31 22:00:00</td>\n",
       "      <td>12.3</td>\n",
       "      <td>5.7</td>\n",
       "    </tr>\n",
       "    <tr>\n",
       "      <td>2016-12-31 23:00:00</td>\n",
       "      <td>11.9</td>\n",
       "      <td>5.5</td>\n",
       "    </tr>\n",
       "  </tbody>\n",
       "</table>\n",
       "<p>35064 rows × 2 columns</p>\n",
       "</div>"
      ],
      "text/plain": [
       "                       LA   NY\n",
       "datetime                      \n",
       "2013-01-01 00:00:00  11.7 -1.1\n",
       "2013-01-01 01:00:00  10.7 -1.7\n",
       "2013-01-01 02:00:00   9.9 -2.0\n",
       "2013-01-01 03:00:00   9.3 -2.1\n",
       "2013-01-01 04:00:00   8.8 -2.3\n",
       "...                   ...  ...\n",
       "2016-12-31 19:00:00  13.5  4.6\n",
       "2016-12-31 20:00:00  13.2  5.7\n",
       "2016-12-31 21:00:00  12.8  5.8\n",
       "2016-12-31 22:00:00  12.3  5.7\n",
       "2016-12-31 23:00:00  11.9  5.5\n",
       "\n",
       "[35064 rows x 2 columns]"
      ]
     },
     "execution_count": 29,
     "metadata": {},
     "output_type": "execute_result"
    }
   ],
   "source": [
    "temp.set_index(pd.to_datetime(temp.datetime)).drop('datetime',axis=1)"
   ]
  },
  {
   "cell_type": "code",
   "execution_count": 30,
   "metadata": {},
   "outputs": [
    {
     "data": {
      "text/html": [
       "<div>\n",
       "<style scoped>\n",
       "    .dataframe tbody tr th:only-of-type {\n",
       "        vertical-align: middle;\n",
       "    }\n",
       "\n",
       "    .dataframe tbody tr th {\n",
       "        vertical-align: top;\n",
       "    }\n",
       "\n",
       "    .dataframe thead th {\n",
       "        text-align: right;\n",
       "    }\n",
       "</style>\n",
       "<table border=\"1\" class=\"dataframe\">\n",
       "  <thead>\n",
       "    <tr style=\"text-align: right;\">\n",
       "      <th></th>\n",
       "      <th>datetime</th>\n",
       "      <th>LA</th>\n",
       "      <th>NY</th>\n",
       "    </tr>\n",
       "  </thead>\n",
       "  <tbody>\n",
       "    <tr>\n",
       "      <td>0</td>\n",
       "      <td>2013-01-01 00:00:00</td>\n",
       "      <td>11.7</td>\n",
       "      <td>-1.1</td>\n",
       "    </tr>\n",
       "    <tr>\n",
       "      <td>1</td>\n",
       "      <td>2013-01-01 01:00:00</td>\n",
       "      <td>10.7</td>\n",
       "      <td>-1.7</td>\n",
       "    </tr>\n",
       "    <tr>\n",
       "      <td>2</td>\n",
       "      <td>2013-01-01 02:00:00</td>\n",
       "      <td>9.9</td>\n",
       "      <td>-2.0</td>\n",
       "    </tr>\n",
       "    <tr>\n",
       "      <td>3</td>\n",
       "      <td>2013-01-01 03:00:00</td>\n",
       "      <td>9.3</td>\n",
       "      <td>-2.1</td>\n",
       "    </tr>\n",
       "    <tr>\n",
       "      <td>4</td>\n",
       "      <td>2013-01-01 04:00:00</td>\n",
       "      <td>8.8</td>\n",
       "      <td>-2.3</td>\n",
       "    </tr>\n",
       "  </tbody>\n",
       "</table>\n",
       "</div>"
      ],
      "text/plain": [
       "              datetime    LA   NY\n",
       "0  2013-01-01 00:00:00  11.7 -1.1\n",
       "1  2013-01-01 01:00:00  10.7 -1.7\n",
       "2  2013-01-01 02:00:00   9.9 -2.0\n",
       "3  2013-01-01 03:00:00   9.3 -2.1\n",
       "4  2013-01-01 04:00:00   8.8 -2.3"
      ]
     },
     "execution_count": 30,
     "metadata": {},
     "output_type": "execute_result"
    }
   ],
   "source": [
    "temp.head()"
   ]
  },
  {
   "cell_type": "code",
   "execution_count": 31,
   "metadata": {},
   "outputs": [
    {
     "name": "stdout",
     "output_type": "stream",
     "text": [
      "<class 'pandas.core.frame.DataFrame'>\n",
      "RangeIndex: 35064 entries, 0 to 35063\n",
      "Data columns (total 3 columns):\n",
      "datetime    35064 non-null object\n",
      "LA          35062 non-null float64\n",
      "NY          35064 non-null float64\n",
      "dtypes: float64(2), object(1)\n",
      "memory usage: 821.9+ KB\n"
     ]
    }
   ],
   "source": [
    "temp.info()"
   ]
  },
  {
   "cell_type": "code",
   "execution_count": 33,
   "metadata": {},
   "outputs": [
    {
     "data": {
      "text/plain": [
       "0"
      ]
     },
     "execution_count": 33,
     "metadata": {},
     "output_type": "execute_result"
    }
   ],
   "source": [
    "temp.index[0]"
   ]
  },
  {
   "cell_type": "markdown",
   "metadata": {},
   "source": [
    "#### Formats for the datetime    - ##format should be YYYY-MM-DD"
   ]
  },
  {
   "cell_type": "code",
   "execution_count": 34,
   "metadata": {},
   "outputs": [
    {
     "data": {
      "text/plain": [
       "Timestamp('2015-05-20 00:00:00')"
      ]
     },
     "execution_count": 34,
     "metadata": {},
     "output_type": "execute_result"
    }
   ],
   "source": [
    "pd.to_datetime(\"2015-05-20\")"
   ]
  },
  {
   "cell_type": "code",
   "execution_count": 35,
   "metadata": {},
   "outputs": [
    {
     "data": {
      "text/plain": [
       "Timestamp('2015-05-20 00:00:00')"
      ]
     },
     "execution_count": 35,
     "metadata": {},
     "output_type": "execute_result"
    }
   ],
   "source": [
    "pd.to_datetime(\"20150520\")"
   ]
  },
  {
   "cell_type": "code",
   "execution_count": 36,
   "metadata": {},
   "outputs": [
    {
     "data": {
      "text/plain": [
       "Timestamp('2015-05-20 00:00:00')"
      ]
     },
     "execution_count": 36,
     "metadata": {},
     "output_type": "execute_result"
    }
   ],
   "source": [
    "pd.to_datetime(\"2015/05/20\")"
   ]
  },
  {
   "cell_type": "code",
   "execution_count": 38,
   "metadata": {},
   "outputs": [
    {
     "data": {
      "text/plain": [
       "Timestamp('2015-05-20 00:00:00')"
      ]
     },
     "execution_count": 38,
     "metadata": {},
     "output_type": "execute_result"
    }
   ],
   "source": [
    "pd.to_datetime(\"2015.05.20\")"
   ]
  },
  {
   "cell_type": "code",
   "execution_count": 39,
   "metadata": {},
   "outputs": [
    {
     "data": {
      "text/plain": [
       "Timestamp('2015-05-20 00:00:00')"
      ]
     },
     "execution_count": 39,
     "metadata": {},
     "output_type": "execute_result"
    }
   ],
   "source": [
    "pd.to_datetime(\"2015 05 20\")"
   ]
  },
  {
   "cell_type": "code",
   "execution_count": 42,
   "metadata": {},
   "outputs": [
    {
     "data": {
      "text/plain": [
       "Timestamp('2015-05-20 00:00:00')"
      ]
     },
     "execution_count": 42,
     "metadata": {},
     "output_type": "execute_result"
    }
   ],
   "source": [
    "pd.to_datetime(\"2015 May 20\")   # By changing month by date and date by month ,pandas throws the error."
   ]
  },
  {
   "cell_type": "code",
   "execution_count": 45,
   "metadata": {},
   "outputs": [
    {
     "data": {
      "text/plain": [
       "Timestamp('2015-05-20 00:00:00')"
      ]
     },
     "execution_count": 45,
     "metadata": {},
     "output_type": "execute_result"
    }
   ],
   "source": [
    "pd.to_datetime(\"2015 20th may\")   # This also works"
   ]
  },
  {
   "cell_type": "code",
   "execution_count": 46,
   "metadata": {},
   "outputs": [
    {
     "data": {
      "text/plain": [
       "DatetimeIndex(['2015-05-20', '2015-02-20'], dtype='datetime64[ns]', freq=None)"
      ]
     },
     "execution_count": 46,
     "metadata": {},
     "output_type": "execute_result"
    }
   ],
   "source": [
    "pd.to_datetime([\"2015-05-20\",\"Feb 20 2015\"])   # Passing sequence of list to Two date time method \n",
    "                                                # Whenever we pass more date, it shows datetime index."
   ]
  },
  {
   "cell_type": "code",
   "execution_count": 49,
   "metadata": {
    "scrolled": true
   },
   "outputs": [
    {
     "ename": "ValueError",
     "evalue": "('Unknown string format:', 'Elephant')",
     "output_type": "error",
     "traceback": [
      "\u001b[1;31m---------------------------------------------------------------------------\u001b[0m",
      "\u001b[1;31mTypeError\u001b[0m                                 Traceback (most recent call last)",
      "\u001b[1;32m~\\Anaconda3\\lib\\site-packages\\pandas\\core\\arrays\\datetimes.py\u001b[0m in \u001b[0;36mobjects_to_datetime64ns\u001b[1;34m(data, dayfirst, yearfirst, utc, errors, require_iso8601, allow_object)\u001b[0m\n\u001b[0;32m   1978\u001b[0m         \u001b[1;32mtry\u001b[0m\u001b[1;33m:\u001b[0m\u001b[1;33m\u001b[0m\u001b[1;33m\u001b[0m\u001b[0m\n\u001b[1;32m-> 1979\u001b[1;33m             \u001b[0mvalues\u001b[0m\u001b[1;33m,\u001b[0m \u001b[0mtz_parsed\u001b[0m \u001b[1;33m=\u001b[0m \u001b[0mconversion\u001b[0m\u001b[1;33m.\u001b[0m\u001b[0mdatetime_to_datetime64\u001b[0m\u001b[1;33m(\u001b[0m\u001b[0mdata\u001b[0m\u001b[1;33m)\u001b[0m\u001b[1;33m\u001b[0m\u001b[1;33m\u001b[0m\u001b[0m\n\u001b[0m\u001b[0;32m   1980\u001b[0m             \u001b[1;31m# If tzaware, these values represent unix timestamps, so we\u001b[0m\u001b[1;33m\u001b[0m\u001b[1;33m\u001b[0m\u001b[1;33m\u001b[0m\u001b[0m\n",
      "\u001b[1;32mpandas\\_libs\\tslibs\\conversion.pyx\u001b[0m in \u001b[0;36mpandas._libs.tslibs.conversion.datetime_to_datetime64\u001b[1;34m()\u001b[0m\n",
      "\u001b[1;31mTypeError\u001b[0m: Unrecognized value type: <class 'str'>",
      "\nDuring handling of the above exception, another exception occurred:\n",
      "\u001b[1;31mValueError\u001b[0m                                Traceback (most recent call last)",
      "\u001b[1;32m<ipython-input-49-ef2d536bf5a7>\u001b[0m in \u001b[0;36m<module>\u001b[1;34m\u001b[0m\n\u001b[1;32m----> 1\u001b[1;33m \u001b[0mpd\u001b[0m\u001b[1;33m.\u001b[0m\u001b[0mto_datetime\u001b[0m\u001b[1;33m(\u001b[0m\u001b[1;33m[\u001b[0m\u001b[1;34m\"2015-05-20\"\u001b[0m\u001b[1;33m,\u001b[0m\u001b[1;34m\"Feb 20 2015\"\u001b[0m\u001b[1;33m,\u001b[0m\u001b[1;34m\"Elephant\"\u001b[0m\u001b[1;33m]\u001b[0m\u001b[1;33m)\u001b[0m\u001b[1;33m\u001b[0m\u001b[1;33m\u001b[0m\u001b[0m\n\u001b[0m",
      "\u001b[1;32m~\\Anaconda3\\lib\\site-packages\\pandas\\util\\_decorators.py\u001b[0m in \u001b[0;36mwrapper\u001b[1;34m(*args, **kwargs)\u001b[0m\n\u001b[0;32m    206\u001b[0m                 \u001b[1;32melse\u001b[0m\u001b[1;33m:\u001b[0m\u001b[1;33m\u001b[0m\u001b[1;33m\u001b[0m\u001b[0m\n\u001b[0;32m    207\u001b[0m                     \u001b[0mkwargs\u001b[0m\u001b[1;33m[\u001b[0m\u001b[0mnew_arg_name\u001b[0m\u001b[1;33m]\u001b[0m \u001b[1;33m=\u001b[0m \u001b[0mnew_arg_value\u001b[0m\u001b[1;33m\u001b[0m\u001b[1;33m\u001b[0m\u001b[0m\n\u001b[1;32m--> 208\u001b[1;33m             \u001b[1;32mreturn\u001b[0m \u001b[0mfunc\u001b[0m\u001b[1;33m(\u001b[0m\u001b[1;33m*\u001b[0m\u001b[0margs\u001b[0m\u001b[1;33m,\u001b[0m \u001b[1;33m**\u001b[0m\u001b[0mkwargs\u001b[0m\u001b[1;33m)\u001b[0m\u001b[1;33m\u001b[0m\u001b[1;33m\u001b[0m\u001b[0m\n\u001b[0m\u001b[0;32m    209\u001b[0m \u001b[1;33m\u001b[0m\u001b[0m\n\u001b[0;32m    210\u001b[0m         \u001b[1;32mreturn\u001b[0m \u001b[0mwrapper\u001b[0m\u001b[1;33m\u001b[0m\u001b[1;33m\u001b[0m\u001b[0m\n",
      "\u001b[1;32m~\\Anaconda3\\lib\\site-packages\\pandas\\core\\tools\\datetimes.py\u001b[0m in \u001b[0;36mto_datetime\u001b[1;34m(arg, errors, dayfirst, yearfirst, utc, box, format, exact, unit, infer_datetime_format, origin, cache)\u001b[0m\n\u001b[0;32m    792\u001b[0m             \u001b[0mresult\u001b[0m \u001b[1;33m=\u001b[0m \u001b[0m_convert_and_box_cache\u001b[0m\u001b[1;33m(\u001b[0m\u001b[0marg\u001b[0m\u001b[1;33m,\u001b[0m \u001b[0mcache_array\u001b[0m\u001b[1;33m,\u001b[0m \u001b[0mbox\u001b[0m\u001b[1;33m)\u001b[0m\u001b[1;33m\u001b[0m\u001b[1;33m\u001b[0m\u001b[0m\n\u001b[0;32m    793\u001b[0m         \u001b[1;32melse\u001b[0m\u001b[1;33m:\u001b[0m\u001b[1;33m\u001b[0m\u001b[1;33m\u001b[0m\u001b[0m\n\u001b[1;32m--> 794\u001b[1;33m             \u001b[0mresult\u001b[0m \u001b[1;33m=\u001b[0m \u001b[0mconvert_listlike\u001b[0m\u001b[1;33m(\u001b[0m\u001b[0marg\u001b[0m\u001b[1;33m,\u001b[0m \u001b[0mbox\u001b[0m\u001b[1;33m,\u001b[0m \u001b[0mformat\u001b[0m\u001b[1;33m)\u001b[0m\u001b[1;33m\u001b[0m\u001b[1;33m\u001b[0m\u001b[0m\n\u001b[0m\u001b[0;32m    795\u001b[0m     \u001b[1;32melse\u001b[0m\u001b[1;33m:\u001b[0m\u001b[1;33m\u001b[0m\u001b[1;33m\u001b[0m\u001b[0m\n\u001b[0;32m    796\u001b[0m         \u001b[0mresult\u001b[0m \u001b[1;33m=\u001b[0m \u001b[0mconvert_listlike\u001b[0m\u001b[1;33m(\u001b[0m\u001b[0mnp\u001b[0m\u001b[1;33m.\u001b[0m\u001b[0marray\u001b[0m\u001b[1;33m(\u001b[0m\u001b[1;33m[\u001b[0m\u001b[0marg\u001b[0m\u001b[1;33m]\u001b[0m\u001b[1;33m)\u001b[0m\u001b[1;33m,\u001b[0m \u001b[0mbox\u001b[0m\u001b[1;33m,\u001b[0m \u001b[0mformat\u001b[0m\u001b[1;33m)\u001b[0m\u001b[1;33m[\u001b[0m\u001b[1;36m0\u001b[0m\u001b[1;33m]\u001b[0m\u001b[1;33m\u001b[0m\u001b[1;33m\u001b[0m\u001b[0m\n",
      "\u001b[1;32m~\\Anaconda3\\lib\\site-packages\\pandas\\core\\tools\\datetimes.py\u001b[0m in \u001b[0;36m_convert_listlike_datetimes\u001b[1;34m(arg, box, format, name, tz, unit, errors, infer_datetime_format, dayfirst, yearfirst, exact)\u001b[0m\n\u001b[0;32m    461\u001b[0m             \u001b[0merrors\u001b[0m\u001b[1;33m=\u001b[0m\u001b[0merrors\u001b[0m\u001b[1;33m,\u001b[0m\u001b[1;33m\u001b[0m\u001b[1;33m\u001b[0m\u001b[0m\n\u001b[0;32m    462\u001b[0m             \u001b[0mrequire_iso8601\u001b[0m\u001b[1;33m=\u001b[0m\u001b[0mrequire_iso8601\u001b[0m\u001b[1;33m,\u001b[0m\u001b[1;33m\u001b[0m\u001b[1;33m\u001b[0m\u001b[0m\n\u001b[1;32m--> 463\u001b[1;33m             \u001b[0mallow_object\u001b[0m\u001b[1;33m=\u001b[0m\u001b[1;32mTrue\u001b[0m\u001b[1;33m,\u001b[0m\u001b[1;33m\u001b[0m\u001b[1;33m\u001b[0m\u001b[0m\n\u001b[0m\u001b[0;32m    464\u001b[0m         )\n\u001b[0;32m    465\u001b[0m \u001b[1;33m\u001b[0m\u001b[0m\n",
      "\u001b[1;32m~\\Anaconda3\\lib\\site-packages\\pandas\\core\\arrays\\datetimes.py\u001b[0m in \u001b[0;36mobjects_to_datetime64ns\u001b[1;34m(data, dayfirst, yearfirst, utc, errors, require_iso8601, allow_object)\u001b[0m\n\u001b[0;32m   1982\u001b[0m             \u001b[1;32mreturn\u001b[0m \u001b[0mvalues\u001b[0m\u001b[1;33m.\u001b[0m\u001b[0mview\u001b[0m\u001b[1;33m(\u001b[0m\u001b[1;34m\"i8\"\u001b[0m\u001b[1;33m)\u001b[0m\u001b[1;33m,\u001b[0m \u001b[0mtz_parsed\u001b[0m\u001b[1;33m\u001b[0m\u001b[1;33m\u001b[0m\u001b[0m\n\u001b[0;32m   1983\u001b[0m         \u001b[1;32mexcept\u001b[0m \u001b[1;33m(\u001b[0m\u001b[0mValueError\u001b[0m\u001b[1;33m,\u001b[0m \u001b[0mTypeError\u001b[0m\u001b[1;33m)\u001b[0m\u001b[1;33m:\u001b[0m\u001b[1;33m\u001b[0m\u001b[1;33m\u001b[0m\u001b[0m\n\u001b[1;32m-> 1984\u001b[1;33m             \u001b[1;32mraise\u001b[0m \u001b[0me\u001b[0m\u001b[1;33m\u001b[0m\u001b[1;33m\u001b[0m\u001b[0m\n\u001b[0m\u001b[0;32m   1985\u001b[0m \u001b[1;33m\u001b[0m\u001b[0m\n\u001b[0;32m   1986\u001b[0m     \u001b[1;32mif\u001b[0m \u001b[0mtz_parsed\u001b[0m \u001b[1;32mis\u001b[0m \u001b[1;32mnot\u001b[0m \u001b[1;32mNone\u001b[0m\u001b[1;33m:\u001b[0m\u001b[1;33m\u001b[0m\u001b[1;33m\u001b[0m\u001b[0m\n",
      "\u001b[1;32m~\\Anaconda3\\lib\\site-packages\\pandas\\core\\arrays\\datetimes.py\u001b[0m in \u001b[0;36mobjects_to_datetime64ns\u001b[1;34m(data, dayfirst, yearfirst, utc, errors, require_iso8601, allow_object)\u001b[0m\n\u001b[0;32m   1973\u001b[0m             \u001b[0mdayfirst\u001b[0m\u001b[1;33m=\u001b[0m\u001b[0mdayfirst\u001b[0m\u001b[1;33m,\u001b[0m\u001b[1;33m\u001b[0m\u001b[1;33m\u001b[0m\u001b[0m\n\u001b[0;32m   1974\u001b[0m             \u001b[0myearfirst\u001b[0m\u001b[1;33m=\u001b[0m\u001b[0myearfirst\u001b[0m\u001b[1;33m,\u001b[0m\u001b[1;33m\u001b[0m\u001b[1;33m\u001b[0m\u001b[0m\n\u001b[1;32m-> 1975\u001b[1;33m             \u001b[0mrequire_iso8601\u001b[0m\u001b[1;33m=\u001b[0m\u001b[0mrequire_iso8601\u001b[0m\u001b[1;33m,\u001b[0m\u001b[1;33m\u001b[0m\u001b[1;33m\u001b[0m\u001b[0m\n\u001b[0m\u001b[0;32m   1976\u001b[0m         )\n\u001b[0;32m   1977\u001b[0m     \u001b[1;32mexcept\u001b[0m \u001b[0mValueError\u001b[0m \u001b[1;32mas\u001b[0m \u001b[0me\u001b[0m\u001b[1;33m:\u001b[0m\u001b[1;33m\u001b[0m\u001b[1;33m\u001b[0m\u001b[0m\n",
      "\u001b[1;32mpandas\\_libs\\tslib.pyx\u001b[0m in \u001b[0;36mpandas._libs.tslib.array_to_datetime\u001b[1;34m()\u001b[0m\n",
      "\u001b[1;32mpandas\\_libs\\tslib.pyx\u001b[0m in \u001b[0;36mpandas._libs.tslib.array_to_datetime\u001b[1;34m()\u001b[0m\n",
      "\u001b[1;32mpandas\\_libs\\tslib.pyx\u001b[0m in \u001b[0;36mpandas._libs.tslib.array_to_datetime_object\u001b[1;34m()\u001b[0m\n",
      "\u001b[1;32mpandas\\_libs\\tslib.pyx\u001b[0m in \u001b[0;36mpandas._libs.tslib.array_to_datetime_object\u001b[1;34m()\u001b[0m\n",
      "\u001b[1;32mpandas\\_libs\\tslibs\\parsing.pyx\u001b[0m in \u001b[0;36mpandas._libs.tslibs.parsing.parse_datetime_string\u001b[1;34m()\u001b[0m\n",
      "\u001b[1;32m~\\Anaconda3\\lib\\site-packages\\dateutil\\parser\\_parser.py\u001b[0m in \u001b[0;36mparse\u001b[1;34m(timestr, parserinfo, **kwargs)\u001b[0m\n\u001b[0;32m   1356\u001b[0m         \u001b[1;32mreturn\u001b[0m \u001b[0mparser\u001b[0m\u001b[1;33m(\u001b[0m\u001b[0mparserinfo\u001b[0m\u001b[1;33m)\u001b[0m\u001b[1;33m.\u001b[0m\u001b[0mparse\u001b[0m\u001b[1;33m(\u001b[0m\u001b[0mtimestr\u001b[0m\u001b[1;33m,\u001b[0m \u001b[1;33m**\u001b[0m\u001b[0mkwargs\u001b[0m\u001b[1;33m)\u001b[0m\u001b[1;33m\u001b[0m\u001b[1;33m\u001b[0m\u001b[0m\n\u001b[0;32m   1357\u001b[0m     \u001b[1;32melse\u001b[0m\u001b[1;33m:\u001b[0m\u001b[1;33m\u001b[0m\u001b[1;33m\u001b[0m\u001b[0m\n\u001b[1;32m-> 1358\u001b[1;33m         \u001b[1;32mreturn\u001b[0m \u001b[0mDEFAULTPARSER\u001b[0m\u001b[1;33m.\u001b[0m\u001b[0mparse\u001b[0m\u001b[1;33m(\u001b[0m\u001b[0mtimestr\u001b[0m\u001b[1;33m,\u001b[0m \u001b[1;33m**\u001b[0m\u001b[0mkwargs\u001b[0m\u001b[1;33m)\u001b[0m\u001b[1;33m\u001b[0m\u001b[1;33m\u001b[0m\u001b[0m\n\u001b[0m\u001b[0;32m   1359\u001b[0m \u001b[1;33m\u001b[0m\u001b[0m\n\u001b[0;32m   1360\u001b[0m \u001b[1;33m\u001b[0m\u001b[0m\n",
      "\u001b[1;32m~\\Anaconda3\\lib\\site-packages\\dateutil\\parser\\_parser.py\u001b[0m in \u001b[0;36mparse\u001b[1;34m(self, timestr, default, ignoretz, tzinfos, **kwargs)\u001b[0m\n\u001b[0;32m    647\u001b[0m \u001b[1;33m\u001b[0m\u001b[0m\n\u001b[0;32m    648\u001b[0m         \u001b[1;32mif\u001b[0m \u001b[0mres\u001b[0m \u001b[1;32mis\u001b[0m \u001b[1;32mNone\u001b[0m\u001b[1;33m:\u001b[0m\u001b[1;33m\u001b[0m\u001b[1;33m\u001b[0m\u001b[0m\n\u001b[1;32m--> 649\u001b[1;33m             \u001b[1;32mraise\u001b[0m \u001b[0mValueError\u001b[0m\u001b[1;33m(\u001b[0m\u001b[1;34m\"Unknown string format:\"\u001b[0m\u001b[1;33m,\u001b[0m \u001b[0mtimestr\u001b[0m\u001b[1;33m)\u001b[0m\u001b[1;33m\u001b[0m\u001b[1;33m\u001b[0m\u001b[0m\n\u001b[0m\u001b[0;32m    650\u001b[0m \u001b[1;33m\u001b[0m\u001b[0m\n\u001b[0;32m    651\u001b[0m         \u001b[1;32mif\u001b[0m \u001b[0mlen\u001b[0m\u001b[1;33m(\u001b[0m\u001b[0mres\u001b[0m\u001b[1;33m)\u001b[0m \u001b[1;33m==\u001b[0m \u001b[1;36m0\u001b[0m\u001b[1;33m:\u001b[0m\u001b[1;33m\u001b[0m\u001b[1;33m\u001b[0m\u001b[0m\n",
      "\u001b[1;31mValueError\u001b[0m: ('Unknown string format:', 'Elephant')"
     ]
    }
   ],
   "source": [
    "pd.to_datetime([\"2015-05-20\",\"Feb 20 2015\",\"Elephant\"])  # Pandas can not handle this string in between datetime. \n",
    "                            # To overcome -Shift-tab- errors - If 'coerce', then invalid parsing will be set as NaT\n"
   ]
  },
  {
   "cell_type": "code",
   "execution_count": 50,
   "metadata": {},
   "outputs": [
    {
     "data": {
      "text/plain": [
       "DatetimeIndex(['2015-05-20', '2015-02-20', 'NaT'], dtype='datetime64[ns]', freq=None)"
      ]
     },
     "execution_count": 50,
     "metadata": {},
     "output_type": "execute_result"
    }
   ],
   "source": [
    "pd.to_datetime([\"2015-05-20\",\"Feb 20 2015\",\"Elephant\"],errors=\"coerce\")  # Elephant will be consider as NaT- Not a Time"
   ]
  },
  {
   "cell_type": "markdown",
   "metadata": {},
   "source": [
    "## Initial Analysis /Visual Inspection of time series."
   ]
  },
  {
   "cell_type": "code",
   "execution_count": 51,
   "metadata": {},
   "outputs": [
    {
     "data": {
      "text/html": [
       "<div>\n",
       "<style scoped>\n",
       "    .dataframe tbody tr th:only-of-type {\n",
       "        vertical-align: middle;\n",
       "    }\n",
       "\n",
       "    .dataframe tbody tr th {\n",
       "        vertical-align: top;\n",
       "    }\n",
       "\n",
       "    .dataframe thead th {\n",
       "        text-align: right;\n",
       "    }\n",
       "</style>\n",
       "<table border=\"1\" class=\"dataframe\">\n",
       "  <thead>\n",
       "    <tr style=\"text-align: right;\">\n",
       "      <th></th>\n",
       "      <th>datetime</th>\n",
       "      <th>LA</th>\n",
       "      <th>NY</th>\n",
       "    </tr>\n",
       "  </thead>\n",
       "  <tbody>\n",
       "    <tr>\n",
       "      <td>0</td>\n",
       "      <td>2013-01-01 00:00:00</td>\n",
       "      <td>11.7</td>\n",
       "      <td>-1.1</td>\n",
       "    </tr>\n",
       "    <tr>\n",
       "      <td>1</td>\n",
       "      <td>2013-01-01 01:00:00</td>\n",
       "      <td>10.7</td>\n",
       "      <td>-1.7</td>\n",
       "    </tr>\n",
       "    <tr>\n",
       "      <td>2</td>\n",
       "      <td>2013-01-01 02:00:00</td>\n",
       "      <td>9.9</td>\n",
       "      <td>-2.0</td>\n",
       "    </tr>\n",
       "    <tr>\n",
       "      <td>3</td>\n",
       "      <td>2013-01-01 03:00:00</td>\n",
       "      <td>9.3</td>\n",
       "      <td>-2.1</td>\n",
       "    </tr>\n",
       "    <tr>\n",
       "      <td>4</td>\n",
       "      <td>2013-01-01 04:00:00</td>\n",
       "      <td>8.8</td>\n",
       "      <td>-2.3</td>\n",
       "    </tr>\n",
       "  </tbody>\n",
       "</table>\n",
       "</div>"
      ],
      "text/plain": [
       "              datetime    LA   NY\n",
       "0  2013-01-01 00:00:00  11.7 -1.1\n",
       "1  2013-01-01 01:00:00  10.7 -1.7\n",
       "2  2013-01-01 02:00:00   9.9 -2.0\n",
       "3  2013-01-01 03:00:00   9.3 -2.1\n",
       "4  2013-01-01 04:00:00   8.8 -2.3"
      ]
     },
     "execution_count": 51,
     "metadata": {},
     "output_type": "execute_result"
    }
   ],
   "source": [
    "temp.head()"
   ]
  },
  {
   "cell_type": "code",
   "execution_count": 52,
   "metadata": {},
   "outputs": [
    {
     "name": "stdout",
     "output_type": "stream",
     "text": [
      "<class 'pandas.core.frame.DataFrame'>\n",
      "RangeIndex: 35064 entries, 0 to 35063\n",
      "Data columns (total 3 columns):\n",
      "datetime    35064 non-null object\n",
      "LA          35062 non-null float64\n",
      "NY          35064 non-null float64\n",
      "dtypes: float64(2), object(1)\n",
      "memory usage: 821.9+ KB\n"
     ]
    }
   ],
   "source": [
    "temp.info()"
   ]
  },
  {
   "cell_type": "code",
   "execution_count": 53,
   "metadata": {},
   "outputs": [
    {
     "data": {
      "text/html": [
       "<div>\n",
       "<style scoped>\n",
       "    .dataframe tbody tr th:only-of-type {\n",
       "        vertical-align: middle;\n",
       "    }\n",
       "\n",
       "    .dataframe tbody tr th {\n",
       "        vertical-align: top;\n",
       "    }\n",
       "\n",
       "    .dataframe thead th {\n",
       "        text-align: right;\n",
       "    }\n",
       "</style>\n",
       "<table border=\"1\" class=\"dataframe\">\n",
       "  <thead>\n",
       "    <tr style=\"text-align: right;\">\n",
       "      <th></th>\n",
       "      <th>LA</th>\n",
       "      <th>NY</th>\n",
       "    </tr>\n",
       "  </thead>\n",
       "  <tbody>\n",
       "    <tr>\n",
       "      <td>count</td>\n",
       "      <td>35062.000000</td>\n",
       "      <td>35064.000000</td>\n",
       "    </tr>\n",
       "    <tr>\n",
       "      <td>mean</td>\n",
       "      <td>17.486016</td>\n",
       "      <td>12.068269</td>\n",
       "    </tr>\n",
       "    <tr>\n",
       "      <td>std</td>\n",
       "      <td>6.640666</td>\n",
       "      <td>10.466832</td>\n",
       "    </tr>\n",
       "    <tr>\n",
       "      <td>min</td>\n",
       "      <td>-6.600000</td>\n",
       "      <td>-22.400000</td>\n",
       "    </tr>\n",
       "    <tr>\n",
       "      <td>25%</td>\n",
       "      <td>12.900000</td>\n",
       "      <td>3.900000</td>\n",
       "    </tr>\n",
       "    <tr>\n",
       "      <td>50%</td>\n",
       "      <td>17.200000</td>\n",
       "      <td>12.500000</td>\n",
       "    </tr>\n",
       "    <tr>\n",
       "      <td>75%</td>\n",
       "      <td>21.900000</td>\n",
       "      <td>20.600000</td>\n",
       "    </tr>\n",
       "    <tr>\n",
       "      <td>max</td>\n",
       "      <td>42.300000</td>\n",
       "      <td>37.100000</td>\n",
       "    </tr>\n",
       "  </tbody>\n",
       "</table>\n",
       "</div>"
      ],
      "text/plain": [
       "                 LA            NY\n",
       "count  35062.000000  35064.000000\n",
       "mean      17.486016     12.068269\n",
       "std        6.640666     10.466832\n",
       "min       -6.600000    -22.400000\n",
       "25%       12.900000      3.900000\n",
       "50%       17.200000     12.500000\n",
       "75%       21.900000     20.600000\n",
       "max       42.300000     37.100000"
      ]
     },
     "execution_count": 53,
     "metadata": {},
     "output_type": "execute_result"
    }
   ],
   "source": [
    "temp.describe()"
   ]
  },
  {
   "cell_type": "code",
   "execution_count": 54,
   "metadata": {},
   "outputs": [
    {
     "data": {
      "text/plain": [
       " 16.2    238\n",
       " 16.7    237\n",
       " 15.2    234\n",
       " 18.2    231\n",
       " 16.6    228\n",
       "        ... \n",
       "-2.6       1\n",
       " 39.5      1\n",
       "-5.4       1\n",
       "-4.4       1\n",
       "-3.6       1\n",
       "Name: LA, Length: 442, dtype: int64"
      ]
     },
     "execution_count": 54,
     "metadata": {},
     "output_type": "execute_result"
    }
   ],
   "source": [
    "temp.LA.value_counts()"
   ]
  },
  {
   "cell_type": "code",
   "execution_count": 55,
   "metadata": {},
   "outputs": [],
   "source": [
    "import matplotlib.pyplot as plt"
   ]
  },
  {
   "cell_type": "code",
   "execution_count": 57,
   "metadata": {},
   "outputs": [
    {
     "data": {
      "image/png": "[encoded data removed]",
      "text/plain": [
       "<Figure size 1080x504 with 1 Axes>"
      ]
     },
     "metadata": {
      "needs_background": "light"
     },
     "output_type": "display_data"
    }
   ],
   "source": [
    "temp.plot(figsize=(15,7))\n",
    "plt.show()"
   ]
  },
  {
   "cell_type": "code",
   "execution_count": 61,
   "metadata": {},
   "outputs": [
    {
     "data": {
      "image/png": "[encoded data removed]",
      "text/plain": [
       "<Figure size 1080x504 with 2 Axes>"
      ]
     },
     "metadata": {
      "needs_background": "light"
     },
     "output_type": "display_data"
    }
   ],
   "source": [
    "temp.plot(figsize=(15,7),subplots=True,layout=(1,2),sharey=True)\n",
    "plt.show()"
   ]
  },
  {
   "cell_type": "markdown",
   "metadata": {},
   "source": [
    "## Indexing and Slicing Time Series"
   ]
  },
  {
   "cell_type": "code",
   "execution_count": 62,
   "metadata": {},
   "outputs": [],
   "source": [
    "temp=pd.read_csv('temp.csv',parse_dates=[\"datetime\"],index_col=\"datetime\")"
   ]
  },
  {
   "cell_type": "code",
   "execution_count": 63,
   "metadata": {},
   "outputs": [
    {
     "data": {
      "text/html": [
       "<div>\n",
       "<style scoped>\n",
       "    .dataframe tbody tr th:only-of-type {\n",
       "        vertical-align: middle;\n",
       "    }\n",
       "\n",
       "    .dataframe tbody tr th {\n",
       "        vertical-align: top;\n",
       "    }\n",
       "\n",
       "    .dataframe thead th {\n",
       "        text-align: right;\n",
       "    }\n",
       "</style>\n",
       "<table border=\"1\" class=\"dataframe\">\n",
       "  <thead>\n",
       "    <tr style=\"text-align: right;\">\n",
       "      <th></th>\n",
       "      <th>LA</th>\n",
       "      <th>NY</th>\n",
       "    </tr>\n",
       "    <tr>\n",
       "      <th>datetime</th>\n",
       "      <th></th>\n",
       "      <th></th>\n",
       "    </tr>\n",
       "  </thead>\n",
       "  <tbody>\n",
       "    <tr>\n",
       "      <td>2013-01-01 00:00:00</td>\n",
       "      <td>11.7</td>\n",
       "      <td>-1.1</td>\n",
       "    </tr>\n",
       "    <tr>\n",
       "      <td>2013-01-01 01:00:00</td>\n",
       "      <td>10.7</td>\n",
       "      <td>-1.7</td>\n",
       "    </tr>\n",
       "    <tr>\n",
       "      <td>2013-01-01 02:00:00</td>\n",
       "      <td>9.9</td>\n",
       "      <td>-2.0</td>\n",
       "    </tr>\n",
       "    <tr>\n",
       "      <td>2013-01-01 03:00:00</td>\n",
       "      <td>9.3</td>\n",
       "      <td>-2.1</td>\n",
       "    </tr>\n",
       "    <tr>\n",
       "      <td>2013-01-01 04:00:00</td>\n",
       "      <td>8.8</td>\n",
       "      <td>-2.3</td>\n",
       "    </tr>\n",
       "  </tbody>\n",
       "</table>\n",
       "</div>"
      ],
      "text/plain": [
       "                       LA   NY\n",
       "datetime                      \n",
       "2013-01-01 00:00:00  11.7 -1.1\n",
       "2013-01-01 01:00:00  10.7 -1.7\n",
       "2013-01-01 02:00:00   9.9 -2.0\n",
       "2013-01-01 03:00:00   9.3 -2.1\n",
       "2013-01-01 04:00:00   8.8 -2.3"
      ]
     },
     "execution_count": 63,
     "metadata": {},
     "output_type": "execute_result"
    }
   ],
   "source": [
    "temp.head()"
   ]
  },
  {
   "cell_type": "code",
   "execution_count": 64,
   "metadata": {},
   "outputs": [
    {
     "name": "stdout",
     "output_type": "stream",
     "text": [
      "<class 'pandas.core.frame.DataFrame'>\n",
      "DatetimeIndex: 35064 entries, 2013-01-01 00:00:00 to 2016-12-31 23:00:00\n",
      "Data columns (total 2 columns):\n",
      "LA    35062 non-null float64\n",
      "NY    35064 non-null float64\n",
      "dtypes: float64(2)\n",
      "memory usage: 821.8 KB\n"
     ]
    }
   ],
   "source": [
    "temp.info()"
   ]
  },
  {
   "cell_type": "code",
   "execution_count": 65,
   "metadata": {},
   "outputs": [
    {
     "data": {
      "text/plain": [
       "LA    10.7\n",
       "NY    -1.7\n",
       "Name: 2013-01-01 01:00:00, dtype: float64"
      ]
     },
     "execution_count": 65,
     "metadata": {},
     "output_type": "execute_result"
    }
   ],
   "source": [
    "temp.loc[\"2013-01-01 01:00:00\"]"
   ]
  },
  {
   "cell_type": "code",
   "execution_count": 67,
   "metadata": {},
   "outputs": [
    {
     "data": {
      "text/html": [
       "<div>\n",
       "<style scoped>\n",
       "    .dataframe tbody tr th:only-of-type {\n",
       "        vertical-align: middle;\n",
       "    }\n",
       "\n",
       "    .dataframe tbody tr th {\n",
       "        vertical-align: top;\n",
       "    }\n",
       "\n",
       "    .dataframe thead th {\n",
       "        text-align: right;\n",
       "    }\n",
       "</style>\n",
       "<table border=\"1\" class=\"dataframe\">\n",
       "  <thead>\n",
       "    <tr style=\"text-align: right;\">\n",
       "      <th></th>\n",
       "      <th>LA</th>\n",
       "      <th>NY</th>\n",
       "    </tr>\n",
       "    <tr>\n",
       "      <th>datetime</th>\n",
       "      <th></th>\n",
       "      <th></th>\n",
       "    </tr>\n",
       "  </thead>\n",
       "  <tbody>\n",
       "    <tr>\n",
       "      <td>2015-01-01 00:00:00</td>\n",
       "      <td>3.8</td>\n",
       "      <td>-5.1</td>\n",
       "    </tr>\n",
       "    <tr>\n",
       "      <td>2015-01-01 01:00:00</td>\n",
       "      <td>4.4</td>\n",
       "      <td>-5.1</td>\n",
       "    </tr>\n",
       "    <tr>\n",
       "      <td>2015-01-01 02:00:00</td>\n",
       "      <td>3.2</td>\n",
       "      <td>-6.0</td>\n",
       "    </tr>\n",
       "    <tr>\n",
       "      <td>2015-01-01 03:00:00</td>\n",
       "      <td>1.2</td>\n",
       "      <td>-6.0</td>\n",
       "    </tr>\n",
       "    <tr>\n",
       "      <td>2015-01-01 04:00:00</td>\n",
       "      <td>0.2</td>\n",
       "      <td>-6.0</td>\n",
       "    </tr>\n",
       "    <tr>\n",
       "      <td>...</td>\n",
       "      <td>...</td>\n",
       "      <td>...</td>\n",
       "    </tr>\n",
       "    <tr>\n",
       "      <td>2015-12-31 19:00:00</td>\n",
       "      <td>16.0</td>\n",
       "      <td>8.1</td>\n",
       "    </tr>\n",
       "    <tr>\n",
       "      <td>2015-12-31 20:00:00</td>\n",
       "      <td>16.0</td>\n",
       "      <td>8.1</td>\n",
       "    </tr>\n",
       "    <tr>\n",
       "      <td>2015-12-31 21:00:00</td>\n",
       "      <td>16.4</td>\n",
       "      <td>7.9</td>\n",
       "    </tr>\n",
       "    <tr>\n",
       "      <td>2015-12-31 22:00:00</td>\n",
       "      <td>16.6</td>\n",
       "      <td>7.2</td>\n",
       "    </tr>\n",
       "    <tr>\n",
       "      <td>2015-12-31 23:00:00</td>\n",
       "      <td>16.8</td>\n",
       "      <td>6.2</td>\n",
       "    </tr>\n",
       "  </tbody>\n",
       "</table>\n",
       "<p>8760 rows × 2 columns</p>\n",
       "</div>"
      ],
      "text/plain": [
       "                       LA   NY\n",
       "datetime                      \n",
       "2015-01-01 00:00:00   3.8 -5.1\n",
       "2015-01-01 01:00:00   4.4 -5.1\n",
       "2015-01-01 02:00:00   3.2 -6.0\n",
       "2015-01-01 03:00:00   1.2 -6.0\n",
       "2015-01-01 04:00:00   0.2 -6.0\n",
       "...                   ...  ...\n",
       "2015-12-31 19:00:00  16.0  8.1\n",
       "2015-12-31 20:00:00  16.0  8.1\n",
       "2015-12-31 21:00:00  16.4  7.9\n",
       "2015-12-31 22:00:00  16.6  7.2\n",
       "2015-12-31 23:00:00  16.8  6.2\n",
       "\n",
       "[8760 rows x 2 columns]"
      ]
     },
     "execution_count": 67,
     "metadata": {},
     "output_type": "execute_result"
    }
   ],
   "source": [
    "temp.loc[\"2015\"]"
   ]
  },
  {
   "cell_type": "code",
   "execution_count": 68,
   "metadata": {},
   "outputs": [
    {
     "data": {
      "text/html": [
       "<div>\n",
       "<style scoped>\n",
       "    .dataframe tbody tr th:only-of-type {\n",
       "        vertical-align: middle;\n",
       "    }\n",
       "\n",
       "    .dataframe tbody tr th {\n",
       "        vertical-align: top;\n",
       "    }\n",
       "\n",
       "    .dataframe thead th {\n",
       "        text-align: right;\n",
       "    }\n",
       "</style>\n",
       "<table border=\"1\" class=\"dataframe\">\n",
       "  <thead>\n",
       "    <tr style=\"text-align: right;\">\n",
       "      <th></th>\n",
       "      <th>LA</th>\n",
       "      <th>NY</th>\n",
       "    </tr>\n",
       "    <tr>\n",
       "      <th>datetime</th>\n",
       "      <th></th>\n",
       "      <th></th>\n",
       "    </tr>\n",
       "  </thead>\n",
       "  <tbody>\n",
       "    <tr>\n",
       "      <td>2015-05-01 00:00:00</td>\n",
       "      <td>25.5</td>\n",
       "      <td>13.9</td>\n",
       "    </tr>\n",
       "    <tr>\n",
       "      <td>2015-05-01 01:00:00</td>\n",
       "      <td>25.7</td>\n",
       "      <td>13.9</td>\n",
       "    </tr>\n",
       "    <tr>\n",
       "      <td>2015-05-01 02:00:00</td>\n",
       "      <td>23.8</td>\n",
       "      <td>10.5</td>\n",
       "    </tr>\n",
       "    <tr>\n",
       "      <td>2015-05-01 03:00:00</td>\n",
       "      <td>22.0</td>\n",
       "      <td>10.2</td>\n",
       "    </tr>\n",
       "    <tr>\n",
       "      <td>2015-05-01 04:00:00</td>\n",
       "      <td>20.1</td>\n",
       "      <td>8.6</td>\n",
       "    </tr>\n",
       "    <tr>\n",
       "      <td>...</td>\n",
       "      <td>...</td>\n",
       "      <td>...</td>\n",
       "    </tr>\n",
       "    <tr>\n",
       "      <td>2015-05-31 19:00:00</td>\n",
       "      <td>25.4</td>\n",
       "      <td>25.5</td>\n",
       "    </tr>\n",
       "    <tr>\n",
       "      <td>2015-05-31 20:00:00</td>\n",
       "      <td>26.0</td>\n",
       "      <td>23.9</td>\n",
       "    </tr>\n",
       "    <tr>\n",
       "      <td>2015-05-31 21:00:00</td>\n",
       "      <td>24.9</td>\n",
       "      <td>22.5</td>\n",
       "    </tr>\n",
       "    <tr>\n",
       "      <td>2015-05-31 22:00:00</td>\n",
       "      <td>26.0</td>\n",
       "      <td>21.3</td>\n",
       "    </tr>\n",
       "    <tr>\n",
       "      <td>2015-05-31 23:00:00</td>\n",
       "      <td>25.5</td>\n",
       "      <td>19.9</td>\n",
       "    </tr>\n",
       "  </tbody>\n",
       "</table>\n",
       "<p>744 rows × 2 columns</p>\n",
       "</div>"
      ],
      "text/plain": [
       "                       LA    NY\n",
       "datetime                       \n",
       "2015-05-01 00:00:00  25.5  13.9\n",
       "2015-05-01 01:00:00  25.7  13.9\n",
       "2015-05-01 02:00:00  23.8  10.5\n",
       "2015-05-01 03:00:00  22.0  10.2\n",
       "2015-05-01 04:00:00  20.1   8.6\n",
       "...                   ...   ...\n",
       "2015-05-31 19:00:00  25.4  25.5\n",
       "2015-05-31 20:00:00  26.0  23.9\n",
       "2015-05-31 21:00:00  24.9  22.5\n",
       "2015-05-31 22:00:00  26.0  21.3\n",
       "2015-05-31 23:00:00  25.5  19.9\n",
       "\n",
       "[744 rows x 2 columns]"
      ]
     },
     "execution_count": 68,
     "metadata": {},
     "output_type": "execute_result"
    }
   ],
   "source": [
    "temp.loc[\"2015-05\"]"
   ]
  },
  {
   "cell_type": "code",
   "execution_count": 70,
   "metadata": {},
   "outputs": [
    {
     "data": {
      "text/plain": [
       "LA     7.8\n",
       "NY    13.3\n",
       "Name: 2015-05-20 10:00:00, dtype: float64"
      ]
     },
     "execution_count": 70,
     "metadata": {},
     "output_type": "execute_result"
    }
   ],
   "source": [
    "temp.loc[\"2015-05-20 10:00:00\"]"
   ]
  },
  {
   "cell_type": "code",
   "execution_count": 71,
   "metadata": {},
   "outputs": [
    {
     "ename": "KeyError",
     "evalue": "'2015-05-20 10:30:00'",
     "output_type": "error",
     "traceback": [
      "\u001b[1;31m---------------------------------------------------------------------------\u001b[0m",
      "\u001b[1;31mTypeError\u001b[0m                                 Traceback (most recent call last)",
      "\u001b[1;32mpandas\\_libs\\index.pyx\u001b[0m in \u001b[0;36mpandas._libs.index.DatetimeEngine.get_loc\u001b[1;34m()\u001b[0m\n",
      "\u001b[1;32mpandas\\_libs\\hashtable_class_helper.pxi\u001b[0m in \u001b[0;36mpandas._libs.hashtable.Int64HashTable.get_item\u001b[1;34m()\u001b[0m\n",
      "\u001b[1;31mTypeError\u001b[0m: an integer is required",
      "\nDuring handling of the above exception, another exception occurred:\n",
      "\u001b[1;31mKeyError\u001b[0m                                  Traceback (most recent call last)",
      "\u001b[1;32m~\\Anaconda3\\lib\\site-packages\\pandas\\core\\indexes\\base.py\u001b[0m in \u001b[0;36mget_loc\u001b[1;34m(self, key, method, tolerance)\u001b[0m\n\u001b[0;32m   2896\u001b[0m             \u001b[1;32mtry\u001b[0m\u001b[1;33m:\u001b[0m\u001b[1;33m\u001b[0m\u001b[1;33m\u001b[0m\u001b[0m\n\u001b[1;32m-> 2897\u001b[1;33m                 \u001b[1;32mreturn\u001b[0m \u001b[0mself\u001b[0m\u001b[1;33m.\u001b[0m\u001b[0m_engine\u001b[0m\u001b[1;33m.\u001b[0m\u001b[0mget_loc\u001b[0m\u001b[1;33m(\u001b[0m\u001b[0mkey\u001b[0m\u001b[1;33m)\u001b[0m\u001b[1;33m\u001b[0m\u001b[1;33m\u001b[0m\u001b[0m\n\u001b[0m\u001b[0;32m   2898\u001b[0m             \u001b[1;32mexcept\u001b[0m \u001b[0mKeyError\u001b[0m\u001b[1;33m:\u001b[0m\u001b[1;33m\u001b[0m\u001b[1;33m\u001b[0m\u001b[0m\n",
      "\u001b[1;32mpandas\\_libs\\index.pyx\u001b[0m in \u001b[0;36mpandas._libs.index.DatetimeEngine.get_loc\u001b[1;34m()\u001b[0m\n",
      "\u001b[1;32mpandas\\_libs\\index.pyx\u001b[0m in \u001b[0;36mpandas._libs.index.DatetimeEngine.get_loc\u001b[1;34m()\u001b[0m\n",
      "\u001b[1;32mpandas\\_libs\\index.pyx\u001b[0m in \u001b[0;36mpandas._libs.index.DatetimeEngine._date_check_type\u001b[1;34m()\u001b[0m\n",
      "\u001b[1;31mKeyError\u001b[0m: '2015-05-20 10:30:00'",
      "\nDuring handling of the above exception, another exception occurred:\n",
      "\u001b[1;31mTypeError\u001b[0m                                 Traceback (most recent call last)",
      "\u001b[1;32mpandas\\_libs\\index.pyx\u001b[0m in \u001b[0;36mpandas._libs.index.DatetimeEngine.get_loc\u001b[1;34m()\u001b[0m\n",
      "\u001b[1;32mpandas\\_libs\\hashtable_class_helper.pxi\u001b[0m in \u001b[0;36mpandas._libs.hashtable.Int64HashTable.get_item\u001b[1;34m()\u001b[0m\n",
      "\u001b[1;31mTypeError\u001b[0m: an integer is required",
      "\nDuring handling of the above exception, another exception occurred:\n",
      "\u001b[1;31mKeyError\u001b[0m                                  Traceback (most recent call last)",
      "\u001b[1;32m~\\Anaconda3\\lib\\site-packages\\pandas\\core\\indexes\\datetimes.py\u001b[0m in \u001b[0;36mget_loc\u001b[1;34m(self, key, method, tolerance)\u001b[0m\n\u001b[0;32m   1056\u001b[0m         \u001b[1;32mtry\u001b[0m\u001b[1;33m:\u001b[0m\u001b[1;33m\u001b[0m\u001b[1;33m\u001b[0m\u001b[0m\n\u001b[1;32m-> 1057\u001b[1;33m             \u001b[1;32mreturn\u001b[0m \u001b[0mIndex\u001b[0m\u001b[1;33m.\u001b[0m\u001b[0mget_loc\u001b[0m\u001b[1;33m(\u001b[0m\u001b[0mself\u001b[0m\u001b[1;33m,\u001b[0m \u001b[0mkey\u001b[0m\u001b[1;33m,\u001b[0m \u001b[0mmethod\u001b[0m\u001b[1;33m,\u001b[0m \u001b[0mtolerance\u001b[0m\u001b[1;33m)\u001b[0m\u001b[1;33m\u001b[0m\u001b[1;33m\u001b[0m\u001b[0m\n\u001b[0m\u001b[0;32m   1058\u001b[0m         \u001b[1;32mexcept\u001b[0m \u001b[1;33m(\u001b[0m\u001b[0mKeyError\u001b[0m\u001b[1;33m,\u001b[0m \u001b[0mValueError\u001b[0m\u001b[1;33m,\u001b[0m \u001b[0mTypeError\u001b[0m\u001b[1;33m)\u001b[0m\u001b[1;33m:\u001b[0m\u001b[1;33m\u001b[0m\u001b[1;33m\u001b[0m\u001b[0m\n",
      "\u001b[1;32m~\\Anaconda3\\lib\\site-packages\\pandas\\core\\indexes\\base.py\u001b[0m in \u001b[0;36mget_loc\u001b[1;34m(self, key, method, tolerance)\u001b[0m\n\u001b[0;32m   2898\u001b[0m             \u001b[1;32mexcept\u001b[0m \u001b[0mKeyError\u001b[0m\u001b[1;33m:\u001b[0m\u001b[1;33m\u001b[0m\u001b[1;33m\u001b[0m\u001b[0m\n\u001b[1;32m-> 2899\u001b[1;33m                 \u001b[1;32mreturn\u001b[0m \u001b[0mself\u001b[0m\u001b[1;33m.\u001b[0m\u001b[0m_engine\u001b[0m\u001b[1;33m.\u001b[0m\u001b[0mget_loc\u001b[0m\u001b[1;33m(\u001b[0m\u001b[0mself\u001b[0m\u001b[1;33m.\u001b[0m\u001b[0m_maybe_cast_indexer\u001b[0m\u001b[1;33m(\u001b[0m\u001b[0mkey\u001b[0m\u001b[1;33m)\u001b[0m\u001b[1;33m)\u001b[0m\u001b[1;33m\u001b[0m\u001b[1;33m\u001b[0m\u001b[0m\n\u001b[0m\u001b[0;32m   2900\u001b[0m         \u001b[0mindexer\u001b[0m \u001b[1;33m=\u001b[0m \u001b[0mself\u001b[0m\u001b[1;33m.\u001b[0m\u001b[0mget_indexer\u001b[0m\u001b[1;33m(\u001b[0m\u001b[1;33m[\u001b[0m\u001b[0mkey\u001b[0m\u001b[1;33m]\u001b[0m\u001b[1;33m,\u001b[0m \u001b[0mmethod\u001b[0m\u001b[1;33m=\u001b[0m\u001b[0mmethod\u001b[0m\u001b[1;33m,\u001b[0m \u001b[0mtolerance\u001b[0m\u001b[1;33m=\u001b[0m\u001b[0mtolerance\u001b[0m\u001b[1;33m)\u001b[0m\u001b[1;33m\u001b[0m\u001b[1;33m\u001b[0m\u001b[0m\n",
      "\u001b[1;32mpandas\\_libs\\index.pyx\u001b[0m in \u001b[0;36mpandas._libs.index.DatetimeEngine.get_loc\u001b[1;34m()\u001b[0m\n",
      "\u001b[1;32mpandas\\_libs\\index.pyx\u001b[0m in \u001b[0;36mpandas._libs.index.DatetimeEngine.get_loc\u001b[1;34m()\u001b[0m\n",
      "\u001b[1;32mpandas\\_libs\\index.pyx\u001b[0m in \u001b[0;36mpandas._libs.index.DatetimeEngine._date_check_type\u001b[1;34m()\u001b[0m\n",
      "\u001b[1;31mKeyError\u001b[0m: '2015-05-20 10:30:00'",
      "\nDuring handling of the above exception, another exception occurred:\n",
      "\u001b[1;31mKeyError\u001b[0m                                  Traceback (most recent call last)",
      "\u001b[1;32mpandas\\_libs\\index.pyx\u001b[0m in \u001b[0;36mpandas._libs.index.DatetimeEngine.get_loc\u001b[1;34m()\u001b[0m\n",
      "\u001b[1;32mpandas\\_libs\\hashtable_class_helper.pxi\u001b[0m in \u001b[0;36mpandas._libs.hashtable.Int64HashTable.get_item\u001b[1;34m()\u001b[0m\n",
      "\u001b[1;32mpandas\\_libs\\hashtable_class_helper.pxi\u001b[0m in \u001b[0;36mpandas._libs.hashtable.Int64HashTable.get_item\u001b[1;34m()\u001b[0m\n",
      "\u001b[1;31mKeyError\u001b[0m: 1432117800000000000",
      "\nDuring handling of the above exception, another exception occurred:\n",
      "\u001b[1;31mKeyError\u001b[0m                                  Traceback (most recent call last)",
      "\u001b[1;32m~\\Anaconda3\\lib\\site-packages\\pandas\\core\\indexes\\base.py\u001b[0m in \u001b[0;36mget_loc\u001b[1;34m(self, key, method, tolerance)\u001b[0m\n\u001b[0;32m   2896\u001b[0m             \u001b[1;32mtry\u001b[0m\u001b[1;33m:\u001b[0m\u001b[1;33m\u001b[0m\u001b[1;33m\u001b[0m\u001b[0m\n\u001b[1;32m-> 2897\u001b[1;33m                 \u001b[1;32mreturn\u001b[0m \u001b[0mself\u001b[0m\u001b[1;33m.\u001b[0m\u001b[0m_engine\u001b[0m\u001b[1;33m.\u001b[0m\u001b[0mget_loc\u001b[0m\u001b[1;33m(\u001b[0m\u001b[0mkey\u001b[0m\u001b[1;33m)\u001b[0m\u001b[1;33m\u001b[0m\u001b[1;33m\u001b[0m\u001b[0m\n\u001b[0m\u001b[0;32m   2898\u001b[0m             \u001b[1;32mexcept\u001b[0m \u001b[0mKeyError\u001b[0m\u001b[1;33m:\u001b[0m\u001b[1;33m\u001b[0m\u001b[1;33m\u001b[0m\u001b[0m\n",
      "\u001b[1;32mpandas\\_libs\\index.pyx\u001b[0m in \u001b[0;36mpandas._libs.index.DatetimeEngine.get_loc\u001b[1;34m()\u001b[0m\n",
      "\u001b[1;32mpandas\\_libs\\index.pyx\u001b[0m in \u001b[0;36mpandas._libs.index.DatetimeEngine.get_loc\u001b[1;34m()\u001b[0m\n",
      "\u001b[1;31mKeyError\u001b[0m: Timestamp('2015-05-20 10:30:00')",
      "\nDuring handling of the above exception, another exception occurred:\n",
      "\u001b[1;31mKeyError\u001b[0m                                  Traceback (most recent call last)",
      "\u001b[1;32mpandas\\_libs\\index.pyx\u001b[0m in \u001b[0;36mpandas._libs.index.DatetimeEngine.get_loc\u001b[1;34m()\u001b[0m\n",
      "\u001b[1;32mpandas\\_libs\\hashtable_class_helper.pxi\u001b[0m in \u001b[0;36mpandas._libs.hashtable.Int64HashTable.get_item\u001b[1;34m()\u001b[0m\n",
      "\u001b[1;32mpandas\\_libs\\hashtable_class_helper.pxi\u001b[0m in \u001b[0;36mpandas._libs.hashtable.Int64HashTable.get_item\u001b[1;34m()\u001b[0m\n",
      "\u001b[1;31mKeyError\u001b[0m: 1432117800000000000",
      "\nDuring handling of the above exception, another exception occurred:\n",
      "\u001b[1;31mKeyError\u001b[0m                                  Traceback (most recent call last)",
      "\u001b[1;32m~\\Anaconda3\\lib\\site-packages\\pandas\\core\\indexes\\datetimes.py\u001b[0m in \u001b[0;36mget_loc\u001b[1;34m(self, key, method, tolerance)\u001b[0m\n\u001b[0;32m   1069\u001b[0m                     \u001b[0mstamp\u001b[0m \u001b[1;33m=\u001b[0m \u001b[0mstamp\u001b[0m\u001b[1;33m.\u001b[0m\u001b[0mtz_localize\u001b[0m\u001b[1;33m(\u001b[0m\u001b[0mself\u001b[0m\u001b[1;33m.\u001b[0m\u001b[0mtz\u001b[0m\u001b[1;33m)\u001b[0m\u001b[1;33m\u001b[0m\u001b[1;33m\u001b[0m\u001b[0m\n\u001b[1;32m-> 1070\u001b[1;33m                 \u001b[1;32mreturn\u001b[0m \u001b[0mIndex\u001b[0m\u001b[1;33m.\u001b[0m\u001b[0mget_loc\u001b[0m\u001b[1;33m(\u001b[0m\u001b[0mself\u001b[0m\u001b[1;33m,\u001b[0m \u001b[0mstamp\u001b[0m\u001b[1;33m,\u001b[0m \u001b[0mmethod\u001b[0m\u001b[1;33m,\u001b[0m \u001b[0mtolerance\u001b[0m\u001b[1;33m)\u001b[0m\u001b[1;33m\u001b[0m\u001b[1;33m\u001b[0m\u001b[0m\n\u001b[0m\u001b[0;32m   1071\u001b[0m             \u001b[1;32mexcept\u001b[0m \u001b[0mKeyError\u001b[0m\u001b[1;33m:\u001b[0m\u001b[1;33m\u001b[0m\u001b[1;33m\u001b[0m\u001b[0m\n",
      "\u001b[1;32m~\\Anaconda3\\lib\\site-packages\\pandas\\core\\indexes\\base.py\u001b[0m in \u001b[0;36mget_loc\u001b[1;34m(self, key, method, tolerance)\u001b[0m\n\u001b[0;32m   2898\u001b[0m             \u001b[1;32mexcept\u001b[0m \u001b[0mKeyError\u001b[0m\u001b[1;33m:\u001b[0m\u001b[1;33m\u001b[0m\u001b[1;33m\u001b[0m\u001b[0m\n\u001b[1;32m-> 2899\u001b[1;33m                 \u001b[1;32mreturn\u001b[0m \u001b[0mself\u001b[0m\u001b[1;33m.\u001b[0m\u001b[0m_engine\u001b[0m\u001b[1;33m.\u001b[0m\u001b[0mget_loc\u001b[0m\u001b[1;33m(\u001b[0m\u001b[0mself\u001b[0m\u001b[1;33m.\u001b[0m\u001b[0m_maybe_cast_indexer\u001b[0m\u001b[1;33m(\u001b[0m\u001b[0mkey\u001b[0m\u001b[1;33m)\u001b[0m\u001b[1;33m)\u001b[0m\u001b[1;33m\u001b[0m\u001b[1;33m\u001b[0m\u001b[0m\n\u001b[0m\u001b[0;32m   2900\u001b[0m         \u001b[0mindexer\u001b[0m \u001b[1;33m=\u001b[0m \u001b[0mself\u001b[0m\u001b[1;33m.\u001b[0m\u001b[0mget_indexer\u001b[0m\u001b[1;33m(\u001b[0m\u001b[1;33m[\u001b[0m\u001b[0mkey\u001b[0m\u001b[1;33m]\u001b[0m\u001b[1;33m,\u001b[0m \u001b[0mmethod\u001b[0m\u001b[1;33m=\u001b[0m\u001b[0mmethod\u001b[0m\u001b[1;33m,\u001b[0m \u001b[0mtolerance\u001b[0m\u001b[1;33m=\u001b[0m\u001b[0mtolerance\u001b[0m\u001b[1;33m)\u001b[0m\u001b[1;33m\u001b[0m\u001b[1;33m\u001b[0m\u001b[0m\n",
      "\u001b[1;32mpandas\\_libs\\index.pyx\u001b[0m in \u001b[0;36mpandas._libs.index.DatetimeEngine.get_loc\u001b[1;34m()\u001b[0m\n",
      "\u001b[1;32mpandas\\_libs\\index.pyx\u001b[0m in \u001b[0;36mpandas._libs.index.DatetimeEngine.get_loc\u001b[1;34m()\u001b[0m\n",
      "\u001b[1;31mKeyError\u001b[0m: Timestamp('2015-05-20 10:30:00')",
      "\nDuring handling of the above exception, another exception occurred:\n",
      "\u001b[1;31mKeyError\u001b[0m                                  Traceback (most recent call last)",
      "\u001b[1;32m<ipython-input-71-be9add8bc944>\u001b[0m in \u001b[0;36m<module>\u001b[1;34m\u001b[0m\n\u001b[1;32m----> 1\u001b[1;33m \u001b[0mtemp\u001b[0m\u001b[1;33m.\u001b[0m\u001b[0mloc\u001b[0m\u001b[1;33m[\u001b[0m\u001b[1;34m\"2015-05-20 10:30:00\"\u001b[0m\u001b[1;33m]\u001b[0m\u001b[1;33m\u001b[0m\u001b[1;33m\u001b[0m\u001b[0m\n\u001b[0m",
      "\u001b[1;32m~\\Anaconda3\\lib\\site-packages\\pandas\\core\\indexing.py\u001b[0m in \u001b[0;36m__getitem__\u001b[1;34m(self, key)\u001b[0m\n\u001b[0;32m   1422\u001b[0m \u001b[1;33m\u001b[0m\u001b[0m\n\u001b[0;32m   1423\u001b[0m             \u001b[0mmaybe_callable\u001b[0m \u001b[1;33m=\u001b[0m \u001b[0mcom\u001b[0m\u001b[1;33m.\u001b[0m\u001b[0mapply_if_callable\u001b[0m\u001b[1;33m(\u001b[0m\u001b[0mkey\u001b[0m\u001b[1;33m,\u001b[0m \u001b[0mself\u001b[0m\u001b[1;33m.\u001b[0m\u001b[0mobj\u001b[0m\u001b[1;33m)\u001b[0m\u001b[1;33m\u001b[0m\u001b[1;33m\u001b[0m\u001b[0m\n\u001b[1;32m-> 1424\u001b[1;33m             \u001b[1;32mreturn\u001b[0m \u001b[0mself\u001b[0m\u001b[1;33m.\u001b[0m\u001b[0m_getitem_axis\u001b[0m\u001b[1;33m(\u001b[0m\u001b[0mmaybe_callable\u001b[0m\u001b[1;33m,\u001b[0m \u001b[0maxis\u001b[0m\u001b[1;33m=\u001b[0m\u001b[0maxis\u001b[0m\u001b[1;33m)\u001b[0m\u001b[1;33m\u001b[0m\u001b[1;33m\u001b[0m\u001b[0m\n\u001b[0m\u001b[0;32m   1425\u001b[0m \u001b[1;33m\u001b[0m\u001b[0m\n\u001b[0;32m   1426\u001b[0m     \u001b[1;32mdef\u001b[0m \u001b[0m_is_scalar_access\u001b[0m\u001b[1;33m(\u001b[0m\u001b[0mself\u001b[0m\u001b[1;33m,\u001b[0m \u001b[0mkey\u001b[0m\u001b[1;33m:\u001b[0m \u001b[0mTuple\u001b[0m\u001b[1;33m)\u001b[0m\u001b[1;33m:\u001b[0m\u001b[1;33m\u001b[0m\u001b[1;33m\u001b[0m\u001b[0m\n",
      "\u001b[1;32m~\\Anaconda3\\lib\\site-packages\\pandas\\core\\indexing.py\u001b[0m in \u001b[0;36m_getitem_axis\u001b[1;34m(self, key, axis)\u001b[0m\n\u001b[0;32m   1848\u001b[0m         \u001b[1;31m# fall thru to straight lookup\u001b[0m\u001b[1;33m\u001b[0m\u001b[1;33m\u001b[0m\u001b[1;33m\u001b[0m\u001b[0m\n\u001b[0;32m   1849\u001b[0m         \u001b[0mself\u001b[0m\u001b[1;33m.\u001b[0m\u001b[0m_validate_key\u001b[0m\u001b[1;33m(\u001b[0m\u001b[0mkey\u001b[0m\u001b[1;33m,\u001b[0m \u001b[0maxis\u001b[0m\u001b[1;33m)\u001b[0m\u001b[1;33m\u001b[0m\u001b[1;33m\u001b[0m\u001b[0m\n\u001b[1;32m-> 1850\u001b[1;33m         \u001b[1;32mreturn\u001b[0m \u001b[0mself\u001b[0m\u001b[1;33m.\u001b[0m\u001b[0m_get_label\u001b[0m\u001b[1;33m(\u001b[0m\u001b[0mkey\u001b[0m\u001b[1;33m,\u001b[0m \u001b[0maxis\u001b[0m\u001b[1;33m=\u001b[0m\u001b[0maxis\u001b[0m\u001b[1;33m)\u001b[0m\u001b[1;33m\u001b[0m\u001b[1;33m\u001b[0m\u001b[0m\n\u001b[0m\u001b[0;32m   1851\u001b[0m \u001b[1;33m\u001b[0m\u001b[0m\n\u001b[0;32m   1852\u001b[0m \u001b[1;33m\u001b[0m\u001b[0m\n",
      "\u001b[1;32m~\\Anaconda3\\lib\\site-packages\\pandas\\core\\indexing.py\u001b[0m in \u001b[0;36m_get_label\u001b[1;34m(self, label, axis)\u001b[0m\n\u001b[0;32m    158\u001b[0m             \u001b[1;32mraise\u001b[0m \u001b[0mIndexingError\u001b[0m\u001b[1;33m(\u001b[0m\u001b[1;34m\"no slices here, handle elsewhere\"\u001b[0m\u001b[1;33m)\u001b[0m\u001b[1;33m\u001b[0m\u001b[1;33m\u001b[0m\u001b[0m\n\u001b[0;32m    159\u001b[0m \u001b[1;33m\u001b[0m\u001b[0m\n\u001b[1;32m--> 160\u001b[1;33m         \u001b[1;32mreturn\u001b[0m \u001b[0mself\u001b[0m\u001b[1;33m.\u001b[0m\u001b[0mobj\u001b[0m\u001b[1;33m.\u001b[0m\u001b[0m_xs\u001b[0m\u001b[1;33m(\u001b[0m\u001b[0mlabel\u001b[0m\u001b[1;33m,\u001b[0m \u001b[0maxis\u001b[0m\u001b[1;33m=\u001b[0m\u001b[0maxis\u001b[0m\u001b[1;33m)\u001b[0m\u001b[1;33m\u001b[0m\u001b[1;33m\u001b[0m\u001b[0m\n\u001b[0m\u001b[0;32m    161\u001b[0m \u001b[1;33m\u001b[0m\u001b[0m\n\u001b[0;32m    162\u001b[0m     \u001b[1;32mdef\u001b[0m \u001b[0m_get_loc\u001b[0m\u001b[1;33m(\u001b[0m\u001b[0mself\u001b[0m\u001b[1;33m,\u001b[0m \u001b[0mkey\u001b[0m\u001b[1;33m:\u001b[0m \u001b[0mint\u001b[0m\u001b[1;33m,\u001b[0m \u001b[0maxis\u001b[0m\u001b[1;33m:\u001b[0m \u001b[0mint\u001b[0m\u001b[1;33m)\u001b[0m\u001b[1;33m:\u001b[0m\u001b[1;33m\u001b[0m\u001b[1;33m\u001b[0m\u001b[0m\n",
      "\u001b[1;32m~\\Anaconda3\\lib\\site-packages\\pandas\\core\\generic.py\u001b[0m in \u001b[0;36mxs\u001b[1;34m(self, key, axis, level, drop_level)\u001b[0m\n\u001b[0;32m   3735\u001b[0m             \u001b[0mloc\u001b[0m\u001b[1;33m,\u001b[0m \u001b[0mnew_index\u001b[0m \u001b[1;33m=\u001b[0m \u001b[0mself\u001b[0m\u001b[1;33m.\u001b[0m\u001b[0mindex\u001b[0m\u001b[1;33m.\u001b[0m\u001b[0mget_loc_level\u001b[0m\u001b[1;33m(\u001b[0m\u001b[0mkey\u001b[0m\u001b[1;33m,\u001b[0m \u001b[0mdrop_level\u001b[0m\u001b[1;33m=\u001b[0m\u001b[0mdrop_level\u001b[0m\u001b[1;33m)\u001b[0m\u001b[1;33m\u001b[0m\u001b[1;33m\u001b[0m\u001b[0m\n\u001b[0;32m   3736\u001b[0m         \u001b[1;32melse\u001b[0m\u001b[1;33m:\u001b[0m\u001b[1;33m\u001b[0m\u001b[1;33m\u001b[0m\u001b[0m\n\u001b[1;32m-> 3737\u001b[1;33m             \u001b[0mloc\u001b[0m \u001b[1;33m=\u001b[0m \u001b[0mself\u001b[0m\u001b[1;33m.\u001b[0m\u001b[0mindex\u001b[0m\u001b[1;33m.\u001b[0m\u001b[0mget_loc\u001b[0m\u001b[1;33m(\u001b[0m\u001b[0mkey\u001b[0m\u001b[1;33m)\u001b[0m\u001b[1;33m\u001b[0m\u001b[1;33m\u001b[0m\u001b[0m\n\u001b[0m\u001b[0;32m   3738\u001b[0m \u001b[1;33m\u001b[0m\u001b[0m\n\u001b[0;32m   3739\u001b[0m             \u001b[1;32mif\u001b[0m \u001b[0misinstance\u001b[0m\u001b[1;33m(\u001b[0m\u001b[0mloc\u001b[0m\u001b[1;33m,\u001b[0m \u001b[0mnp\u001b[0m\u001b[1;33m.\u001b[0m\u001b[0mndarray\u001b[0m\u001b[1;33m)\u001b[0m\u001b[1;33m:\u001b[0m\u001b[1;33m\u001b[0m\u001b[1;33m\u001b[0m\u001b[0m\n",
      "\u001b[1;32m~\\Anaconda3\\lib\\site-packages\\pandas\\core\\indexes\\datetimes.py\u001b[0m in \u001b[0;36mget_loc\u001b[1;34m(self, key, method, tolerance)\u001b[0m\n\u001b[0;32m   1070\u001b[0m                 \u001b[1;32mreturn\u001b[0m \u001b[0mIndex\u001b[0m\u001b[1;33m.\u001b[0m\u001b[0mget_loc\u001b[0m\u001b[1;33m(\u001b[0m\u001b[0mself\u001b[0m\u001b[1;33m,\u001b[0m \u001b[0mstamp\u001b[0m\u001b[1;33m,\u001b[0m \u001b[0mmethod\u001b[0m\u001b[1;33m,\u001b[0m \u001b[0mtolerance\u001b[0m\u001b[1;33m)\u001b[0m\u001b[1;33m\u001b[0m\u001b[1;33m\u001b[0m\u001b[0m\n\u001b[0;32m   1071\u001b[0m             \u001b[1;32mexcept\u001b[0m \u001b[0mKeyError\u001b[0m\u001b[1;33m:\u001b[0m\u001b[1;33m\u001b[0m\u001b[1;33m\u001b[0m\u001b[0m\n\u001b[1;32m-> 1072\u001b[1;33m                 \u001b[1;32mraise\u001b[0m \u001b[0mKeyError\u001b[0m\u001b[1;33m(\u001b[0m\u001b[0mkey\u001b[0m\u001b[1;33m)\u001b[0m\u001b[1;33m\u001b[0m\u001b[1;33m\u001b[0m\u001b[0m\n\u001b[0m\u001b[0;32m   1073\u001b[0m             \u001b[1;32mexcept\u001b[0m \u001b[0mValueError\u001b[0m \u001b[1;32mas\u001b[0m \u001b[0me\u001b[0m\u001b[1;33m:\u001b[0m\u001b[1;33m\u001b[0m\u001b[1;33m\u001b[0m\u001b[0m\n\u001b[0;32m   1074\u001b[0m                 \u001b[1;31m# list-like tolerance size must match target index size\u001b[0m\u001b[1;33m\u001b[0m\u001b[1;33m\u001b[0m\u001b[1;33m\u001b[0m\u001b[0m\n",
      "\u001b[1;31mKeyError\u001b[0m: '2015-05-20 10:30:00'"
     ]
    }
   ],
   "source": [
    "temp.loc[\"2015-05-20 10:30:00\"]"
   ]
  },
  {
   "cell_type": "code",
   "execution_count": 72,
   "metadata": {},
   "outputs": [
    {
     "data": {
      "text/html": [
       "<div>\n",
       "<style scoped>\n",
       "    .dataframe tbody tr th:only-of-type {\n",
       "        vertical-align: middle;\n",
       "    }\n",
       "\n",
       "    .dataframe tbody tr th {\n",
       "        vertical-align: top;\n",
       "    }\n",
       "\n",
       "    .dataframe thead th {\n",
       "        text-align: right;\n",
       "    }\n",
       "</style>\n",
       "<table border=\"1\" class=\"dataframe\">\n",
       "  <thead>\n",
       "    <tr style=\"text-align: right;\">\n",
       "      <th></th>\n",
       "      <th>LA</th>\n",
       "      <th>NY</th>\n",
       "    </tr>\n",
       "    <tr>\n",
       "      <th>datetime</th>\n",
       "      <th></th>\n",
       "      <th></th>\n",
       "    </tr>\n",
       "  </thead>\n",
       "  <tbody>\n",
       "    <tr>\n",
       "      <td>2015-01-01 00:00:00</td>\n",
       "      <td>3.8</td>\n",
       "      <td>-5.1</td>\n",
       "    </tr>\n",
       "    <tr>\n",
       "      <td>2015-01-01 01:00:00</td>\n",
       "      <td>4.4</td>\n",
       "      <td>-5.1</td>\n",
       "    </tr>\n",
       "    <tr>\n",
       "      <td>2015-01-01 02:00:00</td>\n",
       "      <td>3.2</td>\n",
       "      <td>-6.0</td>\n",
       "    </tr>\n",
       "    <tr>\n",
       "      <td>2015-01-01 03:00:00</td>\n",
       "      <td>1.2</td>\n",
       "      <td>-6.0</td>\n",
       "    </tr>\n",
       "    <tr>\n",
       "      <td>2015-01-01 04:00:00</td>\n",
       "      <td>0.2</td>\n",
       "      <td>-6.0</td>\n",
       "    </tr>\n",
       "    <tr>\n",
       "      <td>...</td>\n",
       "      <td>...</td>\n",
       "      <td>...</td>\n",
       "    </tr>\n",
       "    <tr>\n",
       "      <td>2015-12-31 19:00:00</td>\n",
       "      <td>16.0</td>\n",
       "      <td>8.1</td>\n",
       "    </tr>\n",
       "    <tr>\n",
       "      <td>2015-12-31 20:00:00</td>\n",
       "      <td>16.0</td>\n",
       "      <td>8.1</td>\n",
       "    </tr>\n",
       "    <tr>\n",
       "      <td>2015-12-31 21:00:00</td>\n",
       "      <td>16.4</td>\n",
       "      <td>7.9</td>\n",
       "    </tr>\n",
       "    <tr>\n",
       "      <td>2015-12-31 22:00:00</td>\n",
       "      <td>16.6</td>\n",
       "      <td>7.2</td>\n",
       "    </tr>\n",
       "    <tr>\n",
       "      <td>2015-12-31 23:00:00</td>\n",
       "      <td>16.8</td>\n",
       "      <td>6.2</td>\n",
       "    </tr>\n",
       "  </tbody>\n",
       "</table>\n",
       "<p>8760 rows × 2 columns</p>\n",
       "</div>"
      ],
      "text/plain": [
       "                       LA   NY\n",
       "datetime                      \n",
       "2015-01-01 00:00:00   3.8 -5.1\n",
       "2015-01-01 01:00:00   4.4 -5.1\n",
       "2015-01-01 02:00:00   3.2 -6.0\n",
       "2015-01-01 03:00:00   1.2 -6.0\n",
       "2015-01-01 04:00:00   0.2 -6.0\n",
       "...                   ...  ...\n",
       "2015-12-31 19:00:00  16.0  8.1\n",
       "2015-12-31 20:00:00  16.0  8.1\n",
       "2015-12-31 21:00:00  16.4  7.9\n",
       "2015-12-31 22:00:00  16.6  7.2\n",
       "2015-12-31 23:00:00  16.8  6.2\n",
       "\n",
       "[8760 rows x 2 columns]"
      ]
     },
     "execution_count": 72,
     "metadata": {},
     "output_type": "execute_result"
    }
   ],
   "source": [
    "temp.loc[\"2015-01-01\" : \"2015-12-31\"]"
   ]
  },
  {
   "cell_type": "code",
   "execution_count": 73,
   "metadata": {},
   "outputs": [
    {
     "data": {
      "text/plain": [
       "True"
      ]
     },
     "execution_count": 73,
     "metadata": {},
     "output_type": "execute_result"
    }
   ],
   "source": [
    "temp.loc[\"2015-01-01\" : \"2015-12-31\"].equals(temp.loc[\"2015\"])"
   ]
  },
  {
   "cell_type": "code",
   "execution_count": 74,
   "metadata": {},
   "outputs": [
    {
     "data": {
      "text/html": [
       "<div>\n",
       "<style scoped>\n",
       "    .dataframe tbody tr th:only-of-type {\n",
       "        vertical-align: middle;\n",
       "    }\n",
       "\n",
       "    .dataframe tbody tr th {\n",
       "        vertical-align: top;\n",
       "    }\n",
       "\n",
       "    .dataframe thead th {\n",
       "        text-align: right;\n",
       "    }\n",
       "</style>\n",
       "<table border=\"1\" class=\"dataframe\">\n",
       "  <thead>\n",
       "    <tr style=\"text-align: right;\">\n",
       "      <th></th>\n",
       "      <th>LA</th>\n",
       "      <th>NY</th>\n",
       "    </tr>\n",
       "    <tr>\n",
       "      <th>datetime</th>\n",
       "      <th></th>\n",
       "      <th></th>\n",
       "    </tr>\n",
       "  </thead>\n",
       "  <tbody>\n",
       "    <tr>\n",
       "      <td>2015-04-15 00:00:00</td>\n",
       "      <td>19.1</td>\n",
       "      <td>12.8</td>\n",
       "    </tr>\n",
       "    <tr>\n",
       "      <td>2015-04-15 01:00:00</td>\n",
       "      <td>20.0</td>\n",
       "      <td>12.0</td>\n",
       "    </tr>\n",
       "    <tr>\n",
       "      <td>2015-04-15 02:00:00</td>\n",
       "      <td>17.7</td>\n",
       "      <td>11.3</td>\n",
       "    </tr>\n",
       "    <tr>\n",
       "      <td>2015-04-15 03:00:00</td>\n",
       "      <td>15.5</td>\n",
       "      <td>11.2</td>\n",
       "    </tr>\n",
       "    <tr>\n",
       "      <td>2015-04-15 04:00:00</td>\n",
       "      <td>13.3</td>\n",
       "      <td>10.4</td>\n",
       "    </tr>\n",
       "    <tr>\n",
       "      <td>...</td>\n",
       "      <td>...</td>\n",
       "      <td>...</td>\n",
       "    </tr>\n",
       "    <tr>\n",
       "      <td>2016-02-23 19:00:00</td>\n",
       "      <td>23.4</td>\n",
       "      <td>2.6</td>\n",
       "    </tr>\n",
       "    <tr>\n",
       "      <td>2016-02-23 20:00:00</td>\n",
       "      <td>23.4</td>\n",
       "      <td>2.2</td>\n",
       "    </tr>\n",
       "    <tr>\n",
       "      <td>2016-02-23 21:00:00</td>\n",
       "      <td>26.8</td>\n",
       "      <td>2.2</td>\n",
       "    </tr>\n",
       "    <tr>\n",
       "      <td>2016-02-23 22:00:00</td>\n",
       "      <td>26.8</td>\n",
       "      <td>2.0</td>\n",
       "    </tr>\n",
       "    <tr>\n",
       "      <td>2016-02-23 23:00:00</td>\n",
       "      <td>26.8</td>\n",
       "      <td>2.3</td>\n",
       "    </tr>\n",
       "  </tbody>\n",
       "</table>\n",
       "<p>7560 rows × 2 columns</p>\n",
       "</div>"
      ],
      "text/plain": [
       "                       LA    NY\n",
       "datetime                       \n",
       "2015-04-15 00:00:00  19.1  12.8\n",
       "2015-04-15 01:00:00  20.0  12.0\n",
       "2015-04-15 02:00:00  17.7  11.3\n",
       "2015-04-15 03:00:00  15.5  11.2\n",
       "2015-04-15 04:00:00  13.3  10.4\n",
       "...                   ...   ...\n",
       "2016-02-23 19:00:00  23.4   2.6\n",
       "2016-02-23 20:00:00  23.4   2.2\n",
       "2016-02-23 21:00:00  26.8   2.2\n",
       "2016-02-23 22:00:00  26.8   2.0\n",
       "2016-02-23 23:00:00  26.8   2.3\n",
       "\n",
       "[7560 rows x 2 columns]"
      ]
     },
     "execution_count": 74,
     "metadata": {},
     "output_type": "execute_result"
    }
   ],
   "source": [
    "temp.loc[\"2015-04-15\" : \"2016-02-23\"]"
   ]
  },
  {
   "cell_type": "code",
   "execution_count": 75,
   "metadata": {},
   "outputs": [
    {
     "data": {
      "text/html": [
       "<div>\n",
       "<style scoped>\n",
       "    .dataframe tbody tr th:only-of-type {\n",
       "        vertical-align: middle;\n",
       "    }\n",
       "\n",
       "    .dataframe tbody tr th {\n",
       "        vertical-align: top;\n",
       "    }\n",
       "\n",
       "    .dataframe thead th {\n",
       "        text-align: right;\n",
       "    }\n",
       "</style>\n",
       "<table border=\"1\" class=\"dataframe\">\n",
       "  <thead>\n",
       "    <tr style=\"text-align: right;\">\n",
       "      <th></th>\n",
       "      <th>LA</th>\n",
       "      <th>NY</th>\n",
       "    </tr>\n",
       "    <tr>\n",
       "      <th>datetime</th>\n",
       "      <th></th>\n",
       "      <th></th>\n",
       "    </tr>\n",
       "  </thead>\n",
       "  <tbody>\n",
       "    <tr>\n",
       "      <td>2015-05-20 00:00:00</td>\n",
       "      <td>17.7</td>\n",
       "      <td>19.8</td>\n",
       "    </tr>\n",
       "    <tr>\n",
       "      <td>2015-05-20 01:00:00</td>\n",
       "      <td>18.0</td>\n",
       "      <td>19.7</td>\n",
       "    </tr>\n",
       "    <tr>\n",
       "      <td>2015-05-20 02:00:00</td>\n",
       "      <td>16.6</td>\n",
       "      <td>19.0</td>\n",
       "    </tr>\n",
       "    <tr>\n",
       "      <td>2015-05-20 03:00:00</td>\n",
       "      <td>14.4</td>\n",
       "      <td>19.0</td>\n",
       "    </tr>\n",
       "    <tr>\n",
       "      <td>2015-05-20 04:00:00</td>\n",
       "      <td>13.3</td>\n",
       "      <td>19.7</td>\n",
       "    </tr>\n",
       "    <tr>\n",
       "      <td>...</td>\n",
       "      <td>...</td>\n",
       "      <td>...</td>\n",
       "    </tr>\n",
       "    <tr>\n",
       "      <td>2016-12-31 19:00:00</td>\n",
       "      <td>13.5</td>\n",
       "      <td>4.6</td>\n",
       "    </tr>\n",
       "    <tr>\n",
       "      <td>2016-12-31 20:00:00</td>\n",
       "      <td>13.2</td>\n",
       "      <td>5.7</td>\n",
       "    </tr>\n",
       "    <tr>\n",
       "      <td>2016-12-31 21:00:00</td>\n",
       "      <td>12.8</td>\n",
       "      <td>5.8</td>\n",
       "    </tr>\n",
       "    <tr>\n",
       "      <td>2016-12-31 22:00:00</td>\n",
       "      <td>12.3</td>\n",
       "      <td>5.7</td>\n",
       "    </tr>\n",
       "    <tr>\n",
       "      <td>2016-12-31 23:00:00</td>\n",
       "      <td>11.9</td>\n",
       "      <td>5.5</td>\n",
       "    </tr>\n",
       "  </tbody>\n",
       "</table>\n",
       "<p>14208 rows × 2 columns</p>\n",
       "</div>"
      ],
      "text/plain": [
       "                       LA    NY\n",
       "datetime                       \n",
       "2015-05-20 00:00:00  17.7  19.8\n",
       "2015-05-20 01:00:00  18.0  19.7\n",
       "2015-05-20 02:00:00  16.6  19.0\n",
       "2015-05-20 03:00:00  14.4  19.0\n",
       "2015-05-20 04:00:00  13.3  19.7\n",
       "...                   ...   ...\n",
       "2016-12-31 19:00:00  13.5   4.6\n",
       "2016-12-31 20:00:00  13.2   5.7\n",
       "2016-12-31 21:00:00  12.8   5.8\n",
       "2016-12-31 22:00:00  12.3   5.7\n",
       "2016-12-31 23:00:00  11.9   5.5\n",
       "\n",
       "[14208 rows x 2 columns]"
      ]
     },
     "execution_count": 75,
     "metadata": {},
     "output_type": "execute_result"
    }
   ],
   "source": [
    "temp.loc[\"2015-05-20\" :]"
   ]
  },
  {
   "cell_type": "code",
   "execution_count": 76,
   "metadata": {},
   "outputs": [
    {
     "data": {
      "text/html": [
       "<div>\n",
       "<style scoped>\n",
       "    .dataframe tbody tr th:only-of-type {\n",
       "        vertical-align: middle;\n",
       "    }\n",
       "\n",
       "    .dataframe tbody tr th {\n",
       "        vertical-align: top;\n",
       "    }\n",
       "\n",
       "    .dataframe thead th {\n",
       "        text-align: right;\n",
       "    }\n",
       "</style>\n",
       "<table border=\"1\" class=\"dataframe\">\n",
       "  <thead>\n",
       "    <tr style=\"text-align: right;\">\n",
       "      <th></th>\n",
       "      <th>LA</th>\n",
       "      <th>NY</th>\n",
       "    </tr>\n",
       "    <tr>\n",
       "      <th>datetime</th>\n",
       "      <th></th>\n",
       "      <th></th>\n",
       "    </tr>\n",
       "  </thead>\n",
       "  <tbody>\n",
       "    <tr>\n",
       "      <td>2013-01-01 00:00:00</td>\n",
       "      <td>11.7</td>\n",
       "      <td>-1.1</td>\n",
       "    </tr>\n",
       "    <tr>\n",
       "      <td>2013-01-01 01:00:00</td>\n",
       "      <td>10.7</td>\n",
       "      <td>-1.7</td>\n",
       "    </tr>\n",
       "    <tr>\n",
       "      <td>2013-01-01 02:00:00</td>\n",
       "      <td>9.9</td>\n",
       "      <td>-2.0</td>\n",
       "    </tr>\n",
       "    <tr>\n",
       "      <td>2013-01-01 03:00:00</td>\n",
       "      <td>9.3</td>\n",
       "      <td>-2.1</td>\n",
       "    </tr>\n",
       "    <tr>\n",
       "      <td>2013-01-01 04:00:00</td>\n",
       "      <td>8.8</td>\n",
       "      <td>-2.3</td>\n",
       "    </tr>\n",
       "    <tr>\n",
       "      <td>...</td>\n",
       "      <td>...</td>\n",
       "      <td>...</td>\n",
       "    </tr>\n",
       "    <tr>\n",
       "      <td>2015-05-20 19:00:00</td>\n",
       "      <td>17.7</td>\n",
       "      <td>18.1</td>\n",
       "    </tr>\n",
       "    <tr>\n",
       "      <td>2015-05-20 20:00:00</td>\n",
       "      <td>18.4</td>\n",
       "      <td>17.8</td>\n",
       "    </tr>\n",
       "    <tr>\n",
       "      <td>2015-05-20 21:00:00</td>\n",
       "      <td>18.0</td>\n",
       "      <td>17.8</td>\n",
       "    </tr>\n",
       "    <tr>\n",
       "      <td>2015-05-20 22:00:00</td>\n",
       "      <td>19.1</td>\n",
       "      <td>14.2</td>\n",
       "    </tr>\n",
       "    <tr>\n",
       "      <td>2015-05-20 23:00:00</td>\n",
       "      <td>19.1</td>\n",
       "      <td>14.2</td>\n",
       "    </tr>\n",
       "  </tbody>\n",
       "</table>\n",
       "<p>20880 rows × 2 columns</p>\n",
       "</div>"
      ],
      "text/plain": [
       "                       LA    NY\n",
       "datetime                       \n",
       "2013-01-01 00:00:00  11.7  -1.1\n",
       "2013-01-01 01:00:00  10.7  -1.7\n",
       "2013-01-01 02:00:00   9.9  -2.0\n",
       "2013-01-01 03:00:00   9.3  -2.1\n",
       "2013-01-01 04:00:00   8.8  -2.3\n",
       "...                   ...   ...\n",
       "2015-05-20 19:00:00  17.7  18.1\n",
       "2015-05-20 20:00:00  18.4  17.8\n",
       "2015-05-20 21:00:00  18.0  17.8\n",
       "2015-05-20 22:00:00  19.1  14.2\n",
       "2015-05-20 23:00:00  19.1  14.2\n",
       "\n",
       "[20880 rows x 2 columns]"
      ]
     },
     "execution_count": 76,
     "metadata": {},
     "output_type": "execute_result"
    }
   ],
   "source": [
    "temp.loc[:\"2015-05-20\"]"
   ]
  },
  {
   "cell_type": "code",
   "execution_count": 78,
   "metadata": {},
   "outputs": [
    {
     "data": {
      "text/html": [
       "<div>\n",
       "<style scoped>\n",
       "    .dataframe tbody tr th:only-of-type {\n",
       "        vertical-align: middle;\n",
       "    }\n",
       "\n",
       "    .dataframe tbody tr th {\n",
       "        vertical-align: top;\n",
       "    }\n",
       "\n",
       "    .dataframe thead th {\n",
       "        text-align: right;\n",
       "    }\n",
       "</style>\n",
       "<table border=\"1\" class=\"dataframe\">\n",
       "  <thead>\n",
       "    <tr style=\"text-align: right;\">\n",
       "      <th></th>\n",
       "      <th>LA</th>\n",
       "      <th>NY</th>\n",
       "    </tr>\n",
       "    <tr>\n",
       "      <th>datetime</th>\n",
       "      <th></th>\n",
       "      <th></th>\n",
       "    </tr>\n",
       "  </thead>\n",
       "  <tbody>\n",
       "    <tr>\n",
       "      <td>2015-02-20 00:00:00</td>\n",
       "      <td>16.4</td>\n",
       "      <td>-12.4</td>\n",
       "    </tr>\n",
       "    <tr>\n",
       "      <td>2015-02-20 01:00:00</td>\n",
       "      <td>17.5</td>\n",
       "      <td>-12.4</td>\n",
       "    </tr>\n",
       "    <tr>\n",
       "      <td>2015-02-20 02:00:00</td>\n",
       "      <td>14.6</td>\n",
       "      <td>-14.5</td>\n",
       "    </tr>\n",
       "    <tr>\n",
       "      <td>2015-02-20 03:00:00</td>\n",
       "      <td>13.9</td>\n",
       "      <td>-14.5</td>\n",
       "    </tr>\n",
       "    <tr>\n",
       "      <td>2015-02-20 04:00:00</td>\n",
       "      <td>10.3</td>\n",
       "      <td>-14.5</td>\n",
       "    </tr>\n",
       "    <tr>\n",
       "      <td>2015-02-20 05:00:00</td>\n",
       "      <td>8.9</td>\n",
       "      <td>-15.9</td>\n",
       "    </tr>\n",
       "    <tr>\n",
       "      <td>2015-02-20 06:00:00</td>\n",
       "      <td>9.0</td>\n",
       "      <td>-15.9</td>\n",
       "    </tr>\n",
       "    <tr>\n",
       "      <td>2015-02-20 07:00:00</td>\n",
       "      <td>7.1</td>\n",
       "      <td>-15.9</td>\n",
       "    </tr>\n",
       "    <tr>\n",
       "      <td>2015-02-20 08:00:00</td>\n",
       "      <td>6.6</td>\n",
       "      <td>-16.8</td>\n",
       "    </tr>\n",
       "    <tr>\n",
       "      <td>2015-02-20 09:00:00</td>\n",
       "      <td>6.3</td>\n",
       "      <td>-16.8</td>\n",
       "    </tr>\n",
       "    <tr>\n",
       "      <td>2015-02-20 10:00:00</td>\n",
       "      <td>5.8</td>\n",
       "      <td>-16.8</td>\n",
       "    </tr>\n",
       "    <tr>\n",
       "      <td>2015-02-20 11:00:00</td>\n",
       "      <td>5.5</td>\n",
       "      <td>-17.4</td>\n",
       "    </tr>\n",
       "    <tr>\n",
       "      <td>2015-02-20 12:00:00</td>\n",
       "      <td>5.8</td>\n",
       "      <td>-17.4</td>\n",
       "    </tr>\n",
       "    <tr>\n",
       "      <td>2015-02-20 13:00:00</td>\n",
       "      <td>5.2</td>\n",
       "      <td>-17.4</td>\n",
       "    </tr>\n",
       "    <tr>\n",
       "      <td>2015-02-20 14:00:00</td>\n",
       "      <td>5.3</td>\n",
       "      <td>-14.0</td>\n",
       "    </tr>\n",
       "    <tr>\n",
       "      <td>2015-02-20 15:00:00</td>\n",
       "      <td>10.5</td>\n",
       "      <td>-14.2</td>\n",
       "    </tr>\n",
       "    <tr>\n",
       "      <td>2015-02-20 16:00:00</td>\n",
       "      <td>8.9</td>\n",
       "      <td>-14.0</td>\n",
       "    </tr>\n",
       "    <tr>\n",
       "      <td>2015-02-20 17:00:00</td>\n",
       "      <td>12.4</td>\n",
       "      <td>-10.4</td>\n",
       "    </tr>\n",
       "    <tr>\n",
       "      <td>2015-02-20 18:00:00</td>\n",
       "      <td>12.0</td>\n",
       "      <td>-10.2</td>\n",
       "    </tr>\n",
       "    <tr>\n",
       "      <td>2015-02-20 19:00:00</td>\n",
       "      <td>16.8</td>\n",
       "      <td>-9.9</td>\n",
       "    </tr>\n",
       "    <tr>\n",
       "      <td>2015-02-20 20:00:00</td>\n",
       "      <td>17.7</td>\n",
       "      <td>-9.3</td>\n",
       "    </tr>\n",
       "    <tr>\n",
       "      <td>2015-02-20 21:00:00</td>\n",
       "      <td>17.2</td>\n",
       "      <td>-9.3</td>\n",
       "    </tr>\n",
       "    <tr>\n",
       "      <td>2015-02-20 22:00:00</td>\n",
       "      <td>18.5</td>\n",
       "      <td>-9.3</td>\n",
       "    </tr>\n",
       "    <tr>\n",
       "      <td>2015-02-20 23:00:00</td>\n",
       "      <td>18.5</td>\n",
       "      <td>-14.0</td>\n",
       "    </tr>\n",
       "  </tbody>\n",
       "</table>\n",
       "</div>"
      ],
      "text/plain": [
       "                       LA    NY\n",
       "datetime                       \n",
       "2015-02-20 00:00:00  16.4 -12.4\n",
       "2015-02-20 01:00:00  17.5 -12.4\n",
       "2015-02-20 02:00:00  14.6 -14.5\n",
       "2015-02-20 03:00:00  13.9 -14.5\n",
       "2015-02-20 04:00:00  10.3 -14.5\n",
       "2015-02-20 05:00:00   8.9 -15.9\n",
       "2015-02-20 06:00:00   9.0 -15.9\n",
       "2015-02-20 07:00:00   7.1 -15.9\n",
       "2015-02-20 08:00:00   6.6 -16.8\n",
       "2015-02-20 09:00:00   6.3 -16.8\n",
       "2015-02-20 10:00:00   5.8 -16.8\n",
       "2015-02-20 11:00:00   5.5 -17.4\n",
       "2015-02-20 12:00:00   5.8 -17.4\n",
       "2015-02-20 13:00:00   5.2 -17.4\n",
       "2015-02-20 14:00:00   5.3 -14.0\n",
       "2015-02-20 15:00:00  10.5 -14.2\n",
       "2015-02-20 16:00:00   8.9 -14.0\n",
       "2015-02-20 17:00:00  12.4 -10.4\n",
       "2015-02-20 18:00:00  12.0 -10.2\n",
       "2015-02-20 19:00:00  16.8  -9.9\n",
       "2015-02-20 20:00:00  17.7  -9.3\n",
       "2015-02-20 21:00:00  17.2  -9.3\n",
       "2015-02-20 22:00:00  18.5  -9.3\n",
       "2015-02-20 23:00:00  18.5 -14.0"
      ]
     },
     "execution_count": 78,
     "metadata": {},
     "output_type": "execute_result"
    }
   ],
   "source": [
    "temp.loc[\"20FEBRUARY2015\"]"
   ]
  },
  {
   "cell_type": "code",
   "execution_count": 79,
   "metadata": {},
   "outputs": [
    {
     "ename": "KeyError",
     "evalue": "\"None of [Index(['2015-05-20 10:00:00', '2015-05-20 12:00:00'], dtype='object', name='datetime')] are in the [index]\"",
     "output_type": "error",
     "traceback": [
      "\u001b[1;31m---------------------------------------------------------------------------\u001b[0m",
      "\u001b[1;31mKeyError\u001b[0m                                  Traceback (most recent call last)",
      "\u001b[1;32m<ipython-input-79-55e07bc3f154>\u001b[0m in \u001b[0;36m<module>\u001b[1;34m\u001b[0m\n\u001b[1;32m----> 1\u001b[1;33m \u001b[0mtemp\u001b[0m\u001b[1;33m.\u001b[0m\u001b[0mloc\u001b[0m\u001b[1;33m[\u001b[0m\u001b[1;33m[\u001b[0m\u001b[1;34m\"2015-05-20 10:00:00\"\u001b[0m\u001b[1;33m,\u001b[0m\u001b[1;34m\"2015-05-20 12:00:00\"\u001b[0m\u001b[1;33m]\u001b[0m\u001b[1;33m]\u001b[0m\u001b[1;33m\u001b[0m\u001b[1;33m\u001b[0m\u001b[0m\n\u001b[0m",
      "\u001b[1;32m~\\Anaconda3\\lib\\site-packages\\pandas\\core\\indexing.py\u001b[0m in \u001b[0;36m__getitem__\u001b[1;34m(self, key)\u001b[0m\n\u001b[0;32m   1422\u001b[0m \u001b[1;33m\u001b[0m\u001b[0m\n\u001b[0;32m   1423\u001b[0m             \u001b[0mmaybe_callable\u001b[0m \u001b[1;33m=\u001b[0m \u001b[0mcom\u001b[0m\u001b[1;33m.\u001b[0m\u001b[0mapply_if_callable\u001b[0m\u001b[1;33m(\u001b[0m\u001b[0mkey\u001b[0m\u001b[1;33m,\u001b[0m \u001b[0mself\u001b[0m\u001b[1;33m.\u001b[0m\u001b[0mobj\u001b[0m\u001b[1;33m)\u001b[0m\u001b[1;33m\u001b[0m\u001b[1;33m\u001b[0m\u001b[0m\n\u001b[1;32m-> 1424\u001b[1;33m             \u001b[1;32mreturn\u001b[0m \u001b[0mself\u001b[0m\u001b[1;33m.\u001b[0m\u001b[0m_getitem_axis\u001b[0m\u001b[1;33m(\u001b[0m\u001b[0mmaybe_callable\u001b[0m\u001b[1;33m,\u001b[0m \u001b[0maxis\u001b[0m\u001b[1;33m=\u001b[0m\u001b[0maxis\u001b[0m\u001b[1;33m)\u001b[0m\u001b[1;33m\u001b[0m\u001b[1;33m\u001b[0m\u001b[0m\n\u001b[0m\u001b[0;32m   1425\u001b[0m \u001b[1;33m\u001b[0m\u001b[0m\n\u001b[0;32m   1426\u001b[0m     \u001b[1;32mdef\u001b[0m \u001b[0m_is_scalar_access\u001b[0m\u001b[1;33m(\u001b[0m\u001b[0mself\u001b[0m\u001b[1;33m,\u001b[0m \u001b[0mkey\u001b[0m\u001b[1;33m:\u001b[0m \u001b[0mTuple\u001b[0m\u001b[1;33m)\u001b[0m\u001b[1;33m:\u001b[0m\u001b[1;33m\u001b[0m\u001b[1;33m\u001b[0m\u001b[0m\n",
      "\u001b[1;32m~\\Anaconda3\\lib\\site-packages\\pandas\\core\\indexing.py\u001b[0m in \u001b[0;36m_getitem_axis\u001b[1;34m(self, key, axis)\u001b[0m\n\u001b[0;32m   1837\u001b[0m                     \u001b[1;32mraise\u001b[0m \u001b[0mValueError\u001b[0m\u001b[1;33m(\u001b[0m\u001b[1;34m\"Cannot index with multidimensional key\"\u001b[0m\u001b[1;33m)\u001b[0m\u001b[1;33m\u001b[0m\u001b[1;33m\u001b[0m\u001b[0m\n\u001b[0;32m   1838\u001b[0m \u001b[1;33m\u001b[0m\u001b[0m\n\u001b[1;32m-> 1839\u001b[1;33m                 \u001b[1;32mreturn\u001b[0m \u001b[0mself\u001b[0m\u001b[1;33m.\u001b[0m\u001b[0m_getitem_iterable\u001b[0m\u001b[1;33m(\u001b[0m\u001b[0mkey\u001b[0m\u001b[1;33m,\u001b[0m \u001b[0maxis\u001b[0m\u001b[1;33m=\u001b[0m\u001b[0maxis\u001b[0m\u001b[1;33m)\u001b[0m\u001b[1;33m\u001b[0m\u001b[1;33m\u001b[0m\u001b[0m\n\u001b[0m\u001b[0;32m   1840\u001b[0m \u001b[1;33m\u001b[0m\u001b[0m\n\u001b[0;32m   1841\u001b[0m             \u001b[1;31m# nested tuple slicing\u001b[0m\u001b[1;33m\u001b[0m\u001b[1;33m\u001b[0m\u001b[1;33m\u001b[0m\u001b[0m\n",
      "\u001b[1;32m~\\Anaconda3\\lib\\site-packages\\pandas\\core\\indexing.py\u001b[0m in \u001b[0;36m_getitem_iterable\u001b[1;34m(self, key, axis)\u001b[0m\n\u001b[0;32m   1131\u001b[0m         \u001b[1;32melse\u001b[0m\u001b[1;33m:\u001b[0m\u001b[1;33m\u001b[0m\u001b[1;33m\u001b[0m\u001b[0m\n\u001b[0;32m   1132\u001b[0m             \u001b[1;31m# A collection of keys\u001b[0m\u001b[1;33m\u001b[0m\u001b[1;33m\u001b[0m\u001b[1;33m\u001b[0m\u001b[0m\n\u001b[1;32m-> 1133\u001b[1;33m             \u001b[0mkeyarr\u001b[0m\u001b[1;33m,\u001b[0m \u001b[0mindexer\u001b[0m \u001b[1;33m=\u001b[0m \u001b[0mself\u001b[0m\u001b[1;33m.\u001b[0m\u001b[0m_get_listlike_indexer\u001b[0m\u001b[1;33m(\u001b[0m\u001b[0mkey\u001b[0m\u001b[1;33m,\u001b[0m \u001b[0maxis\u001b[0m\u001b[1;33m,\u001b[0m \u001b[0mraise_missing\u001b[0m\u001b[1;33m=\u001b[0m\u001b[1;32mFalse\u001b[0m\u001b[1;33m)\u001b[0m\u001b[1;33m\u001b[0m\u001b[1;33m\u001b[0m\u001b[0m\n\u001b[0m\u001b[0;32m   1134\u001b[0m             return self.obj._reindex_with_indexers(\n\u001b[0;32m   1135\u001b[0m                 \u001b[1;33m{\u001b[0m\u001b[0maxis\u001b[0m\u001b[1;33m:\u001b[0m \u001b[1;33m[\u001b[0m\u001b[0mkeyarr\u001b[0m\u001b[1;33m,\u001b[0m \u001b[0mindexer\u001b[0m\u001b[1;33m]\u001b[0m\u001b[1;33m}\u001b[0m\u001b[1;33m,\u001b[0m \u001b[0mcopy\u001b[0m\u001b[1;33m=\u001b[0m\u001b[1;32mTrue\u001b[0m\u001b[1;33m,\u001b[0m \u001b[0mallow_dups\u001b[0m\u001b[1;33m=\u001b[0m\u001b[1;32mTrue\u001b[0m\u001b[1;33m\u001b[0m\u001b[1;33m\u001b[0m\u001b[0m\n",
      "\u001b[1;32m~\\Anaconda3\\lib\\site-packages\\pandas\\core\\indexing.py\u001b[0m in \u001b[0;36m_get_listlike_indexer\u001b[1;34m(self, key, axis, raise_missing)\u001b[0m\n\u001b[0;32m   1090\u001b[0m \u001b[1;33m\u001b[0m\u001b[0m\n\u001b[0;32m   1091\u001b[0m         self._validate_read_indexer(\n\u001b[1;32m-> 1092\u001b[1;33m             \u001b[0mkeyarr\u001b[0m\u001b[1;33m,\u001b[0m \u001b[0mindexer\u001b[0m\u001b[1;33m,\u001b[0m \u001b[0mo\u001b[0m\u001b[1;33m.\u001b[0m\u001b[0m_get_axis_number\u001b[0m\u001b[1;33m(\u001b[0m\u001b[0maxis\u001b[0m\u001b[1;33m)\u001b[0m\u001b[1;33m,\u001b[0m \u001b[0mraise_missing\u001b[0m\u001b[1;33m=\u001b[0m\u001b[0mraise_missing\u001b[0m\u001b[1;33m\u001b[0m\u001b[1;33m\u001b[0m\u001b[0m\n\u001b[0m\u001b[0;32m   1093\u001b[0m         )\n\u001b[0;32m   1094\u001b[0m         \u001b[1;32mreturn\u001b[0m \u001b[0mkeyarr\u001b[0m\u001b[1;33m,\u001b[0m \u001b[0mindexer\u001b[0m\u001b[1;33m\u001b[0m\u001b[1;33m\u001b[0m\u001b[0m\n",
      "\u001b[1;32m~\\Anaconda3\\lib\\site-packages\\pandas\\core\\indexing.py\u001b[0m in \u001b[0;36m_validate_read_indexer\u001b[1;34m(self, key, indexer, axis, raise_missing)\u001b[0m\n\u001b[0;32m   1175\u001b[0m                 raise KeyError(\n\u001b[0;32m   1176\u001b[0m                     \"None of [{key}] are in the [{axis}]\".format(\n\u001b[1;32m-> 1177\u001b[1;33m                         \u001b[0mkey\u001b[0m\u001b[1;33m=\u001b[0m\u001b[0mkey\u001b[0m\u001b[1;33m,\u001b[0m \u001b[0maxis\u001b[0m\u001b[1;33m=\u001b[0m\u001b[0mself\u001b[0m\u001b[1;33m.\u001b[0m\u001b[0mobj\u001b[0m\u001b[1;33m.\u001b[0m\u001b[0m_get_axis_name\u001b[0m\u001b[1;33m(\u001b[0m\u001b[0maxis\u001b[0m\u001b[1;33m)\u001b[0m\u001b[1;33m\u001b[0m\u001b[1;33m\u001b[0m\u001b[0m\n\u001b[0m\u001b[0;32m   1178\u001b[0m                     )\n\u001b[0;32m   1179\u001b[0m                 )\n",
      "\u001b[1;31mKeyError\u001b[0m: \"None of [Index(['2015-05-20 10:00:00', '2015-05-20 12:00:00'], dtype='object', name='datetime')] are in the [index]\""
     ]
    }
   ],
   "source": [
    "temp.loc[[\"2015-05-20 10:00:00\",\"2015-05-20 12:00:00\"]]"
   ]
  },
  {
   "cell_type": "code",
   "execution_count": 80,
   "metadata": {},
   "outputs": [
    {
     "data": {
      "text/plain": [
       "DatetimeIndex(['2015-05-20 10:00:00', '2015-05-20 12:00:00'], dtype='datetime64[ns]', freq=None)"
      ]
     },
     "execution_count": 80,
     "metadata": {},
     "output_type": "execute_result"
    }
   ],
   "source": [
    "two_timestamp= pd.to_datetime([\"2015-05-20 10:00:00\",\"2015-05-20 12:00:00\"])\n",
    "two_timestamp"
   ]
  },
  {
   "cell_type": "code",
   "execution_count": 81,
   "metadata": {},
   "outputs": [
    {
     "data": {
      "text/html": [
       "<div>\n",
       "<style scoped>\n",
       "    .dataframe tbody tr th:only-of-type {\n",
       "        vertical-align: middle;\n",
       "    }\n",
       "\n",
       "    .dataframe tbody tr th {\n",
       "        vertical-align: top;\n",
       "    }\n",
       "\n",
       "    .dataframe thead th {\n",
       "        text-align: right;\n",
       "    }\n",
       "</style>\n",
       "<table border=\"1\" class=\"dataframe\">\n",
       "  <thead>\n",
       "    <tr style=\"text-align: right;\">\n",
       "      <th></th>\n",
       "      <th>LA</th>\n",
       "      <th>NY</th>\n",
       "    </tr>\n",
       "  </thead>\n",
       "  <tbody>\n",
       "    <tr>\n",
       "      <td>2015-05-20 10:00:00</td>\n",
       "      <td>7.8</td>\n",
       "      <td>13.3</td>\n",
       "    </tr>\n",
       "    <tr>\n",
       "      <td>2015-05-20 12:00:00</td>\n",
       "      <td>9.7</td>\n",
       "      <td>13.6</td>\n",
       "    </tr>\n",
       "  </tbody>\n",
       "</table>\n",
       "</div>"
      ],
      "text/plain": [
       "                      LA    NY\n",
       "2015-05-20 10:00:00  7.8  13.3\n",
       "2015-05-20 12:00:00  9.7  13.6"
      ]
     },
     "execution_count": 81,
     "metadata": {},
     "output_type": "execute_result"
    }
   ],
   "source": [
    "temp.loc[two_timestamp]"
   ]
  },
  {
   "cell_type": "markdown",
   "metadata": {},
   "source": [
    "## Creating a customized DatetimeIndex with pd.date_range()"
   ]
  },
  {
   "cell_type": "code",
   "execution_count": 84,
   "metadata": {},
   "outputs": [
    {
     "data": {
      "text/plain": [
       "DatetimeIndex(['2015-05-20', '2015-02-20'], dtype='datetime64[ns]', freq=None)"
      ]
     },
     "execution_count": 84,
     "metadata": {},
     "output_type": "execute_result"
    }
   ],
   "source": [
    "pd.to_datetime([\"2015-05-20\",\"Feb 20 2015\"])"
   ]
  },
  {
   "cell_type": "code",
   "execution_count": 85,
   "metadata": {},
   "outputs": [
    {
     "data": {
      "text/plain": [
       "DatetimeIndex(['2015-07-01', '2015-07-02', '2015-07-03', '2015-07-04',\n",
       "               '2015-07-05', '2015-07-06', '2015-07-07', '2015-07-08',\n",
       "               '2015-07-09', '2015-07-10', '2015-07-11', '2015-07-12',\n",
       "               '2015-07-13', '2015-07-14', '2015-07-15', '2015-07-16',\n",
       "               '2015-07-17', '2015-07-18', '2015-07-19', '2015-07-20',\n",
       "               '2015-07-21', '2015-07-22', '2015-07-23', '2015-07-24',\n",
       "               '2015-07-25', '2015-07-26', '2015-07-27', '2015-07-28',\n",
       "               '2015-07-29', '2015-07-30', '2015-07-31'],\n",
       "              dtype='datetime64[ns]', freq='D')"
      ]
     },
     "execution_count": 85,
     "metadata": {},
     "output_type": "execute_result"
    }
   ],
   "source": [
    "pd.date_range(start=\"2015-07-01\",end=\"2015-07-31\")  # pd.date_range( start=\"DATE\",end=\"DATE\")"
   ]
  },
  {
   "cell_type": "code",
   "execution_count": 86,
   "metadata": {},
   "outputs": [
    {
     "data": {
      "text/plain": [
       "DatetimeIndex(['2015-07-01', '2015-07-02', '2015-07-03', '2015-07-04',\n",
       "               '2015-07-05', '2015-07-06', '2015-07-07', '2015-07-08',\n",
       "               '2015-07-09', '2015-07-10', '2015-07-11', '2015-07-12',\n",
       "               '2015-07-13', '2015-07-14', '2015-07-15', '2015-07-16',\n",
       "               '2015-07-17', '2015-07-18', '2015-07-19', '2015-07-20',\n",
       "               '2015-07-21', '2015-07-22', '2015-07-23', '2015-07-24',\n",
       "               '2015-07-25', '2015-07-26', '2015-07-27', '2015-07-28',\n",
       "               '2015-07-29', '2015-07-30', '2015-07-31'],\n",
       "              dtype='datetime64[ns]', freq='D')"
      ]
     },
     "execution_count": 86,
     "metadata": {},
     "output_type": "execute_result"
    }
   ],
   "source": [
    "pd.date_range(start=\"2015-07-01\",periods=31,freq=\"D\") # pd.date_range( start=\"DATE\",periods= no.of days  , freq= \"\")"
   ]
  },
  {
   "cell_type": "code",
   "execution_count": 92,
   "metadata": {},
   "outputs": [
    {
     "data": {
      "text/plain": [
       "DatetimeIndex(['2015-07-01', '2015-07-02', '2015-07-03', '2015-07-04',\n",
       "               '2015-07-05', '2015-07-06', '2015-07-07', '2015-07-08',\n",
       "               '2015-07-09', '2015-07-10', '2015-07-11', '2015-07-12',\n",
       "               '2015-07-13', '2015-07-14', '2015-07-15', '2015-07-16',\n",
       "               '2015-07-17', '2015-07-18', '2015-07-19', '2015-07-20',\n",
       "               '2015-07-21', '2015-07-22', '2015-07-23', '2015-07-24',\n",
       "               '2015-07-25', '2015-07-26', '2015-07-27', '2015-07-28',\n",
       "               '2015-07-29', '2015-07-30', '2015-07-31'],\n",
       "              dtype='datetime64[ns]', freq='D')"
      ]
     },
     "execution_count": 92,
     "metadata": {},
     "output_type": "execute_result"
    }
   ],
   "source": [
    "pd.date_range(end=\"2015-07-31\",periods=31,freq=\"D\")#freq=\"D\"    D-Daily"
   ]
  },
  {
   "cell_type": "code",
   "execution_count": 95,
   "metadata": {},
   "outputs": [
    {
     "data": {
      "text/plain": [
       "DatetimeIndex(['2015-07-01', '2015-07-02', '2015-07-03', '2015-07-06',\n",
       "               '2015-07-07', '2015-07-08', '2015-07-09', '2015-07-10',\n",
       "               '2015-07-13', '2015-07-14', '2015-07-15', '2015-07-16',\n",
       "               '2015-07-17', '2015-07-20', '2015-07-21', '2015-07-22',\n",
       "               '2015-07-23', '2015-07-24', '2015-07-27', '2015-07-28',\n",
       "               '2015-07-29', '2015-07-30', '2015-07-31'],\n",
       "              dtype='datetime64[ns]', freq='B')"
      ]
     },
     "execution_count": 95,
     "metadata": {},
     "output_type": "execute_result"
    }
   ],
   "source": [
    "pd.date_range(start=\"2015-07-01\",end=\"2015-07-31\",freq=\"B\")   # freq= 'B' -B for business days"
   ]
  },
  {
   "cell_type": "code",
   "execution_count": 97,
   "metadata": {},
   "outputs": [
    {
     "data": {
      "text/plain": [
       "DatetimeIndex(['2015-07-31 00:00:00', '2015-07-31 01:00:00',\n",
       "               '2015-07-31 02:00:00', '2015-07-31 03:00:00',\n",
       "               '2015-07-31 04:00:00', '2015-07-31 05:00:00',\n",
       "               '2015-07-31 06:00:00', '2015-07-31 07:00:00',\n",
       "               '2015-07-31 08:00:00', '2015-07-31 09:00:00'],\n",
       "              dtype='datetime64[ns]', freq='H')"
      ]
     },
     "execution_count": 97,
     "metadata": {},
     "output_type": "execute_result"
    }
   ],
   "source": [
    "pd.date_range(start=\"2015-07-31\",periods=10,freq=\"H\")          # freq= 'H' -Hourly frequency"
   ]
  },
  {
   "cell_type": "code",
   "execution_count": 98,
   "metadata": {},
   "outputs": [
    {
     "data": {
      "text/plain": [
       "DatetimeIndex(['2015-07-05', '2015-07-12', '2015-07-19', '2015-07-26',\n",
       "               '2015-08-02', '2015-08-09'],\n",
       "              dtype='datetime64[ns]', freq='W-SUN')"
      ]
     },
     "execution_count": 98,
     "metadata": {},
     "output_type": "execute_result"
    }
   ],
   "source": [
    "pd.date_range(start=\"2015-07-01\",periods=6,freq=\"W\")         # freq= 'W' -Weekly frequency"
   ]
  },
  {
   "cell_type": "code",
   "execution_count": 104,
   "metadata": {},
   "outputs": [
    {
     "data": {
      "text/plain": [
       "DatetimeIndex(['2015-08-05', '2015-08-12', '2015-08-19', '2015-08-26',\n",
       "               '2015-09-02', '2015-09-09'],\n",
       "              dtype='datetime64[ns]', freq='W-WED')"
      ]
     },
     "execution_count": 104,
     "metadata": {},
     "output_type": "execute_result"
    }
   ],
   "source": [
    "pd.date_range(start=\"2015-07-31\",periods=6,freq=\"W-Wed\")   # freq= 'W-Wed' -Weekly frequency- all wednesday"
   ]
  },
  {
   "cell_type": "code",
   "execution_count": 103,
   "metadata": {},
   "outputs": [
    {
     "data": {
      "text/plain": [
       "DatetimeIndex(['2015-07-31', '2015-08-31', '2015-09-30', '2015-10-31',\n",
       "               '2015-11-30', '2015-12-31'],\n",
       "              dtype='datetime64[ns]', freq='M')"
      ]
     },
     "execution_count": 103,
     "metadata": {},
     "output_type": "execute_result"
    }
   ],
   "source": [
    "pd.date_range(start=\"2015-07-14\",periods=6,freq=\"M\")         # freq= 'M' -Monthly frequency"
   ]
  },
  {
   "cell_type": "code",
   "execution_count": 101,
   "metadata": {},
   "outputs": [
    {
     "data": {
      "text/plain": [
       "DatetimeIndex(['2015-08-01', '2015-09-01', '2015-10-01', '2015-11-01',\n",
       "               '2015-12-01', '2016-01-01', '2016-02-01', '2016-03-01',\n",
       "               '2016-04-01', '2016-05-01'],\n",
       "              dtype='datetime64[ns]', freq='MS')"
      ]
     },
     "execution_count": 101,
     "metadata": {},
     "output_type": "execute_result"
    }
   ],
   "source": [
    "pd.date_range(start=\"2015-07-14\",periods=6,freq=\"MS\")       # freq= 'MS' -Monthly Start day i.e 1st of month"
   ]
  },
  {
   "cell_type": "code",
   "execution_count": 102,
   "metadata": {},
   "outputs": [
    {
     "data": {
      "text/plain": [
       "DatetimeIndex(['2015-07-31', '2015-08-31', '2015-09-30', '2015-10-30',\n",
       "               '2015-11-30', '2015-12-30'],\n",
       "              dtype='datetime64[ns]', freq='<DateOffset: months=1>')"
      ]
     },
     "execution_count": 102,
     "metadata": {},
     "output_type": "execute_result"
    }
   ],
   "source": [
    "pd.date_range(start=\"2015-07-31\",periods=6,freq=pd.DateOffset(months=1))   #DateOffset(month=\" 1\") "
   ]
  },
  {
   "cell_type": "code",
   "execution_count": 105,
   "metadata": {},
   "outputs": [
    {
     "data": {
      "text/plain": [
       "DatetimeIndex(['2015-09-30', '2015-12-31', '2016-03-31', '2016-06-30',\n",
       "               '2016-09-30', '2016-12-31'],\n",
       "              dtype='datetime64[ns]', freq='Q-DEC')"
      ]
     },
     "execution_count": 105,
     "metadata": {},
     "output_type": "execute_result"
    }
   ],
   "source": [
    "pd.date_range(start=\"2015-07-14\",periods=6,freq=\"Q\")     # freq= 'Q' -Quatarly Frequency"
   ]
  },
  {
   "cell_type": "code",
   "execution_count": 109,
   "metadata": {},
   "outputs": [
    {
     "data": {
      "text/plain": [
       "DatetimeIndex(['2015-08-01', '2015-11-01', '2016-02-01', '2016-05-01',\n",
       "               '2016-08-01', '2016-11-01'],\n",
       "              dtype='datetime64[ns]', freq='QS-MAY')"
      ]
     },
     "execution_count": 109,
     "metadata": {},
     "output_type": "execute_result"
    }
   ],
   "source": [
    "pd.date_range(start=\"2015-07-14\",periods=6,freq= \"QS-May\")    # freq= 'Q' -Quatarly Frequency"
   ]
  },
  {
   "cell_type": "code",
   "execution_count": 110,
   "metadata": {},
   "outputs": [
    {
     "data": {
      "text/plain": [
       "DatetimeIndex(['2015-12-31', '2016-12-31', '2017-12-31', '2018-12-31',\n",
       "               '2019-12-31', '2020-12-31'],\n",
       "              dtype='datetime64[ns]', freq='A-DEC')"
      ]
     },
     "execution_count": 110,
     "metadata": {},
     "output_type": "execute_result"
    }
   ],
   "source": [
    "pd.date_range(start = \"2015-07-14\", periods = 6,  freq = \"A\")   # freq= 'A' -Annually Frequency"
   ]
  },
  {
   "cell_type": "code",
   "execution_count": 111,
   "metadata": {},
   "outputs": [
    {
     "data": {
      "text/plain": [
       "DatetimeIndex(['2016-01-01', '2017-01-01', '2018-01-01', '2019-01-01',\n",
       "               '2020-01-01', '2021-01-01'],\n",
       "              dtype='datetime64[ns]', freq='AS-JAN')"
      ]
     },
     "execution_count": 111,
     "metadata": {},
     "output_type": "execute_result"
    }
   ],
   "source": [
    "pd.date_range(start = \"2015-07-14\", periods = 6,  freq = \"AS\")   # freq= 'AS' -Annually Frequency With start date."
   ]
  },
  {
   "cell_type": "code",
   "execution_count": 114,
   "metadata": {},
   "outputs": [
    {
     "data": {
      "text/plain": [
       "DatetimeIndex(['2016-07-01', '2017-07-01', '2018-07-01', '2019-07-01',\n",
       "               '2020-07-01', '2021-07-01'],\n",
       "              dtype='datetime64[ns]', freq='AS-JUL')"
      ]
     },
     "execution_count": 114,
     "metadata": {},
     "output_type": "execute_result"
    }
   ],
   "source": [
    "pd.date_range(start = \"2015-07-14\", periods = 6,  freq = \"AS-Jul\")  # freq='AS'-Annually Frequency-start date from july"
   ]
  },
  {
   "cell_type": "code",
   "execution_count": 113,
   "metadata": {},
   "outputs": [
    {
     "data": {
      "text/plain": [
       "DatetimeIndex(['2009-11-24', '2010-11-24', '2011-11-24', '2012-11-24',\n",
       "               '2013-11-24', '2014-11-24', '2015-11-24', '2016-11-24',\n",
       "               '2017-11-24', '2018-11-24'],\n",
       "              dtype='datetime64[ns]', freq='<DateOffset: years=1>')"
      ]
     },
     "execution_count": 113,
     "metadata": {},
     "output_type": "execute_result"
    }
   ],
   "source": [
    "pd.date_range(end = \"2018-11-24\", periods = 10,  freq = pd.DateOffset(years = 1)) #DateOffset(years=\" 1\") "
   ]
  },
  {
   "cell_type": "code",
   "execution_count": 115,
   "metadata": {},
   "outputs": [
    {
     "data": {
      "text/plain": [
       "DatetimeIndex(['2015-07-01 00:00:00', '2015-07-04 08:00:00',\n",
       "               '2015-07-07 16:00:00', '2015-07-11 00:00:00',\n",
       "               '2015-07-14 08:00:00', '2015-07-17 16:00:00',\n",
       "               '2015-07-21 00:00:00', '2015-07-24 08:00:00',\n",
       "               '2015-07-27 16:00:00', '2015-07-31 00:00:00'],\n",
       "              dtype='datetime64[ns]', freq='80H')"
      ]
     },
     "execution_count": 115,
     "metadata": {},
     "output_type": "execute_result"
    }
   ],
   "source": [
    "pd.date_range(start = \"2015-07-01\", periods = 10, freq = \"2H\")  # Increament of two hours"
   ]
  },
  {
   "cell_type": "code",
   "execution_count": 116,
   "metadata": {},
   "outputs": [
    {
     "data": {
      "text/plain": [
       "DatetimeIndex(['2015-07-01 00:00:00', '2015-07-04 08:00:00',\n",
       "               '2015-07-07 16:00:00', '2015-07-11 00:00:00',\n",
       "               '2015-07-14 08:00:00', '2015-07-17 16:00:00',\n",
       "               '2015-07-21 00:00:00', '2015-07-24 08:00:00',\n",
       "               '2015-07-27 16:00:00', '2015-07-31 00:00:00'],\n",
       "              dtype='datetime64[ns]', freq='80H')"
      ]
     },
     "execution_count": 116,
     "metadata": {},
     "output_type": "execute_result"
    }
   ],
   "source": [
    "pd.date_range(start = \"2015-07-01\", periods = 10, freq = \"3D8H\")  # Increament of three days and 8 hour later."
   ]
  },
  {
   "cell_type": "markdown",
   "metadata": {},
   "source": [
    "## Downsampling Time Series with resample()  -Downsampling from high to low freq."
   ]
  },
  {
   "cell_type": "code",
   "execution_count": 117,
   "metadata": {},
   "outputs": [],
   "source": [
    "temp = pd.read_csv(\"temp.csv\", parse_dates= [\"datetime\"], index_col = \"datetime\")\n"
   ]
  },
  {
   "cell_type": "code",
   "execution_count": 118,
   "metadata": {},
   "outputs": [
    {
     "data": {
      "text/html": [
       "<div>\n",
       "<style scoped>\n",
       "    .dataframe tbody tr th:only-of-type {\n",
       "        vertical-align: middle;\n",
       "    }\n",
       "\n",
       "    .dataframe tbody tr th {\n",
       "        vertical-align: top;\n",
       "    }\n",
       "\n",
       "    .dataframe thead th {\n",
       "        text-align: right;\n",
       "    }\n",
       "</style>\n",
       "<table border=\"1\" class=\"dataframe\">\n",
       "  <thead>\n",
       "    <tr style=\"text-align: right;\">\n",
       "      <th></th>\n",
       "      <th>LA</th>\n",
       "      <th>NY</th>\n",
       "    </tr>\n",
       "    <tr>\n",
       "      <th>datetime</th>\n",
       "      <th></th>\n",
       "      <th></th>\n",
       "    </tr>\n",
       "  </thead>\n",
       "  <tbody>\n",
       "    <tr>\n",
       "      <td>2013-01-01 00:00:00</td>\n",
       "      <td>11.7</td>\n",
       "      <td>-1.1</td>\n",
       "    </tr>\n",
       "    <tr>\n",
       "      <td>2013-01-01 01:00:00</td>\n",
       "      <td>10.7</td>\n",
       "      <td>-1.7</td>\n",
       "    </tr>\n",
       "    <tr>\n",
       "      <td>2013-01-01 02:00:00</td>\n",
       "      <td>9.9</td>\n",
       "      <td>-2.0</td>\n",
       "    </tr>\n",
       "    <tr>\n",
       "      <td>2013-01-01 03:00:00</td>\n",
       "      <td>9.3</td>\n",
       "      <td>-2.1</td>\n",
       "    </tr>\n",
       "    <tr>\n",
       "      <td>2013-01-01 04:00:00</td>\n",
       "      <td>8.8</td>\n",
       "      <td>-2.3</td>\n",
       "    </tr>\n",
       "  </tbody>\n",
       "</table>\n",
       "</div>"
      ],
      "text/plain": [
       "                       LA   NY\n",
       "datetime                      \n",
       "2013-01-01 00:00:00  11.7 -1.1\n",
       "2013-01-01 01:00:00  10.7 -1.7\n",
       "2013-01-01 02:00:00   9.9 -2.0\n",
       "2013-01-01 03:00:00   9.3 -2.1\n",
       "2013-01-01 04:00:00   8.8 -2.3"
      ]
     },
     "execution_count": 118,
     "metadata": {},
     "output_type": "execute_result"
    }
   ],
   "source": [
    "temp.head()"
   ]
  },
  {
   "cell_type": "code",
   "execution_count": 120,
   "metadata": {},
   "outputs": [
    {
     "name": "stdout",
     "output_type": "stream",
     "text": [
      "<class 'pandas.core.frame.DataFrame'>\n",
      "DatetimeIndex: 35064 entries, 2013-01-01 00:00:00 to 2016-12-31 23:00:00\n",
      "Data columns (total 2 columns):\n",
      "LA    35062 non-null float64\n",
      "NY    35064 non-null float64\n",
      "dtypes: float64(2)\n",
      "memory usage: 821.8 KB\n"
     ]
    }
   ],
   "source": [
    "temp.info()"
   ]
  },
  {
   "cell_type": "code",
   "execution_count": 121,
   "metadata": {},
   "outputs": [
    {
     "data": {
      "text/plain": [
       "<pandas.core.resample.DatetimeIndexResampler object at 0x0000026D4067D548>"
      ]
     },
     "execution_count": 121,
     "metadata": {},
     "output_type": "execute_result"
    }
   ],
   "source": [
    "temp.resample(\"D\")# works like groupby method -so it make group \"D\" day wise"
   ]
  },
  {
   "cell_type": "code",
   "execution_count": 123,
   "metadata": {},
   "outputs": [
    {
     "data": {
      "text/plain": [
       "1461"
      ]
     },
     "execution_count": 123,
     "metadata": {},
     "output_type": "execute_result"
    }
   ],
   "source": [
    "len(list(temp.resample(\"D\")))"
   ]
  },
  {
   "cell_type": "code",
   "execution_count": 126,
   "metadata": {},
   "outputs": [
    {
     "data": {
      "text/html": [
       "<div>\n",
       "<style scoped>\n",
       "    .dataframe tbody tr th:only-of-type {\n",
       "        vertical-align: middle;\n",
       "    }\n",
       "\n",
       "    .dataframe tbody tr th {\n",
       "        vertical-align: top;\n",
       "    }\n",
       "\n",
       "    .dataframe thead th {\n",
       "        text-align: right;\n",
       "    }\n",
       "</style>\n",
       "<table border=\"1\" class=\"dataframe\">\n",
       "  <thead>\n",
       "    <tr style=\"text-align: right;\">\n",
       "      <th></th>\n",
       "      <th>LA</th>\n",
       "      <th>NY</th>\n",
       "    </tr>\n",
       "    <tr>\n",
       "      <th>datetime</th>\n",
       "      <th></th>\n",
       "      <th></th>\n",
       "    </tr>\n",
       "  </thead>\n",
       "  <tbody>\n",
       "    <tr>\n",
       "      <td>2013-01-02 00:00:00</td>\n",
       "      <td>13.2</td>\n",
       "      <td>2.6</td>\n",
       "    </tr>\n",
       "    <tr>\n",
       "      <td>2013-01-02 01:00:00</td>\n",
       "      <td>11.8</td>\n",
       "      <td>2.7</td>\n",
       "    </tr>\n",
       "    <tr>\n",
       "      <td>2013-01-02 02:00:00</td>\n",
       "      <td>10.5</td>\n",
       "      <td>2.9</td>\n",
       "    </tr>\n",
       "    <tr>\n",
       "      <td>2013-01-02 03:00:00</td>\n",
       "      <td>9.5</td>\n",
       "      <td>2.9</td>\n",
       "    </tr>\n",
       "    <tr>\n",
       "      <td>2013-01-02 04:00:00</td>\n",
       "      <td>8.3</td>\n",
       "      <td>2.9</td>\n",
       "    </tr>\n",
       "    <tr>\n",
       "      <td>2013-01-02 05:00:00</td>\n",
       "      <td>8.0</td>\n",
       "      <td>3.5</td>\n",
       "    </tr>\n",
       "    <tr>\n",
       "      <td>2013-01-02 06:00:00</td>\n",
       "      <td>7.5</td>\n",
       "      <td>3.7</td>\n",
       "    </tr>\n",
       "    <tr>\n",
       "      <td>2013-01-02 07:00:00</td>\n",
       "      <td>7.1</td>\n",
       "      <td>3.5</td>\n",
       "    </tr>\n",
       "    <tr>\n",
       "      <td>2013-01-02 08:00:00</td>\n",
       "      <td>6.4</td>\n",
       "      <td>3.7</td>\n",
       "    </tr>\n",
       "    <tr>\n",
       "      <td>2013-01-02 09:00:00</td>\n",
       "      <td>6.0</td>\n",
       "      <td>3.6</td>\n",
       "    </tr>\n",
       "    <tr>\n",
       "      <td>2013-01-02 10:00:00</td>\n",
       "      <td>5.9</td>\n",
       "      <td>3.5</td>\n",
       "    </tr>\n",
       "    <tr>\n",
       "      <td>2013-01-02 11:00:00</td>\n",
       "      <td>6.1</td>\n",
       "      <td>3.6</td>\n",
       "    </tr>\n",
       "    <tr>\n",
       "      <td>2013-01-02 12:00:00</td>\n",
       "      <td>5.8</td>\n",
       "      <td>3.5</td>\n",
       "    </tr>\n",
       "    <tr>\n",
       "      <td>2013-01-02 13:00:00</td>\n",
       "      <td>5.6</td>\n",
       "      <td>3.5</td>\n",
       "    </tr>\n",
       "    <tr>\n",
       "      <td>2013-01-02 14:00:00</td>\n",
       "      <td>5.8</td>\n",
       "      <td>3.7</td>\n",
       "    </tr>\n",
       "    <tr>\n",
       "      <td>2013-01-02 15:00:00</td>\n",
       "      <td>5.9</td>\n",
       "      <td>4.0</td>\n",
       "    </tr>\n",
       "    <tr>\n",
       "      <td>2013-01-02 16:00:00</td>\n",
       "      <td>6.4</td>\n",
       "      <td>4.0</td>\n",
       "    </tr>\n",
       "    <tr>\n",
       "      <td>2013-01-02 17:00:00</td>\n",
       "      <td>9.0</td>\n",
       "      <td>3.6</td>\n",
       "    </tr>\n",
       "    <tr>\n",
       "      <td>2013-01-02 18:00:00</td>\n",
       "      <td>11.5</td>\n",
       "      <td>3.1</td>\n",
       "    </tr>\n",
       "    <tr>\n",
       "      <td>2013-01-02 19:00:00</td>\n",
       "      <td>13.3</td>\n",
       "      <td>3.2</td>\n",
       "    </tr>\n",
       "    <tr>\n",
       "      <td>2013-01-02 20:00:00</td>\n",
       "      <td>14.2</td>\n",
       "      <td>3.2</td>\n",
       "    </tr>\n",
       "    <tr>\n",
       "      <td>2013-01-02 21:00:00</td>\n",
       "      <td>15.0</td>\n",
       "      <td>2.9</td>\n",
       "    </tr>\n",
       "    <tr>\n",
       "      <td>2013-01-02 22:00:00</td>\n",
       "      <td>14.9</td>\n",
       "      <td>2.0</td>\n",
       "    </tr>\n",
       "    <tr>\n",
       "      <td>2013-01-02 23:00:00</td>\n",
       "      <td>15.1</td>\n",
       "      <td>1.2</td>\n",
       "    </tr>\n",
       "  </tbody>\n",
       "</table>\n",
       "</div>"
      ],
      "text/plain": [
       "                       LA   NY\n",
       "datetime                      \n",
       "2013-01-02 00:00:00  13.2  2.6\n",
       "2013-01-02 01:00:00  11.8  2.7\n",
       "2013-01-02 02:00:00  10.5  2.9\n",
       "2013-01-02 03:00:00   9.5  2.9\n",
       "2013-01-02 04:00:00   8.3  2.9\n",
       "2013-01-02 05:00:00   8.0  3.5\n",
       "2013-01-02 06:00:00   7.5  3.7\n",
       "2013-01-02 07:00:00   7.1  3.5\n",
       "2013-01-02 08:00:00   6.4  3.7\n",
       "2013-01-02 09:00:00   6.0  3.6\n",
       "2013-01-02 10:00:00   5.9  3.5\n",
       "2013-01-02 11:00:00   6.1  3.6\n",
       "2013-01-02 12:00:00   5.8  3.5\n",
       "2013-01-02 13:00:00   5.6  3.5\n",
       "2013-01-02 14:00:00   5.8  3.7\n",
       "2013-01-02 15:00:00   5.9  4.0\n",
       "2013-01-02 16:00:00   6.4  4.0\n",
       "2013-01-02 17:00:00   9.0  3.6\n",
       "2013-01-02 18:00:00  11.5  3.1\n",
       "2013-01-02 19:00:00  13.3  3.2\n",
       "2013-01-02 20:00:00  14.2  3.2\n",
       "2013-01-02 21:00:00  15.0  2.9\n",
       "2013-01-02 22:00:00  14.9  2.0\n",
       "2013-01-02 23:00:00  15.1  1.2"
      ]
     },
     "execution_count": 126,
     "metadata": {},
     "output_type": "execute_result"
    }
   ],
   "source": [
    "list(temp.resample(\"D\"))[1][1] #each day has 24 time stamp i.e 24 datapoints so we need to convert 24 into 1 data point"
   ]
  },
  {
   "cell_type": "code",
   "execution_count": 130,
   "metadata": {},
   "outputs": [
    {
     "data": {
      "text/html": [
       "<div>\n",
       "<style scoped>\n",
       "    .dataframe tbody tr th:only-of-type {\n",
       "        vertical-align: middle;\n",
       "    }\n",
       "\n",
       "    .dataframe tbody tr th {\n",
       "        vertical-align: top;\n",
       "    }\n",
       "\n",
       "    .dataframe thead th {\n",
       "        text-align: right;\n",
       "    }\n",
       "</style>\n",
       "<table border=\"1\" class=\"dataframe\">\n",
       "  <thead>\n",
       "    <tr style=\"text-align: right;\">\n",
       "      <th></th>\n",
       "      <th>LA</th>\n",
       "      <th>NY</th>\n",
       "    </tr>\n",
       "    <tr>\n",
       "      <th>datetime</th>\n",
       "      <th></th>\n",
       "      <th></th>\n",
       "    </tr>\n",
       "  </thead>\n",
       "  <tbody>\n",
       "    <tr>\n",
       "      <td>2013-01-01</td>\n",
       "      <td>11.7</td>\n",
       "      <td>-1.1</td>\n",
       "    </tr>\n",
       "    <tr>\n",
       "      <td>2013-01-02</td>\n",
       "      <td>13.2</td>\n",
       "      <td>2.6</td>\n",
       "    </tr>\n",
       "    <tr>\n",
       "      <td>2013-01-03</td>\n",
       "      <td>15.1</td>\n",
       "      <td>0.3</td>\n",
       "    </tr>\n",
       "    <tr>\n",
       "      <td>2013-01-04</td>\n",
       "      <td>16.3</td>\n",
       "      <td>-1.2</td>\n",
       "    </tr>\n",
       "    <tr>\n",
       "      <td>2013-01-05</td>\n",
       "      <td>18.1</td>\n",
       "      <td>-1.2</td>\n",
       "    </tr>\n",
       "    <tr>\n",
       "      <td>...</td>\n",
       "      <td>...</td>\n",
       "      <td>...</td>\n",
       "    </tr>\n",
       "    <tr>\n",
       "      <td>2016-12-27</td>\n",
       "      <td>15.1</td>\n",
       "      <td>4.1</td>\n",
       "    </tr>\n",
       "    <tr>\n",
       "      <td>2016-12-28</td>\n",
       "      <td>19.9</td>\n",
       "      <td>11.2</td>\n",
       "    </tr>\n",
       "    <tr>\n",
       "      <td>2016-12-29</td>\n",
       "      <td>23.3</td>\n",
       "      <td>2.1</td>\n",
       "    </tr>\n",
       "    <tr>\n",
       "      <td>2016-12-30</td>\n",
       "      <td>25.5</td>\n",
       "      <td>3.0</td>\n",
       "    </tr>\n",
       "    <tr>\n",
       "      <td>2016-12-31</td>\n",
       "      <td>15.7</td>\n",
       "      <td>0.8</td>\n",
       "    </tr>\n",
       "  </tbody>\n",
       "</table>\n",
       "<p>1461 rows × 2 columns</p>\n",
       "</div>"
      ],
      "text/plain": [
       "              LA    NY\n",
       "datetime              \n",
       "2013-01-01  11.7  -1.1\n",
       "2013-01-02  13.2   2.6\n",
       "2013-01-03  15.1   0.3\n",
       "2013-01-04  16.3  -1.2\n",
       "2013-01-05  18.1  -1.2\n",
       "...          ...   ...\n",
       "2016-12-27  15.1   4.1\n",
       "2016-12-28  19.9  11.2\n",
       "2016-12-29  23.3   2.1\n",
       "2016-12-30  25.5   3.0\n",
       "2016-12-31  15.7   0.8\n",
       "\n",
       "[1461 rows x 2 columns]"
      ]
     },
     "execution_count": 130,
     "metadata": {},
     "output_type": "execute_result"
    }
   ],
   "source": [
    "temp.resample('D').first() #very first timestamp of midnight for each day."
   ]
  },
  {
   "cell_type": "code",
   "execution_count": 131,
   "metadata": {},
   "outputs": [
    {
     "data": {
      "text/html": [
       "<div>\n",
       "<style scoped>\n",
       "    .dataframe tbody tr th:only-of-type {\n",
       "        vertical-align: middle;\n",
       "    }\n",
       "\n",
       "    .dataframe tbody tr th {\n",
       "        vertical-align: top;\n",
       "    }\n",
       "\n",
       "    .dataframe thead th {\n",
       "        text-align: right;\n",
       "    }\n",
       "</style>\n",
       "<table border=\"1\" class=\"dataframe\">\n",
       "  <thead>\n",
       "    <tr style=\"text-align: right;\">\n",
       "      <th></th>\n",
       "      <th>LA</th>\n",
       "      <th>NY</th>\n",
       "    </tr>\n",
       "    <tr>\n",
       "      <th>datetime</th>\n",
       "      <th></th>\n",
       "      <th></th>\n",
       "    </tr>\n",
       "  </thead>\n",
       "  <tbody>\n",
       "    <tr>\n",
       "      <td>2013-01-01 00:00:00</td>\n",
       "      <td>11.7</td>\n",
       "      <td>-1.1</td>\n",
       "    </tr>\n",
       "    <tr>\n",
       "      <td>2013-01-01 01:00:00</td>\n",
       "      <td>10.7</td>\n",
       "      <td>-1.7</td>\n",
       "    </tr>\n",
       "    <tr>\n",
       "      <td>2013-01-01 02:00:00</td>\n",
       "      <td>9.9</td>\n",
       "      <td>-2.0</td>\n",
       "    </tr>\n",
       "    <tr>\n",
       "      <td>2013-01-01 03:00:00</td>\n",
       "      <td>9.3</td>\n",
       "      <td>-2.1</td>\n",
       "    </tr>\n",
       "    <tr>\n",
       "      <td>2013-01-01 04:00:00</td>\n",
       "      <td>8.8</td>\n",
       "      <td>-2.3</td>\n",
       "    </tr>\n",
       "    <tr>\n",
       "      <td>2013-01-01 05:00:00</td>\n",
       "      <td>8.7</td>\n",
       "      <td>-2.5</td>\n",
       "    </tr>\n",
       "    <tr>\n",
       "      <td>2013-01-01 06:00:00</td>\n",
       "      <td>6.9</td>\n",
       "      <td>-3.2</td>\n",
       "    </tr>\n",
       "    <tr>\n",
       "      <td>2013-01-01 07:00:00</td>\n",
       "      <td>7.8</td>\n",
       "      <td>-3.4</td>\n",
       "    </tr>\n",
       "    <tr>\n",
       "      <td>2013-01-01 08:00:00</td>\n",
       "      <td>6.7</td>\n",
       "      <td>-3.0</td>\n",
       "    </tr>\n",
       "    <tr>\n",
       "      <td>2013-01-01 09:00:00</td>\n",
       "      <td>6.6</td>\n",
       "      <td>-1.8</td>\n",
       "    </tr>\n",
       "    <tr>\n",
       "      <td>2013-01-01 10:00:00</td>\n",
       "      <td>6.1</td>\n",
       "      <td>-1.4</td>\n",
       "    </tr>\n",
       "    <tr>\n",
       "      <td>2013-01-01 11:00:00</td>\n",
       "      <td>5.6</td>\n",
       "      <td>-1.8</td>\n",
       "    </tr>\n",
       "    <tr>\n",
       "      <td>2013-01-01 12:00:00</td>\n",
       "      <td>5.1</td>\n",
       "      <td>-1.7</td>\n",
       "    </tr>\n",
       "    <tr>\n",
       "      <td>2013-01-01 13:00:00</td>\n",
       "      <td>5.2</td>\n",
       "      <td>-1.5</td>\n",
       "    </tr>\n",
       "    <tr>\n",
       "      <td>2013-01-01 14:00:00</td>\n",
       "      <td>4.6</td>\n",
       "      <td>-1.0</td>\n",
       "    </tr>\n",
       "    <tr>\n",
       "      <td>2013-01-01 15:00:00</td>\n",
       "      <td>5.1</td>\n",
       "      <td>-0.0</td>\n",
       "    </tr>\n",
       "    <tr>\n",
       "      <td>2013-01-01 16:00:00</td>\n",
       "      <td>6.2</td>\n",
       "      <td>1.2</td>\n",
       "    </tr>\n",
       "    <tr>\n",
       "      <td>2013-01-01 17:00:00</td>\n",
       "      <td>9.3</td>\n",
       "      <td>2.2</td>\n",
       "    </tr>\n",
       "    <tr>\n",
       "      <td>2013-01-01 18:00:00</td>\n",
       "      <td>11.4</td>\n",
       "      <td>3.3</td>\n",
       "    </tr>\n",
       "    <tr>\n",
       "      <td>2013-01-01 19:00:00</td>\n",
       "      <td>12.0</td>\n",
       "      <td>3.5</td>\n",
       "    </tr>\n",
       "    <tr>\n",
       "      <td>2013-01-01 20:00:00</td>\n",
       "      <td>12.9</td>\n",
       "      <td>3.1</td>\n",
       "    </tr>\n",
       "    <tr>\n",
       "      <td>2013-01-01 21:00:00</td>\n",
       "      <td>13.9</td>\n",
       "      <td>2.4</td>\n",
       "    </tr>\n",
       "    <tr>\n",
       "      <td>2013-01-01 22:00:00</td>\n",
       "      <td>14.1</td>\n",
       "      <td>2.4</td>\n",
       "    </tr>\n",
       "    <tr>\n",
       "      <td>2013-01-01 23:00:00</td>\n",
       "      <td>14.0</td>\n",
       "      <td>2.7</td>\n",
       "    </tr>\n",
       "    <tr>\n",
       "      <td>2013-01-02 00:00:00</td>\n",
       "      <td>13.2</td>\n",
       "      <td>2.6</td>\n",
       "    </tr>\n",
       "  </tbody>\n",
       "</table>\n",
       "</div>"
      ],
      "text/plain": [
       "                       LA   NY\n",
       "datetime                      \n",
       "2013-01-01 00:00:00  11.7 -1.1\n",
       "2013-01-01 01:00:00  10.7 -1.7\n",
       "2013-01-01 02:00:00   9.9 -2.0\n",
       "2013-01-01 03:00:00   9.3 -2.1\n",
       "2013-01-01 04:00:00   8.8 -2.3\n",
       "2013-01-01 05:00:00   8.7 -2.5\n",
       "2013-01-01 06:00:00   6.9 -3.2\n",
       "2013-01-01 07:00:00   7.8 -3.4\n",
       "2013-01-01 08:00:00   6.7 -3.0\n",
       "2013-01-01 09:00:00   6.6 -1.8\n",
       "2013-01-01 10:00:00   6.1 -1.4\n",
       "2013-01-01 11:00:00   5.6 -1.8\n",
       "2013-01-01 12:00:00   5.1 -1.7\n",
       "2013-01-01 13:00:00   5.2 -1.5\n",
       "2013-01-01 14:00:00   4.6 -1.0\n",
       "2013-01-01 15:00:00   5.1 -0.0\n",
       "2013-01-01 16:00:00   6.2  1.2\n",
       "2013-01-01 17:00:00   9.3  2.2\n",
       "2013-01-01 18:00:00  11.4  3.3\n",
       "2013-01-01 19:00:00  12.0  3.5\n",
       "2013-01-01 20:00:00  12.9  3.1\n",
       "2013-01-01 21:00:00  13.9  2.4\n",
       "2013-01-01 22:00:00  14.1  2.4\n",
       "2013-01-01 23:00:00  14.0  2.7\n",
       "2013-01-02 00:00:00  13.2  2.6"
      ]
     },
     "execution_count": 131,
     "metadata": {},
     "output_type": "execute_result"
    }
   ],
   "source": [
    "temp.head(25)"
   ]
  },
  {
   "cell_type": "code",
   "execution_count": 132,
   "metadata": {},
   "outputs": [
    {
     "data": {
      "text/html": [
       "<div>\n",
       "<style scoped>\n",
       "    .dataframe tbody tr th:only-of-type {\n",
       "        vertical-align: middle;\n",
       "    }\n",
       "\n",
       "    .dataframe tbody tr th {\n",
       "        vertical-align: top;\n",
       "    }\n",
       "\n",
       "    .dataframe thead th {\n",
       "        text-align: right;\n",
       "    }\n",
       "</style>\n",
       "<table border=\"1\" class=\"dataframe\">\n",
       "  <thead>\n",
       "    <tr style=\"text-align: right;\">\n",
       "      <th></th>\n",
       "      <th>LA</th>\n",
       "      <th>NY</th>\n",
       "    </tr>\n",
       "    <tr>\n",
       "      <th>datetime</th>\n",
       "      <th></th>\n",
       "      <th></th>\n",
       "    </tr>\n",
       "  </thead>\n",
       "  <tbody>\n",
       "    <tr>\n",
       "      <td>2013-01-01</td>\n",
       "      <td>14.0</td>\n",
       "      <td>2.7</td>\n",
       "    </tr>\n",
       "    <tr>\n",
       "      <td>2013-01-02</td>\n",
       "      <td>15.1</td>\n",
       "      <td>1.2</td>\n",
       "    </tr>\n",
       "    <tr>\n",
       "      <td>2013-01-03</td>\n",
       "      <td>16.6</td>\n",
       "      <td>-1.5</td>\n",
       "    </tr>\n",
       "    <tr>\n",
       "      <td>2013-01-04</td>\n",
       "      <td>20.0</td>\n",
       "      <td>-1.2</td>\n",
       "    </tr>\n",
       "    <tr>\n",
       "      <td>2013-01-05</td>\n",
       "      <td>17.8</td>\n",
       "      <td>2.0</td>\n",
       "    </tr>\n",
       "    <tr>\n",
       "      <td>...</td>\n",
       "      <td>...</td>\n",
       "      <td>...</td>\n",
       "    </tr>\n",
       "    <tr>\n",
       "      <td>2016-12-27</td>\n",
       "      <td>20.1</td>\n",
       "      <td>12.9</td>\n",
       "    </tr>\n",
       "    <tr>\n",
       "      <td>2016-12-28</td>\n",
       "      <td>24.3</td>\n",
       "      <td>2.6</td>\n",
       "    </tr>\n",
       "    <tr>\n",
       "      <td>2016-12-29</td>\n",
       "      <td>25.6</td>\n",
       "      <td>4.2</td>\n",
       "    </tr>\n",
       "    <tr>\n",
       "      <td>2016-12-30</td>\n",
       "      <td>15.9</td>\n",
       "      <td>1.2</td>\n",
       "    </tr>\n",
       "    <tr>\n",
       "      <td>2016-12-31</td>\n",
       "      <td>11.9</td>\n",
       "      <td>5.5</td>\n",
       "    </tr>\n",
       "  </tbody>\n",
       "</table>\n",
       "<p>1461 rows × 2 columns</p>\n",
       "</div>"
      ],
      "text/plain": [
       "              LA    NY\n",
       "datetime              \n",
       "2013-01-01  14.0   2.7\n",
       "2013-01-02  15.1   1.2\n",
       "2013-01-03  16.6  -1.5\n",
       "2013-01-04  20.0  -1.2\n",
       "2013-01-05  17.8   2.0\n",
       "...          ...   ...\n",
       "2016-12-27  20.1  12.9\n",
       "2016-12-28  24.3   2.6\n",
       "2016-12-29  25.6   4.2\n",
       "2016-12-30  15.9   1.2\n",
       "2016-12-31  11.9   5.5\n",
       "\n",
       "[1461 rows x 2 columns]"
      ]
     },
     "execution_count": 132,
     "metadata": {},
     "output_type": "execute_result"
    }
   ],
   "source": [
    "temp.resample(\"D\").last()  # last timestamp of the day."
   ]
  },
  {
   "cell_type": "code",
   "execution_count": 134,
   "metadata": {},
   "outputs": [
    {
     "data": {
      "text/html": [
       "<div>\n",
       "<style scoped>\n",
       "    .dataframe tbody tr th:only-of-type {\n",
       "        vertical-align: middle;\n",
       "    }\n",
       "\n",
       "    .dataframe tbody tr th {\n",
       "        vertical-align: top;\n",
       "    }\n",
       "\n",
       "    .dataframe thead th {\n",
       "        text-align: right;\n",
       "    }\n",
       "</style>\n",
       "<table border=\"1\" class=\"dataframe\">\n",
       "  <thead>\n",
       "    <tr style=\"text-align: right;\">\n",
       "      <th></th>\n",
       "      <th>LA</th>\n",
       "      <th>NY</th>\n",
       "    </tr>\n",
       "    <tr>\n",
       "      <th>datetime</th>\n",
       "      <th></th>\n",
       "      <th></th>\n",
       "    </tr>\n",
       "  </thead>\n",
       "  <tbody>\n",
       "    <tr>\n",
       "      <td>2013-01-01</td>\n",
       "      <td>8.858333</td>\n",
       "      <td>-0.404167</td>\n",
       "    </tr>\n",
       "    <tr>\n",
       "      <td>2013-01-02</td>\n",
       "      <td>9.283333</td>\n",
       "      <td>3.208333</td>\n",
       "    </tr>\n",
       "    <tr>\n",
       "      <td>2013-01-03</td>\n",
       "      <td>10.304167</td>\n",
       "      <td>-2.425000</td>\n",
       "    </tr>\n",
       "    <tr>\n",
       "      <td>2013-01-04</td>\n",
       "      <td>11.512500</td>\n",
       "      <td>-2.070833</td>\n",
       "    </tr>\n",
       "    <tr>\n",
       "      <td>2013-01-05</td>\n",
       "      <td>11.083333</td>\n",
       "      <td>0.816667</td>\n",
       "    </tr>\n",
       "    <tr>\n",
       "      <td>...</td>\n",
       "      <td>...</td>\n",
       "      <td>...</td>\n",
       "    </tr>\n",
       "    <tr>\n",
       "      <td>2016-12-27</td>\n",
       "      <td>12.154167</td>\n",
       "      <td>10.579167</td>\n",
       "    </tr>\n",
       "    <tr>\n",
       "      <td>2016-12-28</td>\n",
       "      <td>14.433333</td>\n",
       "      <td>4.016667</td>\n",
       "    </tr>\n",
       "    <tr>\n",
       "      <td>2016-12-29</td>\n",
       "      <td>16.045833</td>\n",
       "      <td>1.312500</td>\n",
       "    </tr>\n",
       "    <tr>\n",
       "      <td>2016-12-30</td>\n",
       "      <td>15.933333</td>\n",
       "      <td>2.204167</td>\n",
       "    </tr>\n",
       "    <tr>\n",
       "      <td>2016-12-31</td>\n",
       "      <td>13.275000</td>\n",
       "      <td>1.204167</td>\n",
       "    </tr>\n",
       "  </tbody>\n",
       "</table>\n",
       "<p>1461 rows × 2 columns</p>\n",
       "</div>"
      ],
      "text/plain": [
       "                   LA         NY\n",
       "datetime                        \n",
       "2013-01-01   8.858333  -0.404167\n",
       "2013-01-02   9.283333   3.208333\n",
       "2013-01-03  10.304167  -2.425000\n",
       "2013-01-04  11.512500  -2.070833\n",
       "2013-01-05  11.083333   0.816667\n",
       "...               ...        ...\n",
       "2016-12-27  12.154167  10.579167\n",
       "2016-12-28  14.433333   4.016667\n",
       "2016-12-29  16.045833   1.312500\n",
       "2016-12-30  15.933333   2.204167\n",
       "2016-12-31  13.275000   1.204167\n",
       "\n",
       "[1461 rows x 2 columns]"
      ]
     },
     "execution_count": 134,
     "metadata": {},
     "output_type": "execute_result"
    }
   ],
   "source": [
    "temp.resample(\"D\").mean()  # mean of all timestamp of the day."
   ]
  },
  {
   "cell_type": "code",
   "execution_count": 135,
   "metadata": {},
   "outputs": [
    {
     "data": {
      "text/html": [
       "<div>\n",
       "<style scoped>\n",
       "    .dataframe tbody tr th:only-of-type {\n",
       "        vertical-align: middle;\n",
       "    }\n",
       "\n",
       "    .dataframe tbody tr th {\n",
       "        vertical-align: top;\n",
       "    }\n",
       "\n",
       "    .dataframe thead th {\n",
       "        text-align: right;\n",
       "    }\n",
       "</style>\n",
       "<table border=\"1\" class=\"dataframe\">\n",
       "  <thead>\n",
       "    <tr style=\"text-align: right;\">\n",
       "      <th></th>\n",
       "      <th>LA</th>\n",
       "      <th>NY</th>\n",
       "    </tr>\n",
       "    <tr>\n",
       "      <th>datetime</th>\n",
       "      <th></th>\n",
       "      <th></th>\n",
       "    </tr>\n",
       "  </thead>\n",
       "  <tbody>\n",
       "    <tr>\n",
       "      <td>2013-01-01</td>\n",
       "      <td>8.75</td>\n",
       "      <td>-1.45</td>\n",
       "    </tr>\n",
       "    <tr>\n",
       "      <td>2013-01-02</td>\n",
       "      <td>8.15</td>\n",
       "      <td>3.50</td>\n",
       "    </tr>\n",
       "    <tr>\n",
       "      <td>2013-01-03</td>\n",
       "      <td>10.20</td>\n",
       "      <td>-2.35</td>\n",
       "    </tr>\n",
       "    <tr>\n",
       "      <td>2013-01-04</td>\n",
       "      <td>9.80</td>\n",
       "      <td>-2.25</td>\n",
       "    </tr>\n",
       "    <tr>\n",
       "      <td>2013-01-05</td>\n",
       "      <td>11.30</td>\n",
       "      <td>0.65</td>\n",
       "    </tr>\n",
       "    <tr>\n",
       "      <td>...</td>\n",
       "      <td>...</td>\n",
       "      <td>...</td>\n",
       "    </tr>\n",
       "    <tr>\n",
       "      <td>2016-12-27</td>\n",
       "      <td>11.35</td>\n",
       "      <td>11.85</td>\n",
       "    </tr>\n",
       "    <tr>\n",
       "      <td>2016-12-28</td>\n",
       "      <td>12.60</td>\n",
       "      <td>3.50</td>\n",
       "    </tr>\n",
       "    <tr>\n",
       "      <td>2016-12-29</td>\n",
       "      <td>14.40</td>\n",
       "      <td>0.75</td>\n",
       "    </tr>\n",
       "    <tr>\n",
       "      <td>2016-12-30</td>\n",
       "      <td>15.30</td>\n",
       "      <td>2.15</td>\n",
       "    </tr>\n",
       "    <tr>\n",
       "      <td>2016-12-31</td>\n",
       "      <td>13.20</td>\n",
       "      <td>0.70</td>\n",
       "    </tr>\n",
       "  </tbody>\n",
       "</table>\n",
       "<p>1461 rows × 2 columns</p>\n",
       "</div>"
      ],
      "text/plain": [
       "               LA     NY\n",
       "datetime                \n",
       "2013-01-01   8.75  -1.45\n",
       "2013-01-02   8.15   3.50\n",
       "2013-01-03  10.20  -2.35\n",
       "2013-01-04   9.80  -2.25\n",
       "2013-01-05  11.30   0.65\n",
       "...           ...    ...\n",
       "2016-12-27  11.35  11.85\n",
       "2016-12-28  12.60   3.50\n",
       "2016-12-29  14.40   0.75\n",
       "2016-12-30  15.30   2.15\n",
       "2016-12-31  13.20   0.70\n",
       "\n",
       "[1461 rows x 2 columns]"
      ]
     },
     "execution_count": 135,
     "metadata": {},
     "output_type": "execute_result"
    }
   ],
   "source": [
    "temp.resample(\"D\").median()   # median of all timestamp of the day."
   ]
  },
  {
   "cell_type": "code",
   "execution_count": 136,
   "metadata": {},
   "outputs": [
    {
     "data": {
      "text/html": [
       "<div>\n",
       "<style scoped>\n",
       "    .dataframe tbody tr th:only-of-type {\n",
       "        vertical-align: middle;\n",
       "    }\n",
       "\n",
       "    .dataframe tbody tr th {\n",
       "        vertical-align: top;\n",
       "    }\n",
       "\n",
       "    .dataframe thead th {\n",
       "        text-align: right;\n",
       "    }\n",
       "</style>\n",
       "<table border=\"1\" class=\"dataframe\">\n",
       "  <thead>\n",
       "    <tr style=\"text-align: right;\">\n",
       "      <th></th>\n",
       "      <th>LA</th>\n",
       "      <th>NY</th>\n",
       "    </tr>\n",
       "    <tr>\n",
       "      <th>datetime</th>\n",
       "      <th></th>\n",
       "      <th></th>\n",
       "    </tr>\n",
       "  </thead>\n",
       "  <tbody>\n",
       "    <tr>\n",
       "      <td>2013-01-01</td>\n",
       "      <td>212.6</td>\n",
       "      <td>-9.7</td>\n",
       "    </tr>\n",
       "    <tr>\n",
       "      <td>2013-01-02</td>\n",
       "      <td>222.8</td>\n",
       "      <td>77.0</td>\n",
       "    </tr>\n",
       "    <tr>\n",
       "      <td>2013-01-03</td>\n",
       "      <td>247.3</td>\n",
       "      <td>-58.2</td>\n",
       "    </tr>\n",
       "    <tr>\n",
       "      <td>2013-01-04</td>\n",
       "      <td>276.3</td>\n",
       "      <td>-49.7</td>\n",
       "    </tr>\n",
       "    <tr>\n",
       "      <td>2013-01-05</td>\n",
       "      <td>266.0</td>\n",
       "      <td>19.6</td>\n",
       "    </tr>\n",
       "    <tr>\n",
       "      <td>...</td>\n",
       "      <td>...</td>\n",
       "      <td>...</td>\n",
       "    </tr>\n",
       "    <tr>\n",
       "      <td>2016-12-27</td>\n",
       "      <td>291.7</td>\n",
       "      <td>253.9</td>\n",
       "    </tr>\n",
       "    <tr>\n",
       "      <td>2016-12-28</td>\n",
       "      <td>346.4</td>\n",
       "      <td>96.4</td>\n",
       "    </tr>\n",
       "    <tr>\n",
       "      <td>2016-12-29</td>\n",
       "      <td>385.1</td>\n",
       "      <td>31.5</td>\n",
       "    </tr>\n",
       "    <tr>\n",
       "      <td>2016-12-30</td>\n",
       "      <td>382.4</td>\n",
       "      <td>52.9</td>\n",
       "    </tr>\n",
       "    <tr>\n",
       "      <td>2016-12-31</td>\n",
       "      <td>318.6</td>\n",
       "      <td>28.9</td>\n",
       "    </tr>\n",
       "  </tbody>\n",
       "</table>\n",
       "<p>1461 rows × 2 columns</p>\n",
       "</div>"
      ],
      "text/plain": [
       "               LA     NY\n",
       "datetime                \n",
       "2013-01-01  212.6   -9.7\n",
       "2013-01-02  222.8   77.0\n",
       "2013-01-03  247.3  -58.2\n",
       "2013-01-04  276.3  -49.7\n",
       "2013-01-05  266.0   19.6\n",
       "...           ...    ...\n",
       "2016-12-27  291.7  253.9\n",
       "2016-12-28  346.4   96.4\n",
       "2016-12-29  385.1   31.5\n",
       "2016-12-30  382.4   52.9\n",
       "2016-12-31  318.6   28.9\n",
       "\n",
       "[1461 rows x 2 columns]"
      ]
     },
     "execution_count": 136,
     "metadata": {},
     "output_type": "execute_result"
    }
   ],
   "source": [
    "temp.resample(\"D\").sum()   # sum of all timestamp of the day."
   ]
  },
  {
   "cell_type": "code",
   "execution_count": 138,
   "metadata": {},
   "outputs": [
    {
     "data": {
      "text/html": [
       "<div>\n",
       "<style scoped>\n",
       "    .dataframe tbody tr th:only-of-type {\n",
       "        vertical-align: middle;\n",
       "    }\n",
       "\n",
       "    .dataframe tbody tr th {\n",
       "        vertical-align: top;\n",
       "    }\n",
       "\n",
       "    .dataframe thead th {\n",
       "        text-align: right;\n",
       "    }\n",
       "</style>\n",
       "<table border=\"1\" class=\"dataframe\">\n",
       "  <thead>\n",
       "    <tr style=\"text-align: right;\">\n",
       "      <th></th>\n",
       "      <th>LA</th>\n",
       "      <th>NY</th>\n",
       "    </tr>\n",
       "    <tr>\n",
       "      <th>datetime</th>\n",
       "      <th></th>\n",
       "      <th></th>\n",
       "    </tr>\n",
       "  </thead>\n",
       "  <tbody>\n",
       "    <tr>\n",
       "      <td>2013-01-01 00:00:00</td>\n",
       "      <td>11.7</td>\n",
       "      <td>-1.1</td>\n",
       "    </tr>\n",
       "    <tr>\n",
       "      <td>2013-01-01 02:00:00</td>\n",
       "      <td>9.9</td>\n",
       "      <td>-2.0</td>\n",
       "    </tr>\n",
       "    <tr>\n",
       "      <td>2013-01-01 04:00:00</td>\n",
       "      <td>8.8</td>\n",
       "      <td>-2.3</td>\n",
       "    </tr>\n",
       "    <tr>\n",
       "      <td>2013-01-01 06:00:00</td>\n",
       "      <td>6.9</td>\n",
       "      <td>-3.2</td>\n",
       "    </tr>\n",
       "    <tr>\n",
       "      <td>2013-01-01 08:00:00</td>\n",
       "      <td>6.7</td>\n",
       "      <td>-3.0</td>\n",
       "    </tr>\n",
       "    <tr>\n",
       "      <td>...</td>\n",
       "      <td>...</td>\n",
       "      <td>...</td>\n",
       "    </tr>\n",
       "    <tr>\n",
       "      <td>2016-12-31 14:00:00</td>\n",
       "      <td>12.7</td>\n",
       "      <td>-1.3</td>\n",
       "    </tr>\n",
       "    <tr>\n",
       "      <td>2016-12-31 16:00:00</td>\n",
       "      <td>12.6</td>\n",
       "      <td>1.1</td>\n",
       "    </tr>\n",
       "    <tr>\n",
       "      <td>2016-12-31 18:00:00</td>\n",
       "      <td>13.2</td>\n",
       "      <td>3.4</td>\n",
       "    </tr>\n",
       "    <tr>\n",
       "      <td>2016-12-31 20:00:00</td>\n",
       "      <td>13.2</td>\n",
       "      <td>5.7</td>\n",
       "    </tr>\n",
       "    <tr>\n",
       "      <td>2016-12-31 22:00:00</td>\n",
       "      <td>12.3</td>\n",
       "      <td>5.7</td>\n",
       "    </tr>\n",
       "  </tbody>\n",
       "</table>\n",
       "<p>17532 rows × 2 columns</p>\n",
       "</div>"
      ],
      "text/plain": [
       "                       LA   NY\n",
       "datetime                      \n",
       "2013-01-01 00:00:00  11.7 -1.1\n",
       "2013-01-01 02:00:00   9.9 -2.0\n",
       "2013-01-01 04:00:00   8.8 -2.3\n",
       "2013-01-01 06:00:00   6.9 -3.2\n",
       "2013-01-01 08:00:00   6.7 -3.0\n",
       "...                   ...  ...\n",
       "2016-12-31 14:00:00  12.7 -1.3\n",
       "2016-12-31 16:00:00  12.6  1.1\n",
       "2016-12-31 18:00:00  13.2  3.4\n",
       "2016-12-31 20:00:00  13.2  5.7\n",
       "2016-12-31 22:00:00  12.3  5.7\n",
       "\n",
       "[17532 rows x 2 columns]"
      ]
     },
     "execution_count": 138,
     "metadata": {},
     "output_type": "execute_result"
    }
   ],
   "source": [
    "temp.resample(\"2H\").first()"
   ]
  },
  {
   "cell_type": "code",
   "execution_count": 139,
   "metadata": {},
   "outputs": [
    {
     "data": {
      "text/html": [
       "<div>\n",
       "<style scoped>\n",
       "    .dataframe tbody tr th:only-of-type {\n",
       "        vertical-align: middle;\n",
       "    }\n",
       "\n",
       "    .dataframe tbody tr th {\n",
       "        vertical-align: top;\n",
       "    }\n",
       "\n",
       "    .dataframe thead th {\n",
       "        text-align: right;\n",
       "    }\n",
       "</style>\n",
       "<table border=\"1\" class=\"dataframe\">\n",
       "  <thead>\n",
       "    <tr style=\"text-align: right;\">\n",
       "      <th></th>\n",
       "      <th>LA</th>\n",
       "      <th>NY</th>\n",
       "    </tr>\n",
       "    <tr>\n",
       "      <th>datetime</th>\n",
       "      <th></th>\n",
       "      <th></th>\n",
       "    </tr>\n",
       "  </thead>\n",
       "  <tbody>\n",
       "    <tr>\n",
       "      <td>2013-01-06</td>\n",
       "      <td>10.214583</td>\n",
       "      <td>0.222917</td>\n",
       "    </tr>\n",
       "    <tr>\n",
       "      <td>2013-01-13</td>\n",
       "      <td>10.494048</td>\n",
       "      <td>4.245238</td>\n",
       "    </tr>\n",
       "    <tr>\n",
       "      <td>2013-01-20</td>\n",
       "      <td>11.119643</td>\n",
       "      <td>3.924405</td>\n",
       "    </tr>\n",
       "    <tr>\n",
       "      <td>2013-01-27</td>\n",
       "      <td>15.586905</td>\n",
       "      <td>-4.660714</td>\n",
       "    </tr>\n",
       "    <tr>\n",
       "      <td>2013-02-03</td>\n",
       "      <td>11.569643</td>\n",
       "      <td>1.502381</td>\n",
       "    </tr>\n",
       "    <tr>\n",
       "      <td>...</td>\n",
       "      <td>...</td>\n",
       "      <td>...</td>\n",
       "    </tr>\n",
       "    <tr>\n",
       "      <td>2016-12-04</td>\n",
       "      <td>12.975595</td>\n",
       "      <td>8.024405</td>\n",
       "    </tr>\n",
       "    <tr>\n",
       "      <td>2016-12-11</td>\n",
       "      <td>13.738095</td>\n",
       "      <td>1.922619</td>\n",
       "    </tr>\n",
       "    <tr>\n",
       "      <td>2016-12-18</td>\n",
       "      <td>13.466667</td>\n",
       "      <td>0.052381</td>\n",
       "    </tr>\n",
       "    <tr>\n",
       "      <td>2016-12-25</td>\n",
       "      <td>13.007143</td>\n",
       "      <td>1.149405</td>\n",
       "    </tr>\n",
       "    <tr>\n",
       "      <td>2017-01-01</td>\n",
       "      <td>13.511806</td>\n",
       "      <td>3.479861</td>\n",
       "    </tr>\n",
       "  </tbody>\n",
       "</table>\n",
       "<p>209 rows × 2 columns</p>\n",
       "</div>"
      ],
      "text/plain": [
       "                   LA        NY\n",
       "datetime                       \n",
       "2013-01-06  10.214583  0.222917\n",
       "2013-01-13  10.494048  4.245238\n",
       "2013-01-20  11.119643  3.924405\n",
       "2013-01-27  15.586905 -4.660714\n",
       "2013-02-03  11.569643  1.502381\n",
       "...               ...       ...\n",
       "2016-12-04  12.975595  8.024405\n",
       "2016-12-11  13.738095  1.922619\n",
       "2016-12-18  13.466667  0.052381\n",
       "2016-12-25  13.007143  1.149405\n",
       "2017-01-01  13.511806  3.479861\n",
       "\n",
       "[209 rows x 2 columns]"
      ]
     },
     "execution_count": 139,
     "metadata": {},
     "output_type": "execute_result"
    }
   ],
   "source": [
    "temp.resample(\"W\").mean()"
   ]
  },
  {
   "cell_type": "code",
   "execution_count": 140,
   "metadata": {},
   "outputs": [
    {
     "data": {
      "text/html": [
       "<div>\n",
       "<style scoped>\n",
       "    .dataframe tbody tr th:only-of-type {\n",
       "        vertical-align: middle;\n",
       "    }\n",
       "\n",
       "    .dataframe tbody tr th {\n",
       "        vertical-align: top;\n",
       "    }\n",
       "\n",
       "    .dataframe thead th {\n",
       "        text-align: right;\n",
       "    }\n",
       "</style>\n",
       "<table border=\"1\" class=\"dataframe\">\n",
       "  <thead>\n",
       "    <tr style=\"text-align: right;\">\n",
       "      <th></th>\n",
       "      <th>LA</th>\n",
       "      <th>NY</th>\n",
       "    </tr>\n",
       "    <tr>\n",
       "      <th>datetime</th>\n",
       "      <th></th>\n",
       "      <th></th>\n",
       "    </tr>\n",
       "  </thead>\n",
       "  <tbody>\n",
       "    <tr>\n",
       "      <td>2013-01-02</td>\n",
       "      <td>9.070833</td>\n",
       "      <td>1.402083</td>\n",
       "    </tr>\n",
       "    <tr>\n",
       "      <td>2013-01-09</td>\n",
       "      <td>11.033333</td>\n",
       "      <td>1.033929</td>\n",
       "    </tr>\n",
       "    <tr>\n",
       "      <td>2013-01-16</td>\n",
       "      <td>8.870238</td>\n",
       "      <td>6.001190</td>\n",
       "    </tr>\n",
       "    <tr>\n",
       "      <td>2013-01-23</td>\n",
       "      <td>14.678571</td>\n",
       "      <td>1.010714</td>\n",
       "    </tr>\n",
       "    <tr>\n",
       "      <td>2013-01-30</td>\n",
       "      <td>12.554762</td>\n",
       "      <td>-4.382738</td>\n",
       "    </tr>\n",
       "    <tr>\n",
       "      <td>...</td>\n",
       "      <td>...</td>\n",
       "      <td>...</td>\n",
       "    </tr>\n",
       "    <tr>\n",
       "      <td>2016-12-07</td>\n",
       "      <td>13.205357</td>\n",
       "      <td>5.964286</td>\n",
       "    </tr>\n",
       "    <tr>\n",
       "      <td>2016-12-14</td>\n",
       "      <td>14.490476</td>\n",
       "      <td>1.228571</td>\n",
       "    </tr>\n",
       "    <tr>\n",
       "      <td>2016-12-21</td>\n",
       "      <td>13.209524</td>\n",
       "      <td>-2.248810</td>\n",
       "    </tr>\n",
       "    <tr>\n",
       "      <td>2016-12-28</td>\n",
       "      <td>11.930357</td>\n",
       "      <td>4.688095</td>\n",
       "    </tr>\n",
       "    <tr>\n",
       "      <td>2017-01-04</td>\n",
       "      <td>15.084722</td>\n",
       "      <td>1.573611</td>\n",
       "    </tr>\n",
       "  </tbody>\n",
       "</table>\n",
       "<p>210 rows × 2 columns</p>\n",
       "</div>"
      ],
      "text/plain": [
       "                   LA        NY\n",
       "datetime                       \n",
       "2013-01-02   9.070833  1.402083\n",
       "2013-01-09  11.033333  1.033929\n",
       "2013-01-16   8.870238  6.001190\n",
       "2013-01-23  14.678571  1.010714\n",
       "2013-01-30  12.554762 -4.382738\n",
       "...               ...       ...\n",
       "2016-12-07  13.205357  5.964286\n",
       "2016-12-14  14.490476  1.228571\n",
       "2016-12-21  13.209524 -2.248810\n",
       "2016-12-28  11.930357  4.688095\n",
       "2017-01-04  15.084722  1.573611\n",
       "\n",
       "[210 rows x 2 columns]"
      ]
     },
     "execution_count": 140,
     "metadata": {},
     "output_type": "execute_result"
    }
   ],
   "source": [
    "temp.resample(\"W-Wed\").mean()"
   ]
  },
  {
   "cell_type": "code",
   "execution_count": 145,
   "metadata": {},
   "outputs": [
    {
     "data": {
      "text/html": [
       "<div>\n",
       "<style scoped>\n",
       "    .dataframe tbody tr th:only-of-type {\n",
       "        vertical-align: middle;\n",
       "    }\n",
       "\n",
       "    .dataframe tbody tr th {\n",
       "        vertical-align: top;\n",
       "    }\n",
       "\n",
       "    .dataframe thead th {\n",
       "        text-align: right;\n",
       "    }\n",
       "</style>\n",
       "<table border=\"1\" class=\"dataframe\">\n",
       "  <thead>\n",
       "    <tr style=\"text-align: right;\">\n",
       "      <th></th>\n",
       "      <th>LA</th>\n",
       "      <th>NY</th>\n",
       "    </tr>\n",
       "    <tr>\n",
       "      <th>datetime</th>\n",
       "      <th></th>\n",
       "      <th></th>\n",
       "    </tr>\n",
       "  </thead>\n",
       "  <tbody>\n",
       "    <tr>\n",
       "      <td>2013-01-31</td>\n",
       "      <td>11.596237</td>\n",
       "      <td>1.129570</td>\n",
       "    </tr>\n",
       "    <tr>\n",
       "      <td>2013-02-28</td>\n",
       "      <td>12.587202</td>\n",
       "      <td>0.617857</td>\n",
       "    </tr>\n",
       "    <tr>\n",
       "      <td>2013-03-31</td>\n",
       "      <td>15.069946</td>\n",
       "      <td>3.719220</td>\n",
       "    </tr>\n",
       "    <tr>\n",
       "      <td>2013-04-30</td>\n",
       "      <td>16.487361</td>\n",
       "      <td>10.699306</td>\n",
       "    </tr>\n",
       "    <tr>\n",
       "      <td>2013-05-31</td>\n",
       "      <td>19.005780</td>\n",
       "      <td>15.824328</td>\n",
       "    </tr>\n",
       "  </tbody>\n",
       "</table>\n",
       "</div>"
      ],
      "text/plain": [
       "                   LA         NY\n",
       "datetime                        \n",
       "2013-01-31  11.596237   1.129570\n",
       "2013-02-28  12.587202   0.617857\n",
       "2013-03-31  15.069946   3.719220\n",
       "2013-04-30  16.487361  10.699306\n",
       "2013-05-31  19.005780  15.824328"
      ]
     },
     "execution_count": 145,
     "metadata": {},
     "output_type": "execute_result"
    }
   ],
   "source": [
    "temp.resample(\"M\").mean().head(5)"
   ]
  },
  {
   "cell_type": "code",
   "execution_count": 146,
   "metadata": {},
   "outputs": [
    {
     "data": {
      "text/html": [
       "<div>\n",
       "<style scoped>\n",
       "    .dataframe tbody tr th:only-of-type {\n",
       "        vertical-align: middle;\n",
       "    }\n",
       "\n",
       "    .dataframe tbody tr th {\n",
       "        vertical-align: top;\n",
       "    }\n",
       "\n",
       "    .dataframe thead th {\n",
       "        text-align: right;\n",
       "    }\n",
       "</style>\n",
       "<table border=\"1\" class=\"dataframe\">\n",
       "  <thead>\n",
       "    <tr style=\"text-align: right;\">\n",
       "      <th></th>\n",
       "      <th>LA</th>\n",
       "      <th>NY</th>\n",
       "    </tr>\n",
       "    <tr>\n",
       "      <th>datetime</th>\n",
       "      <th></th>\n",
       "      <th></th>\n",
       "    </tr>\n",
       "  </thead>\n",
       "  <tbody>\n",
       "    <tr>\n",
       "      <td>2013-01-01</td>\n",
       "      <td>11.596237</td>\n",
       "      <td>1.129570</td>\n",
       "    </tr>\n",
       "    <tr>\n",
       "      <td>2013-02-01</td>\n",
       "      <td>12.587202</td>\n",
       "      <td>0.617857</td>\n",
       "    </tr>\n",
       "    <tr>\n",
       "      <td>2013-03-01</td>\n",
       "      <td>15.069946</td>\n",
       "      <td>3.719220</td>\n",
       "    </tr>\n",
       "    <tr>\n",
       "      <td>2013-04-01</td>\n",
       "      <td>16.487361</td>\n",
       "      <td>10.699306</td>\n",
       "    </tr>\n",
       "    <tr>\n",
       "      <td>2013-05-01</td>\n",
       "      <td>19.005780</td>\n",
       "      <td>15.824328</td>\n",
       "    </tr>\n",
       "  </tbody>\n",
       "</table>\n",
       "</div>"
      ],
      "text/plain": [
       "                   LA         NY\n",
       "datetime                        \n",
       "2013-01-01  11.596237   1.129570\n",
       "2013-02-01  12.587202   0.617857\n",
       "2013-03-01  15.069946   3.719220\n",
       "2013-04-01  16.487361  10.699306\n",
       "2013-05-01  19.005780  15.824328"
      ]
     },
     "execution_count": 146,
     "metadata": {},
     "output_type": "execute_result"
    }
   ],
   "source": [
    "temp.resample(\"MS\").mean().head()  # Monthly-start"
   ]
  },
  {
   "cell_type": "code",
   "execution_count": 149,
   "metadata": {},
   "outputs": [
    {
     "data": {
      "text/html": [
       "<div>\n",
       "<style scoped>\n",
       "    .dataframe tbody tr th:only-of-type {\n",
       "        vertical-align: middle;\n",
       "    }\n",
       "\n",
       "    .dataframe tbody tr th {\n",
       "        vertical-align: top;\n",
       "    }\n",
       "\n",
       "    .dataframe thead th {\n",
       "        text-align: right;\n",
       "    }\n",
       "</style>\n",
       "<table border=\"1\" class=\"dataframe\">\n",
       "  <thead>\n",
       "    <tr style=\"text-align: right;\">\n",
       "      <th></th>\n",
       "      <th>LA</th>\n",
       "      <th>NY</th>\n",
       "    </tr>\n",
       "    <tr>\n",
       "      <th>datetime</th>\n",
       "      <th></th>\n",
       "      <th></th>\n",
       "    </tr>\n",
       "  </thead>\n",
       "  <tbody>\n",
       "    <tr>\n",
       "      <td>2013-02-16</td>\n",
       "      <td>11.596237</td>\n",
       "      <td>1.129570</td>\n",
       "    </tr>\n",
       "    <tr>\n",
       "      <td>2013-03-16</td>\n",
       "      <td>12.587202</td>\n",
       "      <td>0.617857</td>\n",
       "    </tr>\n",
       "    <tr>\n",
       "      <td>2013-04-16</td>\n",
       "      <td>15.069946</td>\n",
       "      <td>3.719220</td>\n",
       "    </tr>\n",
       "    <tr>\n",
       "      <td>2013-05-16</td>\n",
       "      <td>16.487361</td>\n",
       "      <td>10.699306</td>\n",
       "    </tr>\n",
       "    <tr>\n",
       "      <td>2013-06-16</td>\n",
       "      <td>19.005780</td>\n",
       "      <td>15.824328</td>\n",
       "    </tr>\n",
       "  </tbody>\n",
       "</table>\n",
       "</div>"
      ],
      "text/plain": [
       "                   LA         NY\n",
       "datetime                        \n",
       "2013-02-16  11.596237   1.129570\n",
       "2013-03-16  12.587202   0.617857\n",
       "2013-04-16  15.069946   3.719220\n",
       "2013-05-16  16.487361  10.699306\n",
       "2013-06-16  19.005780  15.824328"
      ]
     },
     "execution_count": 149,
     "metadata": {},
     "output_type": "execute_result"
    }
   ],
   "source": [
    "temp.resample(\"M\",loffset=\"16D\").mean().head()   # Monthly- loffset- each month 16th day as label"
   ]
  },
  {
   "cell_type": "code",
   "execution_count": 150,
   "metadata": {},
   "outputs": [
    {
     "data": {
      "text/html": [
       "<div>\n",
       "<style scoped>\n",
       "    .dataframe tbody tr th:only-of-type {\n",
       "        vertical-align: middle;\n",
       "    }\n",
       "\n",
       "    .dataframe tbody tr th {\n",
       "        vertical-align: top;\n",
       "    }\n",
       "\n",
       "    .dataframe thead th {\n",
       "        text-align: right;\n",
       "    }\n",
       "</style>\n",
       "<table border=\"1\" class=\"dataframe\">\n",
       "  <thead>\n",
       "    <tr style=\"text-align: right;\">\n",
       "      <th></th>\n",
       "      <th>LA</th>\n",
       "      <th>NY</th>\n",
       "    </tr>\n",
       "    <tr>\n",
       "      <th>datetime</th>\n",
       "      <th></th>\n",
       "      <th></th>\n",
       "    </tr>\n",
       "  </thead>\n",
       "  <tbody>\n",
       "    <tr>\n",
       "      <td>2013-03-31</td>\n",
       "      <td>13.099212</td>\n",
       "      <td>1.862361</td>\n",
       "    </tr>\n",
       "    <tr>\n",
       "      <td>2013-06-30</td>\n",
       "      <td>18.472115</td>\n",
       "      <td>16.245101</td>\n",
       "    </tr>\n",
       "    <tr>\n",
       "      <td>2013-09-30</td>\n",
       "      <td>21.999638</td>\n",
       "      <td>22.411594</td>\n",
       "    </tr>\n",
       "    <tr>\n",
       "      <td>2013-12-31</td>\n",
       "      <td>15.047781</td>\n",
       "      <td>8.084918</td>\n",
       "    </tr>\n",
       "    <tr>\n",
       "      <td>2014-03-31</td>\n",
       "      <td>15.508287</td>\n",
       "      <td>-0.570880</td>\n",
       "    </tr>\n",
       "  </tbody>\n",
       "</table>\n",
       "</div>"
      ],
      "text/plain": [
       "                   LA         NY\n",
       "datetime                        \n",
       "2013-03-31  13.099212   1.862361\n",
       "2013-06-30  18.472115  16.245101\n",
       "2013-09-30  21.999638  22.411594\n",
       "2013-12-31  15.047781   8.084918\n",
       "2014-03-31  15.508287  -0.570880"
      ]
     },
     "execution_count": 150,
     "metadata": {},
     "output_type": "execute_result"
    }
   ],
   "source": [
    "temp.resample(\"Q\").mean().head()   #Quarterly"
   ]
  },
  {
   "cell_type": "code",
   "execution_count": 151,
   "metadata": {},
   "outputs": [
    {
     "data": {
      "text/html": [
       "<div>\n",
       "<style scoped>\n",
       "    .dataframe tbody tr th:only-of-type {\n",
       "        vertical-align: middle;\n",
       "    }\n",
       "\n",
       "    .dataframe tbody tr th {\n",
       "        vertical-align: top;\n",
       "    }\n",
       "\n",
       "    .dataframe thead th {\n",
       "        text-align: right;\n",
       "    }\n",
       "</style>\n",
       "<table border=\"1\" class=\"dataframe\">\n",
       "  <thead>\n",
       "    <tr style=\"text-align: right;\">\n",
       "      <th></th>\n",
       "      <th>LA</th>\n",
       "      <th>NY</th>\n",
       "    </tr>\n",
       "    <tr>\n",
       "      <th>datetime</th>\n",
       "      <th></th>\n",
       "      <th></th>\n",
       "    </tr>\n",
       "  </thead>\n",
       "  <tbody>\n",
       "    <tr>\n",
       "      <td>2013-02-28</td>\n",
       "      <td>12.066525</td>\n",
       "      <td>0.886723</td>\n",
       "    </tr>\n",
       "    <tr>\n",
       "      <td>2013-05-31</td>\n",
       "      <td>16.859973</td>\n",
       "      <td>10.074230</td>\n",
       "    </tr>\n",
       "    <tr>\n",
       "      <td>2013-08-31</td>\n",
       "      <td>21.184601</td>\n",
       "      <td>23.694384</td>\n",
       "    </tr>\n",
       "    <tr>\n",
       "      <td>2013-11-30</td>\n",
       "      <td>18.028755</td>\n",
       "      <td>13.258288</td>\n",
       "    </tr>\n",
       "    <tr>\n",
       "      <td>2014-02-28</td>\n",
       "      <td>14.675000</td>\n",
       "      <td>-0.301713</td>\n",
       "    </tr>\n",
       "  </tbody>\n",
       "</table>\n",
       "</div>"
      ],
      "text/plain": [
       "                   LA         NY\n",
       "datetime                        \n",
       "2013-02-28  12.066525   0.886723\n",
       "2013-05-31  16.859973  10.074230\n",
       "2013-08-31  21.184601  23.694384\n",
       "2013-11-30  18.028755  13.258288\n",
       "2014-02-28  14.675000  -0.301713"
      ]
     },
     "execution_count": 151,
     "metadata": {},
     "output_type": "execute_result"
    }
   ],
   "source": [
    "temp.resample(\"Q-Feb\").mean().head()   #Quarterly -start on Feb i.e from 1 march to 1 may"
   ]
  },
  {
   "cell_type": "code",
   "execution_count": 152,
   "metadata": {},
   "outputs": [
    {
     "data": {
      "text/html": [
       "<div>\n",
       "<style scoped>\n",
       "    .dataframe tbody tr th:only-of-type {\n",
       "        vertical-align: middle;\n",
       "    }\n",
       "\n",
       "    .dataframe tbody tr th {\n",
       "        vertical-align: top;\n",
       "    }\n",
       "\n",
       "    .dataframe thead th {\n",
       "        text-align: right;\n",
       "    }\n",
       "</style>\n",
       "<table border=\"1\" class=\"dataframe\">\n",
       "  <thead>\n",
       "    <tr style=\"text-align: right;\">\n",
       "      <th></th>\n",
       "      <th>LA</th>\n",
       "      <th>NY</th>\n",
       "    </tr>\n",
       "    <tr>\n",
       "      <th>datetime</th>\n",
       "      <th></th>\n",
       "      <th></th>\n",
       "    </tr>\n",
       "  </thead>\n",
       "  <tbody>\n",
       "    <tr>\n",
       "      <td>2013-12-31</td>\n",
       "      <td>17.174229</td>\n",
       "      <td>12.196153</td>\n",
       "    </tr>\n",
       "    <tr>\n",
       "      <td>2014-12-31</td>\n",
       "      <td>17.245616</td>\n",
       "      <td>11.370959</td>\n",
       "    </tr>\n",
       "    <tr>\n",
       "      <td>2015-12-31</td>\n",
       "      <td>17.191530</td>\n",
       "      <td>11.795194</td>\n",
       "    </tr>\n",
       "    <tr>\n",
       "      <td>2016-12-31</td>\n",
       "      <td>18.330305</td>\n",
       "      <td>12.908470</td>\n",
       "    </tr>\n",
       "  </tbody>\n",
       "</table>\n",
       "</div>"
      ],
      "text/plain": [
       "                   LA         NY\n",
       "datetime                        \n",
       "2013-12-31  17.174229  12.196153\n",
       "2014-12-31  17.245616  11.370959\n",
       "2015-12-31  17.191530  11.795194\n",
       "2016-12-31  18.330305  12.908470"
      ]
     },
     "execution_count": 152,
     "metadata": {},
     "output_type": "execute_result"
    }
   ],
   "source": [
    "temp.resample(\"Y\").mean().head()  #Yearly  -last day on the label."
   ]
  },
  {
   "cell_type": "code",
   "execution_count": 153,
   "metadata": {},
   "outputs": [
    {
     "data": {
      "text/html": [
       "<div>\n",
       "<style scoped>\n",
       "    .dataframe tbody tr th:only-of-type {\n",
       "        vertical-align: middle;\n",
       "    }\n",
       "\n",
       "    .dataframe tbody tr th {\n",
       "        vertical-align: top;\n",
       "    }\n",
       "\n",
       "    .dataframe thead th {\n",
       "        text-align: right;\n",
       "    }\n",
       "</style>\n",
       "<table border=\"1\" class=\"dataframe\">\n",
       "  <thead>\n",
       "    <tr style=\"text-align: right;\">\n",
       "      <th></th>\n",
       "      <th>LA</th>\n",
       "      <th>NY</th>\n",
       "    </tr>\n",
       "    <tr>\n",
       "      <th>datetime</th>\n",
       "      <th></th>\n",
       "      <th></th>\n",
       "    </tr>\n",
       "  </thead>\n",
       "  <tbody>\n",
       "    <tr>\n",
       "      <td>2013-01-01</td>\n",
       "      <td>17.174229</td>\n",
       "      <td>12.196153</td>\n",
       "    </tr>\n",
       "    <tr>\n",
       "      <td>2014-01-01</td>\n",
       "      <td>17.245616</td>\n",
       "      <td>11.370959</td>\n",
       "    </tr>\n",
       "    <tr>\n",
       "      <td>2015-01-01</td>\n",
       "      <td>17.191530</td>\n",
       "      <td>11.795194</td>\n",
       "    </tr>\n",
       "    <tr>\n",
       "      <td>2016-01-01</td>\n",
       "      <td>18.330305</td>\n",
       "      <td>12.908470</td>\n",
       "    </tr>\n",
       "  </tbody>\n",
       "</table>\n",
       "</div>"
      ],
      "text/plain": [
       "                   LA         NY\n",
       "datetime                        \n",
       "2013-01-01  17.174229  12.196153\n",
       "2014-01-01  17.245616  11.370959\n",
       "2015-01-01  17.191530  11.795194\n",
       "2016-01-01  18.330305  12.908470"
      ]
     },
     "execution_count": 153,
     "metadata": {},
     "output_type": "execute_result"
    }
   ],
   "source": [
    "temp.resample(\"YS\").mean().head()  #Yearly-Start of the year"
   ]
  },
  {
   "cell_type": "markdown",
   "metadata": {},
   "source": [
    "## Downsampling Time Series with resample()  -Part-2\n"
   ]
  },
  {
   "cell_type": "code",
   "execution_count": 155,
   "metadata": {},
   "outputs": [
    {
     "data": {
      "text/html": [
       "<div>\n",
       "<style scoped>\n",
       "    .dataframe tbody tr th:only-of-type {\n",
       "        vertical-align: middle;\n",
       "    }\n",
       "\n",
       "    .dataframe tbody tr th {\n",
       "        vertical-align: top;\n",
       "    }\n",
       "\n",
       "    .dataframe thead th {\n",
       "        text-align: right;\n",
       "    }\n",
       "</style>\n",
       "<table border=\"1\" class=\"dataframe\">\n",
       "  <thead>\n",
       "    <tr style=\"text-align: right;\">\n",
       "      <th></th>\n",
       "      <th>LA</th>\n",
       "      <th>NY</th>\n",
       "    </tr>\n",
       "    <tr>\n",
       "      <th>datetime</th>\n",
       "      <th></th>\n",
       "      <th></th>\n",
       "    </tr>\n",
       "  </thead>\n",
       "  <tbody>\n",
       "    <tr>\n",
       "      <td>2013-01-31</td>\n",
       "      <td>11.596237</td>\n",
       "      <td>1.129570</td>\n",
       "    </tr>\n",
       "    <tr>\n",
       "      <td>2013-02-28</td>\n",
       "      <td>12.587202</td>\n",
       "      <td>0.617857</td>\n",
       "    </tr>\n",
       "    <tr>\n",
       "      <td>2013-03-31</td>\n",
       "      <td>15.069946</td>\n",
       "      <td>3.719220</td>\n",
       "    </tr>\n",
       "    <tr>\n",
       "      <td>2013-04-30</td>\n",
       "      <td>16.487361</td>\n",
       "      <td>10.699306</td>\n",
       "    </tr>\n",
       "    <tr>\n",
       "      <td>2013-05-31</td>\n",
       "      <td>19.005780</td>\n",
       "      <td>15.824328</td>\n",
       "    </tr>\n",
       "  </tbody>\n",
       "</table>\n",
       "</div>"
      ],
      "text/plain": [
       "                   LA         NY\n",
       "datetime                        \n",
       "2013-01-31  11.596237   1.129570\n",
       "2013-02-28  12.587202   0.617857\n",
       "2013-03-31  15.069946   3.719220\n",
       "2013-04-30  16.487361  10.699306\n",
       "2013-05-31  19.005780  15.824328"
      ]
     },
     "execution_count": 155,
     "metadata": {},
     "output_type": "execute_result"
    }
   ],
   "source": [
    "temp.resample(\"M\").mean().head() # each months mean temp.  # last date of month"
   ]
  },
  {
   "cell_type": "code",
   "execution_count": 157,
   "metadata": {},
   "outputs": [
    {
     "data": {
      "text/html": [
       "<div>\n",
       "<style scoped>\n",
       "    .dataframe tbody tr th:only-of-type {\n",
       "        vertical-align: middle;\n",
       "    }\n",
       "\n",
       "    .dataframe tbody tr th {\n",
       "        vertical-align: top;\n",
       "    }\n",
       "\n",
       "    .dataframe thead th {\n",
       "        text-align: right;\n",
       "    }\n",
       "</style>\n",
       "<table border=\"1\" class=\"dataframe\">\n",
       "  <thead>\n",
       "    <tr style=\"text-align: right;\">\n",
       "      <th></th>\n",
       "      <th>LA</th>\n",
       "      <th>NY</th>\n",
       "    </tr>\n",
       "    <tr>\n",
       "      <th>datetime</th>\n",
       "      <th></th>\n",
       "      <th></th>\n",
       "    </tr>\n",
       "  </thead>\n",
       "  <tbody>\n",
       "    <tr>\n",
       "      <td>2013-01-01</td>\n",
       "      <td>11.596237</td>\n",
       "      <td>1.129570</td>\n",
       "    </tr>\n",
       "    <tr>\n",
       "      <td>2013-02-01</td>\n",
       "      <td>12.587202</td>\n",
       "      <td>0.617857</td>\n",
       "    </tr>\n",
       "    <tr>\n",
       "      <td>2013-03-01</td>\n",
       "      <td>15.069946</td>\n",
       "      <td>3.719220</td>\n",
       "    </tr>\n",
       "    <tr>\n",
       "      <td>2013-04-01</td>\n",
       "      <td>16.487361</td>\n",
       "      <td>10.699306</td>\n",
       "    </tr>\n",
       "    <tr>\n",
       "      <td>2013-05-01</td>\n",
       "      <td>19.005780</td>\n",
       "      <td>15.824328</td>\n",
       "    </tr>\n",
       "  </tbody>\n",
       "</table>\n",
       "</div>"
      ],
      "text/plain": [
       "                   LA         NY\n",
       "datetime                        \n",
       "2013-01-01  11.596237   1.129570\n",
       "2013-02-01  12.587202   0.617857\n",
       "2013-03-01  15.069946   3.719220\n",
       "2013-04-01  16.487361  10.699306\n",
       "2013-05-01  19.005780  15.824328"
      ]
     },
     "execution_count": 157,
     "metadata": {},
     "output_type": "execute_result"
    }
   ],
   "source": [
    "temp.resample(\"MS\").mean().head() # each months mean temp.  # First date of month  #But label is of day not a month"
   ]
  },
  {
   "cell_type": "code",
   "execution_count": 158,
   "metadata": {},
   "outputs": [
    {
     "data": {
      "text/html": [
       "<div>\n",
       "<style scoped>\n",
       "    .dataframe tbody tr th:only-of-type {\n",
       "        vertical-align: middle;\n",
       "    }\n",
       "\n",
       "    .dataframe tbody tr th {\n",
       "        vertical-align: top;\n",
       "    }\n",
       "\n",
       "    .dataframe thead th {\n",
       "        text-align: right;\n",
       "    }\n",
       "</style>\n",
       "<table border=\"1\" class=\"dataframe\">\n",
       "  <thead>\n",
       "    <tr style=\"text-align: right;\">\n",
       "      <th></th>\n",
       "      <th>LA</th>\n",
       "      <th>NY</th>\n",
       "    </tr>\n",
       "    <tr>\n",
       "      <th>datetime</th>\n",
       "      <th></th>\n",
       "      <th></th>\n",
       "    </tr>\n",
       "  </thead>\n",
       "  <tbody>\n",
       "    <tr>\n",
       "      <td>2013-01-01</td>\n",
       "      <td>11.596237</td>\n",
       "      <td>1.129570</td>\n",
       "    </tr>\n",
       "    <tr>\n",
       "      <td>2013-02-01</td>\n",
       "      <td>12.587202</td>\n",
       "      <td>0.617857</td>\n",
       "    </tr>\n",
       "    <tr>\n",
       "      <td>2013-03-01</td>\n",
       "      <td>15.069946</td>\n",
       "      <td>3.719220</td>\n",
       "    </tr>\n",
       "    <tr>\n",
       "      <td>2013-04-01</td>\n",
       "      <td>16.487361</td>\n",
       "      <td>10.699306</td>\n",
       "    </tr>\n",
       "    <tr>\n",
       "      <td>2013-05-01</td>\n",
       "      <td>19.005780</td>\n",
       "      <td>15.824328</td>\n",
       "    </tr>\n",
       "  </tbody>\n",
       "</table>\n",
       "</div>"
      ],
      "text/plain": [
       "                   LA         NY\n",
       "datetime                        \n",
       "2013-01-01  11.596237   1.129570\n",
       "2013-02-01  12.587202   0.617857\n",
       "2013-03-01  15.069946   3.719220\n",
       "2013-04-01  16.487361  10.699306\n",
       "2013-05-01  19.005780  15.824328"
      ]
     },
     "execution_count": 158,
     "metadata": {},
     "output_type": "execute_result"
    }
   ],
   "source": [
    "temp.resample(\"MS\",kind=\"timestamp\").mean().head()"
   ]
  },
  {
   "cell_type": "code",
   "execution_count": 161,
   "metadata": {},
   "outputs": [
    {
     "data": {
      "text/html": [
       "<div>\n",
       "<style scoped>\n",
       "    .dataframe tbody tr th:only-of-type {\n",
       "        vertical-align: middle;\n",
       "    }\n",
       "\n",
       "    .dataframe tbody tr th {\n",
       "        vertical-align: top;\n",
       "    }\n",
       "\n",
       "    .dataframe thead th {\n",
       "        text-align: right;\n",
       "    }\n",
       "</style>\n",
       "<table border=\"1\" class=\"dataframe\">\n",
       "  <thead>\n",
       "    <tr style=\"text-align: right;\">\n",
       "      <th></th>\n",
       "      <th>LA</th>\n",
       "      <th>NY</th>\n",
       "    </tr>\n",
       "    <tr>\n",
       "      <th>datetime</th>\n",
       "      <th></th>\n",
       "      <th></th>\n",
       "    </tr>\n",
       "  </thead>\n",
       "  <tbody>\n",
       "    <tr>\n",
       "      <td>2013-01</td>\n",
       "      <td>11.596237</td>\n",
       "      <td>1.129570</td>\n",
       "    </tr>\n",
       "    <tr>\n",
       "      <td>2013-02</td>\n",
       "      <td>12.587202</td>\n",
       "      <td>0.617857</td>\n",
       "    </tr>\n",
       "    <tr>\n",
       "      <td>2013-03</td>\n",
       "      <td>15.069946</td>\n",
       "      <td>3.719220</td>\n",
       "    </tr>\n",
       "    <tr>\n",
       "      <td>2013-04</td>\n",
       "      <td>16.487361</td>\n",
       "      <td>10.699306</td>\n",
       "    </tr>\n",
       "    <tr>\n",
       "      <td>2013-05</td>\n",
       "      <td>19.005780</td>\n",
       "      <td>15.824328</td>\n",
       "    </tr>\n",
       "  </tbody>\n",
       "</table>\n",
       "</div>"
      ],
      "text/plain": [
       "                 LA         NY\n",
       "datetime                      \n",
       "2013-01   11.596237   1.129570\n",
       "2013-02   12.587202   0.617857\n",
       "2013-03   15.069946   3.719220\n",
       "2013-04   16.487361  10.699306\n",
       "2013-05   19.005780  15.824328"
      ]
     },
     "execution_count": 161,
     "metadata": {},
     "output_type": "execute_result"
    }
   ],
   "source": [
    "temp.resample(\"M\",kind=\"period\").mean().head()  # M - kind period- to get only month as a label."
   ]
  },
  {
   "cell_type": "code",
   "execution_count": 162,
   "metadata": {},
   "outputs": [
    {
     "data": {
      "text/html": [
       "<div>\n",
       "<style scoped>\n",
       "    .dataframe tbody tr th:only-of-type {\n",
       "        vertical-align: middle;\n",
       "    }\n",
       "\n",
       "    .dataframe tbody tr th {\n",
       "        vertical-align: top;\n",
       "    }\n",
       "\n",
       "    .dataframe thead th {\n",
       "        text-align: right;\n",
       "    }\n",
       "</style>\n",
       "<table border=\"1\" class=\"dataframe\">\n",
       "  <thead>\n",
       "    <tr style=\"text-align: right;\">\n",
       "      <th></th>\n",
       "      <th>LA</th>\n",
       "      <th>NY</th>\n",
       "    </tr>\n",
       "    <tr>\n",
       "      <th>datetime</th>\n",
       "      <th></th>\n",
       "      <th></th>\n",
       "    </tr>\n",
       "  </thead>\n",
       "  <tbody>\n",
       "    <tr>\n",
       "      <td>2012-12-31/2013-01-06</td>\n",
       "      <td>10.214583</td>\n",
       "      <td>0.222917</td>\n",
       "    </tr>\n",
       "    <tr>\n",
       "      <td>2013-01-07/2013-01-13</td>\n",
       "      <td>10.494048</td>\n",
       "      <td>4.245238</td>\n",
       "    </tr>\n",
       "    <tr>\n",
       "      <td>2013-01-14/2013-01-20</td>\n",
       "      <td>11.119643</td>\n",
       "      <td>3.924405</td>\n",
       "    </tr>\n",
       "    <tr>\n",
       "      <td>2013-01-21/2013-01-27</td>\n",
       "      <td>15.586905</td>\n",
       "      <td>-4.660714</td>\n",
       "    </tr>\n",
       "    <tr>\n",
       "      <td>2013-01-28/2013-02-03</td>\n",
       "      <td>11.569643</td>\n",
       "      <td>1.502381</td>\n",
       "    </tr>\n",
       "  </tbody>\n",
       "</table>\n",
       "</div>"
      ],
      "text/plain": [
       "                              LA        NY\n",
       "datetime                                  \n",
       "2012-12-31/2013-01-06  10.214583  0.222917\n",
       "2013-01-07/2013-01-13  10.494048  4.245238\n",
       "2013-01-14/2013-01-20  11.119643  3.924405\n",
       "2013-01-21/2013-01-27  15.586905 -4.660714\n",
       "2013-01-28/2013-02-03  11.569643  1.502381"
      ]
     },
     "execution_count": 162,
     "metadata": {},
     "output_type": "execute_result"
    }
   ],
   "source": [
    "temp.resample(\"W\",kind=\"period\").mean().head() "
   ]
  },
  {
   "cell_type": "code",
   "execution_count": 163,
   "metadata": {},
   "outputs": [
    {
     "data": {
      "text/html": [
       "<div>\n",
       "<style scoped>\n",
       "    .dataframe tbody tr th:only-of-type {\n",
       "        vertical-align: middle;\n",
       "    }\n",
       "\n",
       "    .dataframe tbody tr th {\n",
       "        vertical-align: top;\n",
       "    }\n",
       "\n",
       "    .dataframe thead th {\n",
       "        text-align: right;\n",
       "    }\n",
       "</style>\n",
       "<table border=\"1\" class=\"dataframe\">\n",
       "  <thead>\n",
       "    <tr style=\"text-align: right;\">\n",
       "      <th></th>\n",
       "      <th>LA</th>\n",
       "      <th>NY</th>\n",
       "    </tr>\n",
       "    <tr>\n",
       "      <th>datetime</th>\n",
       "      <th></th>\n",
       "      <th></th>\n",
       "    </tr>\n",
       "  </thead>\n",
       "  <tbody>\n",
       "    <tr>\n",
       "      <td>2013Q1</td>\n",
       "      <td>13.099212</td>\n",
       "      <td>1.862361</td>\n",
       "    </tr>\n",
       "    <tr>\n",
       "      <td>2013Q2</td>\n",
       "      <td>18.472115</td>\n",
       "      <td>16.245101</td>\n",
       "    </tr>\n",
       "    <tr>\n",
       "      <td>2013Q3</td>\n",
       "      <td>21.999638</td>\n",
       "      <td>22.411594</td>\n",
       "    </tr>\n",
       "    <tr>\n",
       "      <td>2013Q4</td>\n",
       "      <td>15.047781</td>\n",
       "      <td>8.084918</td>\n",
       "    </tr>\n",
       "    <tr>\n",
       "      <td>2014Q1</td>\n",
       "      <td>15.508287</td>\n",
       "      <td>-0.570880</td>\n",
       "    </tr>\n",
       "  </tbody>\n",
       "</table>\n",
       "</div>"
      ],
      "text/plain": [
       "                 LA         NY\n",
       "datetime                      \n",
       "2013Q1    13.099212   1.862361\n",
       "2013Q2    18.472115  16.245101\n",
       "2013Q3    21.999638  22.411594\n",
       "2013Q4    15.047781   8.084918\n",
       "2014Q1    15.508287  -0.570880"
      ]
     },
     "execution_count": 163,
     "metadata": {},
     "output_type": "execute_result"
    }
   ],
   "source": [
    "temp.resample(\"Q\",kind=\"period\").mean().head() "
   ]
  },
  {
   "cell_type": "code",
   "execution_count": 164,
   "metadata": {},
   "outputs": [
    {
     "data": {
      "text/html": [
       "<div>\n",
       "<style scoped>\n",
       "    .dataframe tbody tr th:only-of-type {\n",
       "        vertical-align: middle;\n",
       "    }\n",
       "\n",
       "    .dataframe tbody tr th {\n",
       "        vertical-align: top;\n",
       "    }\n",
       "\n",
       "    .dataframe thead th {\n",
       "        text-align: right;\n",
       "    }\n",
       "</style>\n",
       "<table border=\"1\" class=\"dataframe\">\n",
       "  <thead>\n",
       "    <tr style=\"text-align: right;\">\n",
       "      <th></th>\n",
       "      <th>LA</th>\n",
       "      <th>NY</th>\n",
       "    </tr>\n",
       "    <tr>\n",
       "      <th>datetime</th>\n",
       "      <th></th>\n",
       "      <th></th>\n",
       "    </tr>\n",
       "  </thead>\n",
       "  <tbody>\n",
       "    <tr>\n",
       "      <td>2013</td>\n",
       "      <td>17.174229</td>\n",
       "      <td>12.196153</td>\n",
       "    </tr>\n",
       "    <tr>\n",
       "      <td>2014</td>\n",
       "      <td>17.245616</td>\n",
       "      <td>11.370959</td>\n",
       "    </tr>\n",
       "    <tr>\n",
       "      <td>2015</td>\n",
       "      <td>17.191530</td>\n",
       "      <td>11.795194</td>\n",
       "    </tr>\n",
       "    <tr>\n",
       "      <td>2016</td>\n",
       "      <td>18.330305</td>\n",
       "      <td>12.908470</td>\n",
       "    </tr>\n",
       "  </tbody>\n",
       "</table>\n",
       "</div>"
      ],
      "text/plain": [
       "                 LA         NY\n",
       "datetime                      \n",
       "2013      17.174229  12.196153\n",
       "2014      17.245616  11.370959\n",
       "2015      17.191530  11.795194\n",
       "2016      18.330305  12.908470"
      ]
     },
     "execution_count": 164,
     "metadata": {},
     "output_type": "execute_result"
    }
   ],
   "source": [
    "temp.resample(\"A\",kind=\"period\").mean().head() "
   ]
  },
  {
   "cell_type": "code",
   "execution_count": 165,
   "metadata": {},
   "outputs": [],
   "source": [
    "temp_m=temp.resample(\"M\",kind=\"period\").mean().head() "
   ]
  },
  {
   "cell_type": "code",
   "execution_count": 167,
   "metadata": {},
   "outputs": [
    {
     "data": {
      "text/html": [
       "<div>\n",
       "<style scoped>\n",
       "    .dataframe tbody tr th:only-of-type {\n",
       "        vertical-align: middle;\n",
       "    }\n",
       "\n",
       "    .dataframe tbody tr th {\n",
       "        vertical-align: top;\n",
       "    }\n",
       "\n",
       "    .dataframe thead th {\n",
       "        text-align: right;\n",
       "    }\n",
       "</style>\n",
       "<table border=\"1\" class=\"dataframe\">\n",
       "  <thead>\n",
       "    <tr style=\"text-align: right;\">\n",
       "      <th></th>\n",
       "      <th>LA</th>\n",
       "      <th>NY</th>\n",
       "    </tr>\n",
       "    <tr>\n",
       "      <th>datetime</th>\n",
       "      <th></th>\n",
       "      <th></th>\n",
       "    </tr>\n",
       "  </thead>\n",
       "  <tbody>\n",
       "    <tr>\n",
       "      <td>2013-01</td>\n",
       "      <td>11.596237</td>\n",
       "      <td>1.129570</td>\n",
       "    </tr>\n",
       "    <tr>\n",
       "      <td>2013-02</td>\n",
       "      <td>12.587202</td>\n",
       "      <td>0.617857</td>\n",
       "    </tr>\n",
       "    <tr>\n",
       "      <td>2013-03</td>\n",
       "      <td>15.069946</td>\n",
       "      <td>3.719220</td>\n",
       "    </tr>\n",
       "    <tr>\n",
       "      <td>2013-04</td>\n",
       "      <td>16.487361</td>\n",
       "      <td>10.699306</td>\n",
       "    </tr>\n",
       "    <tr>\n",
       "      <td>2013-05</td>\n",
       "      <td>19.005780</td>\n",
       "      <td>15.824328</td>\n",
       "    </tr>\n",
       "  </tbody>\n",
       "</table>\n",
       "</div>"
      ],
      "text/plain": [
       "                 LA         NY\n",
       "datetime                      \n",
       "2013-01   11.596237   1.129570\n",
       "2013-02   12.587202   0.617857\n",
       "2013-03   15.069946   3.719220\n",
       "2013-04   16.487361  10.699306\n",
       "2013-05   19.005780  15.824328"
      ]
     },
     "execution_count": 167,
     "metadata": {},
     "output_type": "execute_result"
    }
   ],
   "source": [
    "temp_m"
   ]
  },
  {
   "cell_type": "code",
   "execution_count": 168,
   "metadata": {},
   "outputs": [
    {
     "name": "stdout",
     "output_type": "stream",
     "text": [
      "<class 'pandas.core.frame.DataFrame'>\n",
      "PeriodIndex: 5 entries, 2013-01 to 2013-05\n",
      "Freq: M\n",
      "Data columns (total 2 columns):\n",
      "LA    5 non-null float64\n",
      "NY    5 non-null float64\n",
      "dtypes: float64(2)\n",
      "memory usage: 120.0 bytes\n"
     ]
    }
   ],
   "source": [
    "temp_m.info()"
   ]
  },
  {
   "cell_type": "code",
   "execution_count": 169,
   "metadata": {},
   "outputs": [
    {
     "data": {
      "text/plain": [
       "PeriodIndex(['2013-01', '2013-02', '2013-03', '2013-04', '2013-05'], dtype='period[M]', name='datetime', freq='M')"
      ]
     },
     "execution_count": 169,
     "metadata": {},
     "output_type": "execute_result"
    }
   ],
   "source": [
    "temp_m.index"
   ]
  },
  {
   "cell_type": "code",
   "execution_count": 170,
   "metadata": {},
   "outputs": [
    {
     "data": {
      "text/plain": [
       "<matplotlib.axes._subplots.AxesSubplot at 0x26d3d62c948>"
      ]
     },
     "execution_count": 170,
     "metadata": {},
     "output_type": "execute_result"
    },
    {
     "data": {
      "image/png": "[encoded data removed]",
      "text/plain": [
       "<Figure size 1080x576 with 1 Axes>"
      ]
     },
     "metadata": {
      "needs_background": "light"
     },
     "output_type": "display_data"
    }
   ],
   "source": [
    "temp_m.plot(figsize=(15,8),fontsize=15)"
   ]
  },
  {
   "cell_type": "code",
   "execution_count": 171,
   "metadata": {},
   "outputs": [
    {
     "data": {
      "text/html": [
       "<div>\n",
       "<style scoped>\n",
       "    .dataframe tbody tr th:only-of-type {\n",
       "        vertical-align: middle;\n",
       "    }\n",
       "\n",
       "    .dataframe tbody tr th {\n",
       "        vertical-align: top;\n",
       "    }\n",
       "\n",
       "    .dataframe thead th {\n",
       "        text-align: right;\n",
       "    }\n",
       "</style>\n",
       "<table border=\"1\" class=\"dataframe\">\n",
       "  <thead>\n",
       "    <tr style=\"text-align: right;\">\n",
       "      <th></th>\n",
       "      <th>LA</th>\n",
       "      <th>NY</th>\n",
       "    </tr>\n",
       "    <tr>\n",
       "      <th>datetime</th>\n",
       "      <th></th>\n",
       "      <th></th>\n",
       "    </tr>\n",
       "  </thead>\n",
       "  <tbody>\n",
       "    <tr>\n",
       "      <td>2013Q1</td>\n",
       "      <td>13.099212</td>\n",
       "      <td>1.862361</td>\n",
       "    </tr>\n",
       "    <tr>\n",
       "      <td>2013Q2</td>\n",
       "      <td>18.472115</td>\n",
       "      <td>16.245101</td>\n",
       "    </tr>\n",
       "    <tr>\n",
       "      <td>2013Q3</td>\n",
       "      <td>21.999638</td>\n",
       "      <td>22.411594</td>\n",
       "    </tr>\n",
       "    <tr>\n",
       "      <td>2013Q4</td>\n",
       "      <td>15.047781</td>\n",
       "      <td>8.084918</td>\n",
       "    </tr>\n",
       "    <tr>\n",
       "      <td>2014Q1</td>\n",
       "      <td>15.508287</td>\n",
       "      <td>-0.570880</td>\n",
       "    </tr>\n",
       "    <tr>\n",
       "      <td>2014Q2</td>\n",
       "      <td>18.891255</td>\n",
       "      <td>16.253938</td>\n",
       "    </tr>\n",
       "    <tr>\n",
       "      <td>2014Q3</td>\n",
       "      <td>22.281295</td>\n",
       "      <td>21.738315</td>\n",
       "    </tr>\n",
       "    <tr>\n",
       "      <td>2014Q4</td>\n",
       "      <td>12.281748</td>\n",
       "      <td>7.855933</td>\n",
       "    </tr>\n",
       "    <tr>\n",
       "      <td>2015Q1</td>\n",
       "      <td>11.869306</td>\n",
       "      <td>-3.340509</td>\n",
       "    </tr>\n",
       "    <tr>\n",
       "      <td>2015Q2</td>\n",
       "      <td>16.334386</td>\n",
       "      <td>16.445238</td>\n",
       "    </tr>\n",
       "    <tr>\n",
       "      <td>2015Q3</td>\n",
       "      <td>24.105571</td>\n",
       "      <td>23.314810</td>\n",
       "    </tr>\n",
       "    <tr>\n",
       "      <td>2015Q4</td>\n",
       "      <td>16.331839</td>\n",
       "      <td>10.482745</td>\n",
       "    </tr>\n",
       "    <tr>\n",
       "      <td>2016Q1</td>\n",
       "      <td>14.895375</td>\n",
       "      <td>3.466484</td>\n",
       "    </tr>\n",
       "    <tr>\n",
       "      <td>2016Q2</td>\n",
       "      <td>19.192353</td>\n",
       "      <td>15.956639</td>\n",
       "    </tr>\n",
       "    <tr>\n",
       "      <td>2016Q3</td>\n",
       "      <td>23.648324</td>\n",
       "      <td>23.746603</td>\n",
       "    </tr>\n",
       "    <tr>\n",
       "      <td>2016Q4</td>\n",
       "      <td>15.557201</td>\n",
       "      <td>8.394656</td>\n",
       "    </tr>\n",
       "  </tbody>\n",
       "</table>\n",
       "</div>"
      ],
      "text/plain": [
       "                 LA         NY\n",
       "datetime                      \n",
       "2013Q1    13.099212   1.862361\n",
       "2013Q2    18.472115  16.245101\n",
       "2013Q3    21.999638  22.411594\n",
       "2013Q4    15.047781   8.084918\n",
       "2014Q1    15.508287  -0.570880\n",
       "2014Q2    18.891255  16.253938\n",
       "2014Q3    22.281295  21.738315\n",
       "2014Q4    12.281748   7.855933\n",
       "2015Q1    11.869306  -3.340509\n",
       "2015Q2    16.334386  16.445238\n",
       "2015Q3    24.105571  23.314810\n",
       "2015Q4    16.331839  10.482745\n",
       "2016Q1    14.895375   3.466484\n",
       "2016Q2    19.192353  15.956639\n",
       "2016Q3    23.648324  23.746603\n",
       "2016Q4    15.557201   8.394656"
      ]
     },
     "execution_count": 171,
     "metadata": {},
     "output_type": "execute_result"
    }
   ],
   "source": [
    "temp.resample(\"Q\",kind=\"period\").mean()  # lable shown as Q1 Q2 likewise"
   ]
  },
  {
   "cell_type": "code",
   "execution_count": 172,
   "metadata": {},
   "outputs": [
    {
     "data": {
      "text/html": [
       "<div>\n",
       "<style scoped>\n",
       "    .dataframe tbody tr th:only-of-type {\n",
       "        vertical-align: middle;\n",
       "    }\n",
       "\n",
       "    .dataframe tbody tr th {\n",
       "        vertical-align: top;\n",
       "    }\n",
       "\n",
       "    .dataframe thead th {\n",
       "        text-align: right;\n",
       "    }\n",
       "</style>\n",
       "<table border=\"1\" class=\"dataframe\">\n",
       "  <thead>\n",
       "    <tr style=\"text-align: right;\">\n",
       "      <th></th>\n",
       "      <th>LA</th>\n",
       "      <th>NY</th>\n",
       "    </tr>\n",
       "    <tr>\n",
       "      <th>datetime</th>\n",
       "      <th></th>\n",
       "      <th></th>\n",
       "    </tr>\n",
       "  </thead>\n",
       "  <tbody>\n",
       "    <tr>\n",
       "      <td>2013</td>\n",
       "      <td>17.174229</td>\n",
       "      <td>12.196153</td>\n",
       "    </tr>\n",
       "    <tr>\n",
       "      <td>2014</td>\n",
       "      <td>17.245616</td>\n",
       "      <td>11.370959</td>\n",
       "    </tr>\n",
       "    <tr>\n",
       "      <td>2015</td>\n",
       "      <td>17.191530</td>\n",
       "      <td>11.795194</td>\n",
       "    </tr>\n",
       "    <tr>\n",
       "      <td>2016</td>\n",
       "      <td>18.330305</td>\n",
       "      <td>12.908470</td>\n",
       "    </tr>\n",
       "  </tbody>\n",
       "</table>\n",
       "</div>"
      ],
      "text/plain": [
       "                 LA         NY\n",
       "datetime                      \n",
       "2013      17.174229  12.196153\n",
       "2014      17.245616  11.370959\n",
       "2015      17.191530  11.795194\n",
       "2016      18.330305  12.908470"
      ]
     },
     "execution_count": 172,
     "metadata": {},
     "output_type": "execute_result"
    }
   ],
   "source": [
    "temp.resample(\"A\",kind=\"period\").mean()  # lable shown as year only"
   ]
  },
  {
   "cell_type": "code",
   "execution_count": 173,
   "metadata": {},
   "outputs": [],
   "source": [
    "temp_m=temp.resample(\"M\",kind=\"period\").mean()  # lable shown as year only"
   ]
  },
  {
   "cell_type": "code",
   "execution_count": 174,
   "metadata": {},
   "outputs": [
    {
     "data": {
      "text/html": [
       "<div>\n",
       "<style scoped>\n",
       "    .dataframe tbody tr th:only-of-type {\n",
       "        vertical-align: middle;\n",
       "    }\n",
       "\n",
       "    .dataframe tbody tr th {\n",
       "        vertical-align: top;\n",
       "    }\n",
       "\n",
       "    .dataframe thead th {\n",
       "        text-align: right;\n",
       "    }\n",
       "</style>\n",
       "<table border=\"1\" class=\"dataframe\">\n",
       "  <thead>\n",
       "    <tr style=\"text-align: right;\">\n",
       "      <th></th>\n",
       "      <th>LA</th>\n",
       "      <th>NY</th>\n",
       "    </tr>\n",
       "    <tr>\n",
       "      <th>datetime</th>\n",
       "      <th></th>\n",
       "      <th></th>\n",
       "    </tr>\n",
       "  </thead>\n",
       "  <tbody>\n",
       "    <tr>\n",
       "      <td>2013-01</td>\n",
       "      <td>11.596237</td>\n",
       "      <td>1.129570</td>\n",
       "    </tr>\n",
       "    <tr>\n",
       "      <td>2013-02</td>\n",
       "      <td>12.587202</td>\n",
       "      <td>0.617857</td>\n",
       "    </tr>\n",
       "    <tr>\n",
       "      <td>2013-03</td>\n",
       "      <td>15.069946</td>\n",
       "      <td>3.719220</td>\n",
       "    </tr>\n",
       "    <tr>\n",
       "      <td>2013-04</td>\n",
       "      <td>16.487361</td>\n",
       "      <td>10.699306</td>\n",
       "    </tr>\n",
       "    <tr>\n",
       "      <td>2013-05</td>\n",
       "      <td>19.005780</td>\n",
       "      <td>15.824328</td>\n",
       "    </tr>\n",
       "    <tr>\n",
       "      <td>2013-06</td>\n",
       "      <td>19.905417</td>\n",
       "      <td>22.225694</td>\n",
       "    </tr>\n",
       "    <tr>\n",
       "      <td>2013-07</td>\n",
       "      <td>22.093952</td>\n",
       "      <td>26.329704</td>\n",
       "    </tr>\n",
       "    <tr>\n",
       "      <td>2013-08</td>\n",
       "      <td>21.513172</td>\n",
       "      <td>22.480376</td>\n",
       "    </tr>\n",
       "    <tr>\n",
       "      <td>2013-09</td>\n",
       "      <td>22.404861</td>\n",
       "      <td>18.291806</td>\n",
       "    </tr>\n",
       "    <tr>\n",
       "      <td>2013-10</td>\n",
       "      <td>16.620430</td>\n",
       "      <td>14.335215</td>\n",
       "    </tr>\n",
       "    <tr>\n",
       "      <td>2013-11</td>\n",
       "      <td>15.107917</td>\n",
       "      <td>7.111944</td>\n",
       "    </tr>\n",
       "    <tr>\n",
       "      <td>2013-12</td>\n",
       "      <td>13.416935</td>\n",
       "      <td>2.776210</td>\n",
       "    </tr>\n",
       "    <tr>\n",
       "      <td>2014-01</td>\n",
       "      <td>16.247715</td>\n",
       "      <td>-2.210349</td>\n",
       "    </tr>\n",
       "    <tr>\n",
       "      <td>2014-02</td>\n",
       "      <td>14.326637</td>\n",
       "      <td>-1.596280</td>\n",
       "    </tr>\n",
       "    <tr>\n",
       "      <td>2014-03</td>\n",
       "      <td>15.836156</td>\n",
       "      <td>1.994758</td>\n",
       "    </tr>\n",
       "    <tr>\n",
       "      <td>2014-04</td>\n",
       "      <td>16.783472</td>\n",
       "      <td>10.128611</td>\n",
       "    </tr>\n",
       "    <tr>\n",
       "      <td>2014-05</td>\n",
       "      <td>20.041398</td>\n",
       "      <td>16.829167</td>\n",
       "    </tr>\n",
       "    <tr>\n",
       "      <td>2014-06</td>\n",
       "      <td>19.810556</td>\n",
       "      <td>21.784861</td>\n",
       "    </tr>\n",
       "    <tr>\n",
       "      <td>2014-07</td>\n",
       "      <td>23.056183</td>\n",
       "      <td>24.019624</td>\n",
       "    </tr>\n",
       "    <tr>\n",
       "      <td>2014-08</td>\n",
       "      <td>22.146102</td>\n",
       "      <td>21.848387</td>\n",
       "    </tr>\n",
       "    <tr>\n",
       "      <td>2014-09</td>\n",
       "      <td>21.620278</td>\n",
       "      <td>19.267222</td>\n",
       "    </tr>\n",
       "    <tr>\n",
       "      <td>2014-10</td>\n",
       "      <td>16.968280</td>\n",
       "      <td>14.265860</td>\n",
       "    </tr>\n",
       "    <tr>\n",
       "      <td>2014-11</td>\n",
       "      <td>11.322083</td>\n",
       "      <td>5.719167</td>\n",
       "    </tr>\n",
       "    <tr>\n",
       "      <td>2014-12</td>\n",
       "      <td>8.523925</td>\n",
       "      <td>3.513844</td>\n",
       "    </tr>\n",
       "    <tr>\n",
       "      <td>2015-01</td>\n",
       "      <td>9.527016</td>\n",
       "      <td>-4.179301</td>\n",
       "    </tr>\n",
       "    <tr>\n",
       "      <td>2015-02</td>\n",
       "      <td>11.587649</td>\n",
       "      <td>-7.239732</td>\n",
       "    </tr>\n",
       "    <tr>\n",
       "      <td>2015-03</td>\n",
       "      <td>14.465995</td>\n",
       "      <td>1.020161</td>\n",
       "    </tr>\n",
       "    <tr>\n",
       "      <td>2015-04</td>\n",
       "      <td>13.527917</td>\n",
       "      <td>10.180417</td>\n",
       "    </tr>\n",
       "    <tr>\n",
       "      <td>2015-05</td>\n",
       "      <td>14.540054</td>\n",
       "      <td>18.731586</td>\n",
       "    </tr>\n",
       "    <tr>\n",
       "      <td>2015-06</td>\n",
       "      <td>20.995000</td>\n",
       "      <td>20.347500</td>\n",
       "    </tr>\n",
       "    <tr>\n",
       "      <td>2015-07</td>\n",
       "      <td>22.899059</td>\n",
       "      <td>24.252151</td>\n",
       "    </tr>\n",
       "    <tr>\n",
       "      <td>2015-08</td>\n",
       "      <td>24.846909</td>\n",
       "      <td>24.046774</td>\n",
       "    </tr>\n",
       "    <tr>\n",
       "      <td>2015-09</td>\n",
       "      <td>24.586250</td>\n",
       "      <td>21.589861</td>\n",
       "    </tr>\n",
       "    <tr>\n",
       "      <td>2015-10</td>\n",
       "      <td>21.785753</td>\n",
       "      <td>12.656452</td>\n",
       "    </tr>\n",
       "    <tr>\n",
       "      <td>2015-11</td>\n",
       "      <td>15.255278</td>\n",
       "      <td>10.117500</td>\n",
       "    </tr>\n",
       "    <tr>\n",
       "      <td>2015-12</td>\n",
       "      <td>11.919758</td>\n",
       "      <td>8.662500</td>\n",
       "    </tr>\n",
       "    <tr>\n",
       "      <td>2016-01</td>\n",
       "      <td>12.509274</td>\n",
       "      <td>0.168952</td>\n",
       "    </tr>\n",
       "    <tr>\n",
       "      <td>2016-02</td>\n",
       "      <td>16.600431</td>\n",
       "      <td>2.069971</td>\n",
       "    </tr>\n",
       "    <tr>\n",
       "      <td>2016-03</td>\n",
       "      <td>15.686425</td>\n",
       "      <td>8.070430</td>\n",
       "    </tr>\n",
       "    <tr>\n",
       "      <td>2016-04</td>\n",
       "      <td>17.726111</td>\n",
       "      <td>10.535556</td>\n",
       "    </tr>\n",
       "    <tr>\n",
       "      <td>2016-05</td>\n",
       "      <td>17.375403</td>\n",
       "      <td>15.874462</td>\n",
       "    </tr>\n",
       "    <tr>\n",
       "      <td>2016-06</td>\n",
       "      <td>22.536111</td>\n",
       "      <td>21.462639</td>\n",
       "    </tr>\n",
       "    <tr>\n",
       "      <td>2016-07</td>\n",
       "      <td>24.541532</td>\n",
       "      <td>24.767608</td>\n",
       "    </tr>\n",
       "    <tr>\n",
       "      <td>2016-08</td>\n",
       "      <td>23.983199</td>\n",
       "      <td>25.351882</td>\n",
       "    </tr>\n",
       "    <tr>\n",
       "      <td>2016-09</td>\n",
       "      <td>22.379306</td>\n",
       "      <td>21.032778</td>\n",
       "    </tr>\n",
       "    <tr>\n",
       "      <td>2016-10</td>\n",
       "      <td>16.137903</td>\n",
       "      <td>14.321640</td>\n",
       "    </tr>\n",
       "    <tr>\n",
       "      <td>2016-11</td>\n",
       "      <td>17.196111</td>\n",
       "      <td>8.539722</td>\n",
       "    </tr>\n",
       "    <tr>\n",
       "      <td>2016-12</td>\n",
       "      <td>13.390457</td>\n",
       "      <td>2.327285</td>\n",
       "    </tr>\n",
       "  </tbody>\n",
       "</table>\n",
       "</div>"
      ],
      "text/plain": [
       "                 LA         NY\n",
       "datetime                      \n",
       "2013-01   11.596237   1.129570\n",
       "2013-02   12.587202   0.617857\n",
       "2013-03   15.069946   3.719220\n",
       "2013-04   16.487361  10.699306\n",
       "2013-05   19.005780  15.824328\n",
       "2013-06   19.905417  22.225694\n",
       "2013-07   22.093952  26.329704\n",
       "2013-08   21.513172  22.480376\n",
       "2013-09   22.404861  18.291806\n",
       "2013-10   16.620430  14.335215\n",
       "2013-11   15.107917   7.111944\n",
       "2013-12   13.416935   2.776210\n",
       "2014-01   16.247715  -2.210349\n",
       "2014-02   14.326637  -1.596280\n",
       "2014-03   15.836156   1.994758\n",
       "2014-04   16.783472  10.128611\n",
       "2014-05   20.041398  16.829167\n",
       "2014-06   19.810556  21.784861\n",
       "2014-07   23.056183  24.019624\n",
       "2014-08   22.146102  21.848387\n",
       "2014-09   21.620278  19.267222\n",
       "2014-10   16.968280  14.265860\n",
       "2014-11   11.322083   5.719167\n",
       "2014-12    8.523925   3.513844\n",
       "2015-01    9.527016  -4.179301\n",
       "2015-02   11.587649  -7.239732\n",
       "2015-03   14.465995   1.020161\n",
       "2015-04   13.527917  10.180417\n",
       "2015-05   14.540054  18.731586\n",
       "2015-06   20.995000  20.347500\n",
       "2015-07   22.899059  24.252151\n",
       "2015-08   24.846909  24.046774\n",
       "2015-09   24.586250  21.589861\n",
       "2015-10   21.785753  12.656452\n",
       "2015-11   15.255278  10.117500\n",
       "2015-12   11.919758   8.662500\n",
       "2016-01   12.509274   0.168952\n",
       "2016-02   16.600431   2.069971\n",
       "2016-03   15.686425   8.070430\n",
       "2016-04   17.726111  10.535556\n",
       "2016-05   17.375403  15.874462\n",
       "2016-06   22.536111  21.462639\n",
       "2016-07   24.541532  24.767608\n",
       "2016-08   23.983199  25.351882\n",
       "2016-09   22.379306  21.032778\n",
       "2016-10   16.137903  14.321640\n",
       "2016-11   17.196111   8.539722\n",
       "2016-12   13.390457   2.327285"
      ]
     },
     "execution_count": 174,
     "metadata": {},
     "output_type": "execute_result"
    }
   ],
   "source": [
    "temp_m"
   ]
  },
  {
   "cell_type": "code",
   "execution_count": 175,
   "metadata": {},
   "outputs": [
    {
     "name": "stdout",
     "output_type": "stream",
     "text": [
      "<class 'pandas.core.frame.DataFrame'>\n",
      "PeriodIndex: 48 entries, 2013-01 to 2016-12\n",
      "Freq: M\n",
      "Data columns (total 2 columns):\n",
      "LA    48 non-null float64\n",
      "NY    48 non-null float64\n",
      "dtypes: float64(2)\n",
      "memory usage: 1.1 KB\n"
     ]
    }
   ],
   "source": [
    "temp_m.info()"
   ]
  },
  {
   "cell_type": "code",
   "execution_count": 176,
   "metadata": {},
   "outputs": [
    {
     "data": {
      "text/plain": [
       "PeriodIndex(['2013-01', '2013-02', '2013-03', '2013-04', '2013-05', '2013-06',\n",
       "             '2013-07', '2013-08', '2013-09', '2013-10', '2013-11', '2013-12',\n",
       "             '2014-01', '2014-02', '2014-03', '2014-04', '2014-05', '2014-06',\n",
       "             '2014-07', '2014-08', '2014-09', '2014-10', '2014-11', '2014-12',\n",
       "             '2015-01', '2015-02', '2015-03', '2015-04', '2015-05', '2015-06',\n",
       "             '2015-07', '2015-08', '2015-09', '2015-10', '2015-11', '2015-12',\n",
       "             '2016-01', '2016-02', '2016-03', '2016-04', '2016-05', '2016-06',\n",
       "             '2016-07', '2016-08', '2016-09', '2016-10', '2016-11', '2016-12'],\n",
       "            dtype='period[M]', name='datetime', freq='M')"
      ]
     },
     "execution_count": 176,
     "metadata": {},
     "output_type": "execute_result"
    }
   ],
   "source": [
    "temp_m.index"
   ]
  },
  {
   "cell_type": "code",
   "execution_count": 177,
   "metadata": {},
   "outputs": [
    {
     "data": {
      "text/plain": [
       "<function matplotlib.pyplot.show(*args, **kw)>"
      ]
     },
     "execution_count": 177,
     "metadata": {},
     "output_type": "execute_result"
    },
    {
     "data": {
      "image/png": "[encoded data removed]",
      "text/plain": [
       "<Figure size 1080x576 with 1 Axes>"
      ]
     },
     "metadata": {
      "needs_background": "light"
     },
     "output_type": "display_data"
    }
   ],
   "source": [
    "#"
   ]
  },
  {
   "cell_type": "markdown",
   "metadata": {},
   "source": [
    "#### Below plot shows the hourly data of temp. Next plot shows the monthly data with downsampling. sharing same axis"
   ]
  },
  {
   "cell_type": "code",
   "execution_count": 179,
   "metadata": {},
   "outputs": [
    {
     "data": {
      "text/plain": [
       "<matplotlib.axes._subplots.AxesSubplot at 0x26d4062b388>"
      ]
     },
     "execution_count": 179,
     "metadata": {},
     "output_type": "execute_result"
    },
    {
     "data": {
      "image/png": "[encoded data removed]",
      "text/plain": [
       "<Figure size 1080x576 with 1 Axes>"
      ]
     },
     "metadata": {
      "needs_background": "light"
     },
     "output_type": "display_data"
    }
   ],
   "source": [
    "temp.plot(figsize=(15,8),fontsize=15)"
   ]
  },
  {
   "cell_type": "code",
   "execution_count": 180,
   "metadata": {},
   "outputs": [
    {
     "data": {
      "text/plain": [
       "<function matplotlib.pyplot.show(*args, **kw)>"
      ]
     },
     "execution_count": 180,
     "metadata": {},
     "output_type": "execute_result"
    },
    {
     "data": {
      "image/png": "[encoded data removed]",
      "text/plain": [
       "<Figure size 1080x576 with 1 Axes>"
      ]
     },
     "metadata": {
      "needs_background": "light"
     },
     "output_type": "display_data"
    }
   ],
   "source": [
    "temp_m.plot(figsize=(15,8),fontsize=15)  # downsampling shows smooth and clean plots by taking mean of each month on x.\n",
    "plt.show"
   ]
  },
  {
   "cell_type": "markdown",
   "metadata": {},
   "source": [
    "##  The periodIndex Objects"
   ]
  },
  {
   "cell_type": "code",
   "execution_count": 182,
   "metadata": {},
   "outputs": [],
   "source": [
    "temp = pd.read_csv(\"temp.csv\", parse_dates= [\"datetime\"], index_col = \"datetime\")"
   ]
  },
  {
   "cell_type": "code",
   "execution_count": 183,
   "metadata": {},
   "outputs": [
    {
     "data": {
      "text/html": [
       "<div>\n",
       "<style scoped>\n",
       "    .dataframe tbody tr th:only-of-type {\n",
       "        vertical-align: middle;\n",
       "    }\n",
       "\n",
       "    .dataframe tbody tr th {\n",
       "        vertical-align: top;\n",
       "    }\n",
       "\n",
       "    .dataframe thead th {\n",
       "        text-align: right;\n",
       "    }\n",
       "</style>\n",
       "<table border=\"1\" class=\"dataframe\">\n",
       "  <thead>\n",
       "    <tr style=\"text-align: right;\">\n",
       "      <th></th>\n",
       "      <th>LA</th>\n",
       "      <th>NY</th>\n",
       "    </tr>\n",
       "    <tr>\n",
       "      <th>datetime</th>\n",
       "      <th></th>\n",
       "      <th></th>\n",
       "    </tr>\n",
       "  </thead>\n",
       "  <tbody>\n",
       "    <tr>\n",
       "      <td>2013-01-01 00:00:00</td>\n",
       "      <td>11.7</td>\n",
       "      <td>-1.1</td>\n",
       "    </tr>\n",
       "    <tr>\n",
       "      <td>2013-01-01 01:00:00</td>\n",
       "      <td>10.7</td>\n",
       "      <td>-1.7</td>\n",
       "    </tr>\n",
       "    <tr>\n",
       "      <td>2013-01-01 02:00:00</td>\n",
       "      <td>9.9</td>\n",
       "      <td>-2.0</td>\n",
       "    </tr>\n",
       "    <tr>\n",
       "      <td>2013-01-01 03:00:00</td>\n",
       "      <td>9.3</td>\n",
       "      <td>-2.1</td>\n",
       "    </tr>\n",
       "    <tr>\n",
       "      <td>2013-01-01 04:00:00</td>\n",
       "      <td>8.8</td>\n",
       "      <td>-2.3</td>\n",
       "    </tr>\n",
       "  </tbody>\n",
       "</table>\n",
       "</div>"
      ],
      "text/plain": [
       "                       LA   NY\n",
       "datetime                      \n",
       "2013-01-01 00:00:00  11.7 -1.1\n",
       "2013-01-01 01:00:00  10.7 -1.7\n",
       "2013-01-01 02:00:00   9.9 -2.0\n",
       "2013-01-01 03:00:00   9.3 -2.1\n",
       "2013-01-01 04:00:00   8.8 -2.3"
      ]
     },
     "execution_count": 183,
     "metadata": {},
     "output_type": "execute_result"
    }
   ],
   "source": [
    "temp.head()"
   ]
  },
  {
   "cell_type": "code",
   "execution_count": 184,
   "metadata": {},
   "outputs": [
    {
     "name": "stdout",
     "output_type": "stream",
     "text": [
      "<class 'pandas.core.frame.DataFrame'>\n",
      "DatetimeIndex: 35064 entries, 2013-01-01 00:00:00 to 2016-12-31 23:00:00\n",
      "Data columns (total 2 columns):\n",
      "LA    35062 non-null float64\n",
      "NY    35064 non-null float64\n",
      "dtypes: float64(2)\n",
      "memory usage: 821.8 KB\n"
     ]
    }
   ],
   "source": [
    "temp.info()"
   ]
  },
  {
   "cell_type": "code",
   "execution_count": 185,
   "metadata": {},
   "outputs": [
    {
     "data": {
      "text/html": [
       "<div>\n",
       "<style scoped>\n",
       "    .dataframe tbody tr th:only-of-type {\n",
       "        vertical-align: middle;\n",
       "    }\n",
       "\n",
       "    .dataframe tbody tr th {\n",
       "        vertical-align: top;\n",
       "    }\n",
       "\n",
       "    .dataframe thead th {\n",
       "        text-align: right;\n",
       "    }\n",
       "</style>\n",
       "<table border=\"1\" class=\"dataframe\">\n",
       "  <thead>\n",
       "    <tr style=\"text-align: right;\">\n",
       "      <th></th>\n",
       "      <th>LA</th>\n",
       "      <th>NY</th>\n",
       "    </tr>\n",
       "    <tr>\n",
       "      <th>datetime</th>\n",
       "      <th></th>\n",
       "      <th></th>\n",
       "    </tr>\n",
       "  </thead>\n",
       "  <tbody>\n",
       "    <tr>\n",
       "      <td>2013-01</td>\n",
       "      <td>11.596237</td>\n",
       "      <td>1.129570</td>\n",
       "    </tr>\n",
       "    <tr>\n",
       "      <td>2013-02</td>\n",
       "      <td>12.587202</td>\n",
       "      <td>0.617857</td>\n",
       "    </tr>\n",
       "    <tr>\n",
       "      <td>2013-03</td>\n",
       "      <td>15.069946</td>\n",
       "      <td>3.719220</td>\n",
       "    </tr>\n",
       "    <tr>\n",
       "      <td>2013-04</td>\n",
       "      <td>16.487361</td>\n",
       "      <td>10.699306</td>\n",
       "    </tr>\n",
       "    <tr>\n",
       "      <td>2013-05</td>\n",
       "      <td>19.005780</td>\n",
       "      <td>15.824328</td>\n",
       "    </tr>\n",
       "    <tr>\n",
       "      <td>2013-06</td>\n",
       "      <td>19.905417</td>\n",
       "      <td>22.225694</td>\n",
       "    </tr>\n",
       "    <tr>\n",
       "      <td>2013-07</td>\n",
       "      <td>22.093952</td>\n",
       "      <td>26.329704</td>\n",
       "    </tr>\n",
       "    <tr>\n",
       "      <td>2013-08</td>\n",
       "      <td>21.513172</td>\n",
       "      <td>22.480376</td>\n",
       "    </tr>\n",
       "    <tr>\n",
       "      <td>2013-09</td>\n",
       "      <td>22.404861</td>\n",
       "      <td>18.291806</td>\n",
       "    </tr>\n",
       "    <tr>\n",
       "      <td>2013-10</td>\n",
       "      <td>16.620430</td>\n",
       "      <td>14.335215</td>\n",
       "    </tr>\n",
       "    <tr>\n",
       "      <td>2013-11</td>\n",
       "      <td>15.107917</td>\n",
       "      <td>7.111944</td>\n",
       "    </tr>\n",
       "    <tr>\n",
       "      <td>2013-12</td>\n",
       "      <td>13.416935</td>\n",
       "      <td>2.776210</td>\n",
       "    </tr>\n",
       "  </tbody>\n",
       "</table>\n",
       "</div>"
      ],
      "text/plain": [
       "                 LA         NY\n",
       "datetime                      \n",
       "2013-01   11.596237   1.129570\n",
       "2013-02   12.587202   0.617857\n",
       "2013-03   15.069946   3.719220\n",
       "2013-04   16.487361  10.699306\n",
       "2013-05   19.005780  15.824328\n",
       "2013-06   19.905417  22.225694\n",
       "2013-07   22.093952  26.329704\n",
       "2013-08   21.513172  22.480376\n",
       "2013-09   22.404861  18.291806\n",
       "2013-10   16.620430  14.335215\n",
       "2013-11   15.107917   7.111944\n",
       "2013-12   13.416935   2.776210"
      ]
     },
     "execution_count": 185,
     "metadata": {},
     "output_type": "execute_result"
    }
   ],
   "source": [
    "temp_m = temp.resample(\"M\", kind = \"period\").mean()\n",
    "temp_m.head(12)"
   ]
  },
  {
   "cell_type": "code",
   "execution_count": 186,
   "metadata": {},
   "outputs": [
    {
     "name": "stdout",
     "output_type": "stream",
     "text": [
      "<class 'pandas.core.frame.DataFrame'>\n",
      "PeriodIndex: 48 entries, 2013-01 to 2016-12\n",
      "Freq: M\n",
      "Data columns (total 2 columns):\n",
      "LA    48 non-null float64\n",
      "NY    48 non-null float64\n",
      "dtypes: float64(2)\n",
      "memory usage: 1.1 KB\n"
     ]
    }
   ],
   "source": [
    "temp_m.info()"
   ]
  },
  {
   "cell_type": "code",
   "execution_count": 187,
   "metadata": {},
   "outputs": [
    {
     "data": {
      "text/plain": [
       "PeriodIndex(['2013-01', '2013-02', '2013-03', '2013-04', '2013-05', '2013-06',\n",
       "             '2013-07', '2013-08', '2013-09', '2013-10', '2013-11', '2013-12',\n",
       "             '2014-01', '2014-02', '2014-03', '2014-04', '2014-05', '2014-06',\n",
       "             '2014-07', '2014-08', '2014-09', '2014-10', '2014-11', '2014-12',\n",
       "             '2015-01', '2015-02', '2015-03', '2015-04', '2015-05', '2015-06',\n",
       "             '2015-07', '2015-08', '2015-09', '2015-10', '2015-11', '2015-12',\n",
       "             '2016-01', '2016-02', '2016-03', '2016-04', '2016-05', '2016-06',\n",
       "             '2016-07', '2016-08', '2016-09', '2016-10', '2016-11', '2016-12'],\n",
       "            dtype='period[M]', name='datetime', freq='M')"
      ]
     },
     "execution_count": 187,
     "metadata": {},
     "output_type": "execute_result"
    }
   ],
   "source": [
    "temp_m.index"
   ]
  },
  {
   "cell_type": "code",
   "execution_count": 189,
   "metadata": {},
   "outputs": [
    {
     "data": {
      "text/plain": [
       "LA    11.596237\n",
       "NY     1.129570\n",
       "Name: 2013-01, dtype: float64"
      ]
     },
     "execution_count": 189,
     "metadata": {},
     "output_type": "execute_result"
    }
   ],
   "source": [
    "temp_m.loc[\"2013-01\"]"
   ]
  },
  {
   "cell_type": "code",
   "execution_count": 190,
   "metadata": {},
   "outputs": [
    {
     "data": {
      "text/html": [
       "<div>\n",
       "<style scoped>\n",
       "    .dataframe tbody tr th:only-of-type {\n",
       "        vertical-align: middle;\n",
       "    }\n",
       "\n",
       "    .dataframe tbody tr th {\n",
       "        vertical-align: top;\n",
       "    }\n",
       "\n",
       "    .dataframe thead th {\n",
       "        text-align: right;\n",
       "    }\n",
       "</style>\n",
       "<table border=\"1\" class=\"dataframe\">\n",
       "  <thead>\n",
       "    <tr style=\"text-align: right;\">\n",
       "      <th></th>\n",
       "      <th>LA</th>\n",
       "      <th>NY</th>\n",
       "    </tr>\n",
       "    <tr>\n",
       "      <th>datetime</th>\n",
       "      <th></th>\n",
       "      <th></th>\n",
       "    </tr>\n",
       "  </thead>\n",
       "  <tbody>\n",
       "    <tr>\n",
       "      <td>2013-01</td>\n",
       "      <td>11.596237</td>\n",
       "      <td>1.129570</td>\n",
       "    </tr>\n",
       "    <tr>\n",
       "      <td>2013-02</td>\n",
       "      <td>12.587202</td>\n",
       "      <td>0.617857</td>\n",
       "    </tr>\n",
       "    <tr>\n",
       "      <td>2013-03</td>\n",
       "      <td>15.069946</td>\n",
       "      <td>3.719220</td>\n",
       "    </tr>\n",
       "    <tr>\n",
       "      <td>2013-04</td>\n",
       "      <td>16.487361</td>\n",
       "      <td>10.699306</td>\n",
       "    </tr>\n",
       "    <tr>\n",
       "      <td>2013-05</td>\n",
       "      <td>19.005780</td>\n",
       "      <td>15.824328</td>\n",
       "    </tr>\n",
       "    <tr>\n",
       "      <td>2013-06</td>\n",
       "      <td>19.905417</td>\n",
       "      <td>22.225694</td>\n",
       "    </tr>\n",
       "    <tr>\n",
       "      <td>2013-07</td>\n",
       "      <td>22.093952</td>\n",
       "      <td>26.329704</td>\n",
       "    </tr>\n",
       "    <tr>\n",
       "      <td>2013-08</td>\n",
       "      <td>21.513172</td>\n",
       "      <td>22.480376</td>\n",
       "    </tr>\n",
       "  </tbody>\n",
       "</table>\n",
       "</div>"
      ],
      "text/plain": [
       "                 LA         NY\n",
       "datetime                      \n",
       "2013-01   11.596237   1.129570\n",
       "2013-02   12.587202   0.617857\n",
       "2013-03   15.069946   3.719220\n",
       "2013-04   16.487361  10.699306\n",
       "2013-05   19.005780  15.824328\n",
       "2013-06   19.905417  22.225694\n",
       "2013-07   22.093952  26.329704\n",
       "2013-08   21.513172  22.480376"
      ]
     },
     "execution_count": 190,
     "metadata": {},
     "output_type": "execute_result"
    }
   ],
   "source": [
    "temp_m.loc[\"2013-01\":\"2013-08\"]"
   ]
  },
  {
   "cell_type": "code",
   "execution_count": 191,
   "metadata": {},
   "outputs": [
    {
     "data": {
      "text/plain": [
       "LA    11.596237\n",
       "NY     1.129570\n",
       "Name: 2013-01, dtype: float64"
      ]
     },
     "execution_count": 191,
     "metadata": {},
     "output_type": "execute_result"
    }
   ],
   "source": [
    "temp_m.loc[\"2013\"]"
   ]
  },
  {
   "cell_type": "code",
   "execution_count": 192,
   "metadata": {},
   "outputs": [
    {
     "data": {
      "text/html": [
       "<div>\n",
       "<style scoped>\n",
       "    .dataframe tbody tr th:only-of-type {\n",
       "        vertical-align: middle;\n",
       "    }\n",
       "\n",
       "    .dataframe tbody tr th {\n",
       "        vertical-align: top;\n",
       "    }\n",
       "\n",
       "    .dataframe thead th {\n",
       "        text-align: right;\n",
       "    }\n",
       "</style>\n",
       "<table border=\"1\" class=\"dataframe\">\n",
       "  <thead>\n",
       "    <tr style=\"text-align: right;\">\n",
       "      <th></th>\n",
       "      <th>LA</th>\n",
       "      <th>NY</th>\n",
       "    </tr>\n",
       "    <tr>\n",
       "      <th>datetime</th>\n",
       "      <th></th>\n",
       "      <th></th>\n",
       "    </tr>\n",
       "  </thead>\n",
       "  <tbody>\n",
       "    <tr>\n",
       "      <td>2013-01-01</td>\n",
       "      <td>11.596237</td>\n",
       "      <td>1.129570</td>\n",
       "    </tr>\n",
       "    <tr>\n",
       "      <td>2013-02-01</td>\n",
       "      <td>12.587202</td>\n",
       "      <td>0.617857</td>\n",
       "    </tr>\n",
       "    <tr>\n",
       "      <td>2013-03-01</td>\n",
       "      <td>15.069946</td>\n",
       "      <td>3.719220</td>\n",
       "    </tr>\n",
       "    <tr>\n",
       "      <td>2013-04-01</td>\n",
       "      <td>16.487361</td>\n",
       "      <td>10.699306</td>\n",
       "    </tr>\n",
       "    <tr>\n",
       "      <td>2013-05-01</td>\n",
       "      <td>19.005780</td>\n",
       "      <td>15.824328</td>\n",
       "    </tr>\n",
       "    <tr>\n",
       "      <td>2013-06-01</td>\n",
       "      <td>19.905417</td>\n",
       "      <td>22.225694</td>\n",
       "    </tr>\n",
       "    <tr>\n",
       "      <td>2013-07-01</td>\n",
       "      <td>22.093952</td>\n",
       "      <td>26.329704</td>\n",
       "    </tr>\n",
       "    <tr>\n",
       "      <td>2013-08-01</td>\n",
       "      <td>21.513172</td>\n",
       "      <td>22.480376</td>\n",
       "    </tr>\n",
       "    <tr>\n",
       "      <td>2013-09-01</td>\n",
       "      <td>22.404861</td>\n",
       "      <td>18.291806</td>\n",
       "    </tr>\n",
       "    <tr>\n",
       "      <td>2013-10-01</td>\n",
       "      <td>16.620430</td>\n",
       "      <td>14.335215</td>\n",
       "    </tr>\n",
       "    <tr>\n",
       "      <td>2013-11-01</td>\n",
       "      <td>15.107917</td>\n",
       "      <td>7.111944</td>\n",
       "    </tr>\n",
       "    <tr>\n",
       "      <td>2013-12-01</td>\n",
       "      <td>13.416935</td>\n",
       "      <td>2.776210</td>\n",
       "    </tr>\n",
       "    <tr>\n",
       "      <td>2014-01-01</td>\n",
       "      <td>16.247715</td>\n",
       "      <td>-2.210349</td>\n",
       "    </tr>\n",
       "    <tr>\n",
       "      <td>2014-02-01</td>\n",
       "      <td>14.326637</td>\n",
       "      <td>-1.596280</td>\n",
       "    </tr>\n",
       "    <tr>\n",
       "      <td>2014-03-01</td>\n",
       "      <td>15.836156</td>\n",
       "      <td>1.994758</td>\n",
       "    </tr>\n",
       "    <tr>\n",
       "      <td>2014-04-01</td>\n",
       "      <td>16.783472</td>\n",
       "      <td>10.128611</td>\n",
       "    </tr>\n",
       "    <tr>\n",
       "      <td>2014-05-01</td>\n",
       "      <td>20.041398</td>\n",
       "      <td>16.829167</td>\n",
       "    </tr>\n",
       "    <tr>\n",
       "      <td>2014-06-01</td>\n",
       "      <td>19.810556</td>\n",
       "      <td>21.784861</td>\n",
       "    </tr>\n",
       "    <tr>\n",
       "      <td>2014-07-01</td>\n",
       "      <td>23.056183</td>\n",
       "      <td>24.019624</td>\n",
       "    </tr>\n",
       "    <tr>\n",
       "      <td>2014-08-01</td>\n",
       "      <td>22.146102</td>\n",
       "      <td>21.848387</td>\n",
       "    </tr>\n",
       "    <tr>\n",
       "      <td>2014-09-01</td>\n",
       "      <td>21.620278</td>\n",
       "      <td>19.267222</td>\n",
       "    </tr>\n",
       "    <tr>\n",
       "      <td>2014-10-01</td>\n",
       "      <td>16.968280</td>\n",
       "      <td>14.265860</td>\n",
       "    </tr>\n",
       "    <tr>\n",
       "      <td>2014-11-01</td>\n",
       "      <td>11.322083</td>\n",
       "      <td>5.719167</td>\n",
       "    </tr>\n",
       "    <tr>\n",
       "      <td>2014-12-01</td>\n",
       "      <td>8.523925</td>\n",
       "      <td>3.513844</td>\n",
       "    </tr>\n",
       "    <tr>\n",
       "      <td>2015-01-01</td>\n",
       "      <td>9.527016</td>\n",
       "      <td>-4.179301</td>\n",
       "    </tr>\n",
       "    <tr>\n",
       "      <td>2015-02-01</td>\n",
       "      <td>11.587649</td>\n",
       "      <td>-7.239732</td>\n",
       "    </tr>\n",
       "    <tr>\n",
       "      <td>2015-03-01</td>\n",
       "      <td>14.465995</td>\n",
       "      <td>1.020161</td>\n",
       "    </tr>\n",
       "    <tr>\n",
       "      <td>2015-04-01</td>\n",
       "      <td>13.527917</td>\n",
       "      <td>10.180417</td>\n",
       "    </tr>\n",
       "    <tr>\n",
       "      <td>2015-05-01</td>\n",
       "      <td>14.540054</td>\n",
       "      <td>18.731586</td>\n",
       "    </tr>\n",
       "    <tr>\n",
       "      <td>2015-06-01</td>\n",
       "      <td>20.995000</td>\n",
       "      <td>20.347500</td>\n",
       "    </tr>\n",
       "    <tr>\n",
       "      <td>2015-07-01</td>\n",
       "      <td>22.899059</td>\n",
       "      <td>24.252151</td>\n",
       "    </tr>\n",
       "    <tr>\n",
       "      <td>2015-08-01</td>\n",
       "      <td>24.846909</td>\n",
       "      <td>24.046774</td>\n",
       "    </tr>\n",
       "    <tr>\n",
       "      <td>2015-09-01</td>\n",
       "      <td>24.586250</td>\n",
       "      <td>21.589861</td>\n",
       "    </tr>\n",
       "    <tr>\n",
       "      <td>2015-10-01</td>\n",
       "      <td>21.785753</td>\n",
       "      <td>12.656452</td>\n",
       "    </tr>\n",
       "    <tr>\n",
       "      <td>2015-11-01</td>\n",
       "      <td>15.255278</td>\n",
       "      <td>10.117500</td>\n",
       "    </tr>\n",
       "    <tr>\n",
       "      <td>2015-12-01</td>\n",
       "      <td>11.919758</td>\n",
       "      <td>8.662500</td>\n",
       "    </tr>\n",
       "    <tr>\n",
       "      <td>2016-01-01</td>\n",
       "      <td>12.509274</td>\n",
       "      <td>0.168952</td>\n",
       "    </tr>\n",
       "    <tr>\n",
       "      <td>2016-02-01</td>\n",
       "      <td>16.600431</td>\n",
       "      <td>2.069971</td>\n",
       "    </tr>\n",
       "    <tr>\n",
       "      <td>2016-03-01</td>\n",
       "      <td>15.686425</td>\n",
       "      <td>8.070430</td>\n",
       "    </tr>\n",
       "    <tr>\n",
       "      <td>2016-04-01</td>\n",
       "      <td>17.726111</td>\n",
       "      <td>10.535556</td>\n",
       "    </tr>\n",
       "    <tr>\n",
       "      <td>2016-05-01</td>\n",
       "      <td>17.375403</td>\n",
       "      <td>15.874462</td>\n",
       "    </tr>\n",
       "    <tr>\n",
       "      <td>2016-06-01</td>\n",
       "      <td>22.536111</td>\n",
       "      <td>21.462639</td>\n",
       "    </tr>\n",
       "    <tr>\n",
       "      <td>2016-07-01</td>\n",
       "      <td>24.541532</td>\n",
       "      <td>24.767608</td>\n",
       "    </tr>\n",
       "    <tr>\n",
       "      <td>2016-08-01</td>\n",
       "      <td>23.983199</td>\n",
       "      <td>25.351882</td>\n",
       "    </tr>\n",
       "    <tr>\n",
       "      <td>2016-09-01</td>\n",
       "      <td>22.379306</td>\n",
       "      <td>21.032778</td>\n",
       "    </tr>\n",
       "    <tr>\n",
       "      <td>2016-10-01</td>\n",
       "      <td>16.137903</td>\n",
       "      <td>14.321640</td>\n",
       "    </tr>\n",
       "    <tr>\n",
       "      <td>2016-11-01</td>\n",
       "      <td>17.196111</td>\n",
       "      <td>8.539722</td>\n",
       "    </tr>\n",
       "    <tr>\n",
       "      <td>2016-12-01</td>\n",
       "      <td>13.390457</td>\n",
       "      <td>2.327285</td>\n",
       "    </tr>\n",
       "  </tbody>\n",
       "</table>\n",
       "</div>"
      ],
      "text/plain": [
       "                   LA         NY\n",
       "datetime                        \n",
       "2013-01-01  11.596237   1.129570\n",
       "2013-02-01  12.587202   0.617857\n",
       "2013-03-01  15.069946   3.719220\n",
       "2013-04-01  16.487361  10.699306\n",
       "2013-05-01  19.005780  15.824328\n",
       "2013-06-01  19.905417  22.225694\n",
       "2013-07-01  22.093952  26.329704\n",
       "2013-08-01  21.513172  22.480376\n",
       "2013-09-01  22.404861  18.291806\n",
       "2013-10-01  16.620430  14.335215\n",
       "2013-11-01  15.107917   7.111944\n",
       "2013-12-01  13.416935   2.776210\n",
       "2014-01-01  16.247715  -2.210349\n",
       "2014-02-01  14.326637  -1.596280\n",
       "2014-03-01  15.836156   1.994758\n",
       "2014-04-01  16.783472  10.128611\n",
       "2014-05-01  20.041398  16.829167\n",
       "2014-06-01  19.810556  21.784861\n",
       "2014-07-01  23.056183  24.019624\n",
       "2014-08-01  22.146102  21.848387\n",
       "2014-09-01  21.620278  19.267222\n",
       "2014-10-01  16.968280  14.265860\n",
       "2014-11-01  11.322083   5.719167\n",
       "2014-12-01   8.523925   3.513844\n",
       "2015-01-01   9.527016  -4.179301\n",
       "2015-02-01  11.587649  -7.239732\n",
       "2015-03-01  14.465995   1.020161\n",
       "2015-04-01  13.527917  10.180417\n",
       "2015-05-01  14.540054  18.731586\n",
       "2015-06-01  20.995000  20.347500\n",
       "2015-07-01  22.899059  24.252151\n",
       "2015-08-01  24.846909  24.046774\n",
       "2015-09-01  24.586250  21.589861\n",
       "2015-10-01  21.785753  12.656452\n",
       "2015-11-01  15.255278  10.117500\n",
       "2015-12-01  11.919758   8.662500\n",
       "2016-01-01  12.509274   0.168952\n",
       "2016-02-01  16.600431   2.069971\n",
       "2016-03-01  15.686425   8.070430\n",
       "2016-04-01  17.726111  10.535556\n",
       "2016-05-01  17.375403  15.874462\n",
       "2016-06-01  22.536111  21.462639\n",
       "2016-07-01  24.541532  24.767608\n",
       "2016-08-01  23.983199  25.351882\n",
       "2016-09-01  22.379306  21.032778\n",
       "2016-10-01  16.137903  14.321640\n",
       "2016-11-01  17.196111   8.539722\n",
       "2016-12-01  13.390457   2.327285"
      ]
     },
     "execution_count": 192,
     "metadata": {},
     "output_type": "execute_result"
    }
   ],
   "source": [
    "temp_m.to_timestamp(how=\"start\")"
   ]
  },
  {
   "cell_type": "markdown",
   "metadata": {},
   "source": [
    "## Advanced Indexing with reindex()"
   ]
  },
  {
   "cell_type": "code",
   "execution_count": 193,
   "metadata": {},
   "outputs": [
    {
     "data": {
      "text/html": [
       "<div>\n",
       "<style scoped>\n",
       "    .dataframe tbody tr th:only-of-type {\n",
       "        vertical-align: middle;\n",
       "    }\n",
       "\n",
       "    .dataframe tbody tr th {\n",
       "        vertical-align: top;\n",
       "    }\n",
       "\n",
       "    .dataframe thead th {\n",
       "        text-align: right;\n",
       "    }\n",
       "</style>\n",
       "<table border=\"1\" class=\"dataframe\">\n",
       "  <thead>\n",
       "    <tr style=\"text-align: right;\">\n",
       "      <th></th>\n",
       "      <th>LA</th>\n",
       "      <th>NY</th>\n",
       "    </tr>\n",
       "    <tr>\n",
       "      <th>datetime</th>\n",
       "      <th></th>\n",
       "      <th></th>\n",
       "    </tr>\n",
       "  </thead>\n",
       "  <tbody>\n",
       "    <tr>\n",
       "      <td>2013-01-01</td>\n",
       "      <td>8.858333</td>\n",
       "      <td>-0.404167</td>\n",
       "    </tr>\n",
       "    <tr>\n",
       "      <td>2013-01-02</td>\n",
       "      <td>9.283333</td>\n",
       "      <td>3.208333</td>\n",
       "    </tr>\n",
       "    <tr>\n",
       "      <td>2013-01-03</td>\n",
       "      <td>10.304167</td>\n",
       "      <td>-2.425000</td>\n",
       "    </tr>\n",
       "    <tr>\n",
       "      <td>2013-01-04</td>\n",
       "      <td>11.512500</td>\n",
       "      <td>-2.070833</td>\n",
       "    </tr>\n",
       "    <tr>\n",
       "      <td>2013-01-05</td>\n",
       "      <td>11.083333</td>\n",
       "      <td>0.816667</td>\n",
       "    </tr>\n",
       "    <tr>\n",
       "      <td>...</td>\n",
       "      <td>...</td>\n",
       "      <td>...</td>\n",
       "    </tr>\n",
       "    <tr>\n",
       "      <td>2016-12-27</td>\n",
       "      <td>12.154167</td>\n",
       "      <td>10.579167</td>\n",
       "    </tr>\n",
       "    <tr>\n",
       "      <td>2016-12-28</td>\n",
       "      <td>14.433333</td>\n",
       "      <td>4.016667</td>\n",
       "    </tr>\n",
       "    <tr>\n",
       "      <td>2016-12-29</td>\n",
       "      <td>16.045833</td>\n",
       "      <td>1.312500</td>\n",
       "    </tr>\n",
       "    <tr>\n",
       "      <td>2016-12-30</td>\n",
       "      <td>15.933333</td>\n",
       "      <td>2.204167</td>\n",
       "    </tr>\n",
       "    <tr>\n",
       "      <td>2016-12-31</td>\n",
       "      <td>13.275000</td>\n",
       "      <td>1.204167</td>\n",
       "    </tr>\n",
       "  </tbody>\n",
       "</table>\n",
       "<p>1461 rows × 2 columns</p>\n",
       "</div>"
      ],
      "text/plain": [
       "                   LA         NY\n",
       "datetime                        \n",
       "2013-01-01   8.858333  -0.404167\n",
       "2013-01-02   9.283333   3.208333\n",
       "2013-01-03  10.304167  -2.425000\n",
       "2013-01-04  11.512500  -2.070833\n",
       "2013-01-05  11.083333   0.816667\n",
       "...               ...        ...\n",
       "2016-12-27  12.154167  10.579167\n",
       "2016-12-28  14.433333   4.016667\n",
       "2016-12-29  16.045833   1.312500\n",
       "2016-12-30  15.933333   2.204167\n",
       "2016-12-31  13.275000   1.204167\n",
       "\n",
       "[1461 rows x 2 columns]"
      ]
     },
     "execution_count": 193,
     "metadata": {},
     "output_type": "execute_result"
    }
   ],
   "source": [
    "temp_d = temp.resample(\"D\").mean()\n",
    "temp_d"
   ]
  },
  {
   "cell_type": "code",
   "execution_count": 194,
   "metadata": {},
   "outputs": [
    {
     "data": {
      "text/plain": [
       "DatetimeIndex(['2009-12-24', '2010-12-24', '2011-12-24', '2012-12-24',\n",
       "               '2013-12-24', '2014-12-24', '2015-12-24', '2016-12-24',\n",
       "               '2017-12-24', '2018-12-24'],\n",
       "              dtype='datetime64[ns]', freq='<DateOffset: years=1>')"
      ]
     },
     "execution_count": 194,
     "metadata": {},
     "output_type": "execute_result"
    }
   ],
   "source": [
    "birthd = pd.date_range(end = \"2018-12-24\", periods = 10,  freq = pd.DateOffset(years = 1))\n",
    "birthd"
   ]
  },
  {
   "cell_type": "code",
   "execution_count": 195,
   "metadata": {},
   "outputs": [
    {
     "name": "stderr",
     "output_type": "stream",
     "text": [
      "C:\\Users\\prash\\Anaconda3\\lib\\site-packages\\ipykernel_launcher.py:1: FutureWarning: \n",
      "Passing list-likes to .loc or [] with any missing label will raise\n",
      "KeyError in the future, you can use .reindex() as an alternative.\n",
      "\n",
      "See the documentation here:\n",
      "https://pandas.pydata.org/pandas-docs/stable/user_guide/indexing.html#deprecate-loc-reindex-listlike\n",
      "  \"\"\"Entry point for launching an IPython kernel.\n"
     ]
    },
    {
     "data": {
      "text/html": [
       "<div>\n",
       "<style scoped>\n",
       "    .dataframe tbody tr th:only-of-type {\n",
       "        vertical-align: middle;\n",
       "    }\n",
       "\n",
       "    .dataframe tbody tr th {\n",
       "        vertical-align: top;\n",
       "    }\n",
       "\n",
       "    .dataframe thead th {\n",
       "        text-align: right;\n",
       "    }\n",
       "</style>\n",
       "<table border=\"1\" class=\"dataframe\">\n",
       "  <thead>\n",
       "    <tr style=\"text-align: right;\">\n",
       "      <th></th>\n",
       "      <th>LA</th>\n",
       "      <th>NY</th>\n",
       "    </tr>\n",
       "  </thead>\n",
       "  <tbody>\n",
       "    <tr>\n",
       "      <td>2009-12-24</td>\n",
       "      <td>NaN</td>\n",
       "      <td>NaN</td>\n",
       "    </tr>\n",
       "    <tr>\n",
       "      <td>2010-12-24</td>\n",
       "      <td>NaN</td>\n",
       "      <td>NaN</td>\n",
       "    </tr>\n",
       "    <tr>\n",
       "      <td>2011-12-24</td>\n",
       "      <td>NaN</td>\n",
       "      <td>NaN</td>\n",
       "    </tr>\n",
       "    <tr>\n",
       "      <td>2012-12-24</td>\n",
       "      <td>NaN</td>\n",
       "      <td>NaN</td>\n",
       "    </tr>\n",
       "    <tr>\n",
       "      <td>2013-12-24</td>\n",
       "      <td>16.158333</td>\n",
       "      <td>3.487500</td>\n",
       "    </tr>\n",
       "    <tr>\n",
       "      <td>2014-12-24</td>\n",
       "      <td>10.712500</td>\n",
       "      <td>8.045833</td>\n",
       "    </tr>\n",
       "    <tr>\n",
       "      <td>2015-12-24</td>\n",
       "      <td>10.716667</td>\n",
       "      <td>17.462500</td>\n",
       "    </tr>\n",
       "    <tr>\n",
       "      <td>2016-12-24</td>\n",
       "      <td>11.820833</td>\n",
       "      <td>4.045833</td>\n",
       "    </tr>\n",
       "    <tr>\n",
       "      <td>2017-12-24</td>\n",
       "      <td>NaN</td>\n",
       "      <td>NaN</td>\n",
       "    </tr>\n",
       "    <tr>\n",
       "      <td>2018-12-24</td>\n",
       "      <td>NaN</td>\n",
       "      <td>NaN</td>\n",
       "    </tr>\n",
       "  </tbody>\n",
       "</table>\n",
       "</div>"
      ],
      "text/plain": [
       "                   LA         NY\n",
       "2009-12-24        NaN        NaN\n",
       "2010-12-24        NaN        NaN\n",
       "2011-12-24        NaN        NaN\n",
       "2012-12-24        NaN        NaN\n",
       "2013-12-24  16.158333   3.487500\n",
       "2014-12-24  10.712500   8.045833\n",
       "2015-12-24  10.716667  17.462500\n",
       "2016-12-24  11.820833   4.045833\n",
       "2017-12-24        NaN        NaN\n",
       "2018-12-24        NaN        NaN"
      ]
     },
     "execution_count": 195,
     "metadata": {},
     "output_type": "execute_result"
    }
   ],
   "source": [
    "temp_d.loc[birthd]"
   ]
  },
  {
   "cell_type": "code",
   "execution_count": 196,
   "metadata": {},
   "outputs": [
    {
     "data": {
      "text/html": [
       "<div>\n",
       "<style scoped>\n",
       "    .dataframe tbody tr th:only-of-type {\n",
       "        vertical-align: middle;\n",
       "    }\n",
       "\n",
       "    .dataframe tbody tr th {\n",
       "        vertical-align: top;\n",
       "    }\n",
       "\n",
       "    .dataframe thead th {\n",
       "        text-align: right;\n",
       "    }\n",
       "</style>\n",
       "<table border=\"1\" class=\"dataframe\">\n",
       "  <thead>\n",
       "    <tr style=\"text-align: right;\">\n",
       "      <th></th>\n",
       "      <th>LA</th>\n",
       "      <th>NY</th>\n",
       "    </tr>\n",
       "  </thead>\n",
       "  <tbody>\n",
       "    <tr>\n",
       "      <td>2009-12-24</td>\n",
       "      <td>NaN</td>\n",
       "      <td>NaN</td>\n",
       "    </tr>\n",
       "    <tr>\n",
       "      <td>2010-12-24</td>\n",
       "      <td>NaN</td>\n",
       "      <td>NaN</td>\n",
       "    </tr>\n",
       "    <tr>\n",
       "      <td>2011-12-24</td>\n",
       "      <td>NaN</td>\n",
       "      <td>NaN</td>\n",
       "    </tr>\n",
       "    <tr>\n",
       "      <td>2012-12-24</td>\n",
       "      <td>NaN</td>\n",
       "      <td>NaN</td>\n",
       "    </tr>\n",
       "    <tr>\n",
       "      <td>2013-12-24</td>\n",
       "      <td>16.158333</td>\n",
       "      <td>3.487500</td>\n",
       "    </tr>\n",
       "    <tr>\n",
       "      <td>2014-12-24</td>\n",
       "      <td>10.712500</td>\n",
       "      <td>8.045833</td>\n",
       "    </tr>\n",
       "    <tr>\n",
       "      <td>2015-12-24</td>\n",
       "      <td>10.716667</td>\n",
       "      <td>17.462500</td>\n",
       "    </tr>\n",
       "    <tr>\n",
       "      <td>2016-12-24</td>\n",
       "      <td>11.820833</td>\n",
       "      <td>4.045833</td>\n",
       "    </tr>\n",
       "    <tr>\n",
       "      <td>2017-12-24</td>\n",
       "      <td>NaN</td>\n",
       "      <td>NaN</td>\n",
       "    </tr>\n",
       "    <tr>\n",
       "      <td>2018-12-24</td>\n",
       "      <td>NaN</td>\n",
       "      <td>NaN</td>\n",
       "    </tr>\n",
       "  </tbody>\n",
       "</table>\n",
       "</div>"
      ],
      "text/plain": [
       "                   LA         NY\n",
       "2009-12-24        NaN        NaN\n",
       "2010-12-24        NaN        NaN\n",
       "2011-12-24        NaN        NaN\n",
       "2012-12-24        NaN        NaN\n",
       "2013-12-24  16.158333   3.487500\n",
       "2014-12-24  10.712500   8.045833\n",
       "2015-12-24  10.716667  17.462500\n",
       "2016-12-24  11.820833   4.045833\n",
       "2017-12-24        NaN        NaN\n",
       "2018-12-24        NaN        NaN"
      ]
     },
     "execution_count": 196,
     "metadata": {},
     "output_type": "execute_result"
    }
   ],
   "source": [
    "temp_d.reindex(birthd)"
   ]
  },
  {
   "cell_type": "code",
   "execution_count": 197,
   "metadata": {},
   "outputs": [
    {
     "data": {
      "text/html": [
       "<div>\n",
       "<style scoped>\n",
       "    .dataframe tbody tr th:only-of-type {\n",
       "        vertical-align: middle;\n",
       "    }\n",
       "\n",
       "    .dataframe tbody tr th {\n",
       "        vertical-align: top;\n",
       "    }\n",
       "\n",
       "    .dataframe thead th {\n",
       "        text-align: right;\n",
       "    }\n",
       "</style>\n",
       "<table border=\"1\" class=\"dataframe\">\n",
       "  <thead>\n",
       "    <tr style=\"text-align: right;\">\n",
       "      <th></th>\n",
       "      <th>LA</th>\n",
       "      <th>NY</th>\n",
       "    </tr>\n",
       "    <tr>\n",
       "      <th>datetime</th>\n",
       "      <th></th>\n",
       "      <th></th>\n",
       "    </tr>\n",
       "  </thead>\n",
       "  <tbody>\n",
       "    <tr>\n",
       "      <td>2013-01-01 00:00:00</td>\n",
       "      <td>11.7</td>\n",
       "      <td>-1.1</td>\n",
       "    </tr>\n",
       "    <tr>\n",
       "      <td>2013-01-01 01:00:00</td>\n",
       "      <td>10.7</td>\n",
       "      <td>-1.7</td>\n",
       "    </tr>\n",
       "    <tr>\n",
       "      <td>2013-01-01 02:00:00</td>\n",
       "      <td>9.9</td>\n",
       "      <td>-2.0</td>\n",
       "    </tr>\n",
       "    <tr>\n",
       "      <td>2013-01-01 03:00:00</td>\n",
       "      <td>9.3</td>\n",
       "      <td>-2.1</td>\n",
       "    </tr>\n",
       "    <tr>\n",
       "      <td>2013-01-01 04:00:00</td>\n",
       "      <td>8.8</td>\n",
       "      <td>-2.3</td>\n",
       "    </tr>\n",
       "  </tbody>\n",
       "</table>\n",
       "</div>"
      ],
      "text/plain": [
       "                       LA   NY\n",
       "datetime                      \n",
       "2013-01-01 00:00:00  11.7 -1.1\n",
       "2013-01-01 01:00:00  10.7 -1.7\n",
       "2013-01-01 02:00:00   9.9 -2.0\n",
       "2013-01-01 03:00:00   9.3 -2.1\n",
       "2013-01-01 04:00:00   8.8 -2.3"
      ]
     },
     "execution_count": 197,
     "metadata": {},
     "output_type": "execute_result"
    }
   ],
   "source": [
    "temp.head()"
   ]
  },
  {
   "cell_type": "code",
   "execution_count": null,
   "metadata": {},
   "outputs": [],
   "source": []
  }
 ],
 "metadata": {
  "kernelspec": {
   "display_name": "Python 3",
   "language": "python",
   "name": "python3"
  },
  "language_info": {
   "codemirror_mode": {
    "name": "ipython",
    "version": 3
   },
   "file_extension": ".py",
   "mimetype": "text/x-python",
   "name": "python",
   "nbconvert_exporter": "python",
   "pygments_lexer": "ipython3",
   "version": "3.7.4"
  }
 },
 "nbformat": 4,
 "nbformat_minor": 2
}
